{
 "cells": [
  {
   "cell_type": "code",
   "execution_count": 6,
   "id": "abd4ca0a",
   "metadata": {},
   "outputs": [
    {
     "data": {
      "text/plain": [
       "True"
      ]
     },
     "execution_count": 6,
     "metadata": {},
     "output_type": "execute_result"
    }
   ],
   "source": [
    "import os\n",
    "from docx import Document\n",
    "from datetime import datetime\n",
    "from typing import List, Dict\n",
    "from langchain_groq import ChatGroq\n",
    "from langchain_core.tools import tool\n",
    "from langchain_openai import ChatOpenAI\n",
    "from IPython.display import Image,display\n",
    "from langgraph.prebuilt import ToolNode, tools_condition\n",
    "from langchain_google_genai import ChatGoogleGenerativeAI\n",
    "from langchain_community.tools import DuckDuckGoSearchRun\n",
    "from langchain_core.messages import HumanMessage, AIMessage\n",
    "from langgraph.graph import StateGraph, END, MessagesState, START\n",
    "\n",
    "from dotenv import load_dotenv\n",
    "load_dotenv()"
   ]
  },
  {
   "cell_type": "code",
   "execution_count": 7,
   "id": "2592f24a",
   "metadata": {},
   "outputs": [
    {
     "name": "stdout",
     "output_type": "stream",
     "text": [
      "content='Hello! How can I assist you today?' additional_kwargs={'refusal': None} response_metadata={'token_usage': {'completion_tokens': 9, 'prompt_tokens': 8, 'total_tokens': 17, 'completion_tokens_details': {'accepted_prediction_tokens': 0, 'audio_tokens': 0, 'reasoning_tokens': 0, 'rejected_prediction_tokens': 0}, 'prompt_tokens_details': {'audio_tokens': 0, 'cached_tokens': 0}}, 'model_name': 'gpt-4o-2024-08-06', 'system_fingerprint': 'fp_a288987b44', 'id': 'chatcmpl-BkC40ntrN4Hwv5Cl9SjhgmyqGitUv', 'service_tier': 'default', 'finish_reason': 'stop', 'logprobs': None} id='run--a4fcdd6c-1508-4679-8e0c-4acb95517782-0' usage_metadata={'input_tokens': 8, 'output_tokens': 9, 'total_tokens': 17, 'input_token_details': {'audio': 0, 'cache_read': 0}, 'output_token_details': {'audio': 0, 'reasoning': 0}}\n"
     ]
    }
   ],
   "source": [
    "llm = ChatOpenAI(model='gpt-4o')\n",
    "response = llm.invoke(\"Hi\")\n",
    "print(response)"
   ]
  },
  {
   "cell_type": "code",
   "execution_count": 8,
   "id": "9f329aca",
   "metadata": {},
   "outputs": [],
   "source": [
    "class TravelPlanner:\n",
    "    def __init__(self, city: str, start_date: str, end_date: str):\n",
    "        self.city = city\n",
    "        self.start_date = start_date\n",
    "        self.end_date = end_date\n",
    "        self.trip_days = (datetime.strptime(end_date, \"%Y-%m-%d\") - datetime.strptime(start_date, \"%Y-%m-%d\")).days + 1"
   ]
  },
  {
   "cell_type": "code",
   "execution_count": 9,
   "id": "8083951b",
   "metadata": {},
   "outputs": [],
   "source": [
    "@tool\n",
    "def get_attractions_and_activities(city: str) -> str:\n",
    "    \"\"\"Get top attractions and activities for a given city.\"\"\"\n",
    "    return f\"Top attractions and activities in {city} include...\""
   ]
  },
  {
   "cell_type": "code",
   "execution_count": 10,
   "id": "e0c55ec9",
   "metadata": {},
   "outputs": [],
   "source": [
    "@tool\n",
    "def get_weather_forecast(city: str, start_date: str, end_date: str) -> str:\n",
    "    \"\"\"Get weather forecast for a given city and date range.\"\"\"\n",
    "    return f\"Weather in {city} from {start_date} to {end_date} will be...\""
   ]
  },
  {
   "cell_type": "code",
   "execution_count": 11,
   "id": "d89f5e31",
   "metadata": {},
   "outputs": [],
   "source": [
    "@tool\n",
    "def get_hotels_and_transport(city: str, trip_days: int) -> str:\n",
    "    \"\"\"Estimate hotel and transport costs for the trip duration.\"\"\"\n",
    "    return f\"Estimated hotel and transport cost in {city} for {trip_days} days is...\""
   ]
  },
  {
   "cell_type": "code",
   "execution_count": 12,
   "id": "06ac2472",
   "metadata": {},
   "outputs": [],
   "source": [
    "@tool\n",
    "def generate_itinerary(city: str, start_date: str, end_date: str) -> str:\n",
    "    \"\"\"Generate an itinerary plan for the travel duration.\"\"\"\n",
    "    return f\"Day-wise itinerary for {city} from {start_date} to {end_date} is...\""
   ]
  },
  {
   "cell_type": "code",
   "execution_count": 13,
   "id": "318ad51e",
   "metadata": {},
   "outputs": [],
   "source": [
    "@tool\n",
    "def summarize_trip(city: str, start_date: str, end_date: str) -> str:\n",
    "    \"\"\"One tool to summarize the entire trip, including attractions, weather, hotels, and itinerary.\"\"\"\n",
    "    trip_days = (datetime.strptime(end_date, \"%Y-%m-%d\") - datetime.strptime(start_date, \"%Y-%m-%d\")).days + 1\n",
    "    attractions = get_attractions_and_activities(city)\n",
    "    weather = get_weather_forecast(city, start_date, end_date)\n",
    "    hotels = get_hotels_and_transport(city, trip_days)\n",
    "    itinerary = generate_itinerary(city, start_date, end_date)\n",
    "\n",
    "    return f\"\"\"\n",
    "--- Trip Summary ---\n",
    "🏙️ Attractions: {attractions}\n",
    "🌦️ Weather: {weather}\n",
    "🏨 Hotels: {hotels}\n",
    "🗺️ Itinerary: {itinerary}\n",
    "--------------------\n",
    "\"\"\".strip()"
   ]
  },
  {
   "cell_type": "code",
   "execution_count": 14,
   "id": "2373a7e4",
   "metadata": {},
   "outputs": [],
   "source": [
    "search = DuckDuckGoSearchRun()"
   ]
  },
  {
   "cell_type": "code",
   "execution_count": 15,
   "id": "f6548d1f",
   "metadata": {},
   "outputs": [
    {
     "data": {
      "text/plain": [
       "'CUPERTINO, CALIFORNIA Apple today previewed iOS 26, a major update that brings a beautiful new design, intelligent experiences, and improvements to the apps users rely on every day.The new design provides a more expressive and delightful experience across the system while maintaining the instant familiarity of iOS. Apple announced the latest iPhone software, iOS 26, on Monday, June 9. The first release for developers came later the same day. Just three days later, Apple released a second build of the first ... The iOS 26 beta version differs slightly from the general release. Beta testers are given a release that has recently exited its alpha phase, so problems and bugs are expected to arise. Go to Settings > Software Update > Beta Updates > Select iOS 26 Public Beta when available. General Release A general or stable release allows every compatible iPhone to run iOS 26. Apple Maps in iOS 26 (Image credit: Apple). As well as those aforementioned updates to iMessage and the Phone app, Apple is also updating various other core iPhone apps in iOS 26.'"
      ]
     },
     "execution_count": 15,
     "metadata": {},
     "output_type": "execute_result"
    }
   ],
   "source": [
    "search.invoke(\"Latest update on Ios 26\")"
   ]
  },
  {
   "cell_type": "code",
   "execution_count": 16,
   "id": "c4f83602",
   "metadata": {},
   "outputs": [],
   "source": [
    "tools = [get_attractions_and_activities, get_hotels_and_transport, get_weather_forecast, generate_itinerary, summarize_trip, search]"
   ]
  },
  {
   "cell_type": "code",
   "execution_count": 17,
   "id": "506bac17",
   "metadata": {},
   "outputs": [],
   "source": [
    "llm_with_tools = llm.bind_tools(tools)"
   ]
  },
  {
   "cell_type": "code",
   "execution_count": 18,
   "id": "1aea9633",
   "metadata": {},
   "outputs": [],
   "source": [
    "response = llm_with_tools.invoke(\"Hi\")"
   ]
  },
  {
   "cell_type": "code",
   "execution_count": 19,
   "id": "4f9d1e37",
   "metadata": {},
   "outputs": [
    {
     "data": {
      "text/plain": [
       "'Hello! How can I assist you today?'"
      ]
     },
     "execution_count": 19,
     "metadata": {},
     "output_type": "execute_result"
    }
   ],
   "source": [
    "response.content"
   ]
  },
  {
   "cell_type": "code",
   "execution_count": 20,
   "id": "23dbbebb",
   "metadata": {},
   "outputs": [
    {
     "data": {
      "text/plain": [
       "[]"
      ]
     },
     "execution_count": 20,
     "metadata": {},
     "output_type": "execute_result"
    }
   ],
   "source": [
    "response.tool_calls"
   ]
  },
  {
   "cell_type": "code",
   "execution_count": 21,
   "id": "125134f9",
   "metadata": {},
   "outputs": [],
   "source": [
    "response = llm_with_tools.invoke(\"I'm planning a 3-day trip to Delhi. What are the top attractions and what would be the estimated hotel and transport costs?\")"
   ]
  },
  {
   "cell_type": "code",
   "execution_count": 22,
   "id": "c6b3f6ad",
   "metadata": {},
   "outputs": [
    {
     "data": {
      "text/plain": [
       "''"
      ]
     },
     "execution_count": 22,
     "metadata": {},
     "output_type": "execute_result"
    }
   ],
   "source": [
    "response.content"
   ]
  },
  {
   "cell_type": "code",
   "execution_count": 23,
   "id": "8c0d9cc6",
   "metadata": {},
   "outputs": [
    {
     "data": {
      "text/plain": [
       "[{'name': 'get_attractions_and_activities',\n",
       "  'args': {'city': 'Delhi'},\n",
       "  'id': 'call_vkSNJZGBWAvDzFZxFHEbIEFG',\n",
       "  'type': 'tool_call'},\n",
       " {'name': 'get_hotels_and_transport',\n",
       "  'args': {'city': 'Delhi', 'trip_days': 3},\n",
       "  'id': 'call_usinCx7qnPz14c9V1pBARXIl',\n",
       "  'type': 'tool_call'}]"
      ]
     },
     "execution_count": 23,
     "metadata": {},
     "output_type": "execute_result"
    }
   ],
   "source": [
    "response.tool_calls"
   ]
  },
  {
   "cell_type": "code",
   "execution_count": 24,
   "id": "084c098b",
   "metadata": {},
   "outputs": [],
   "source": [
    "SYSTEM_PROMPT = (\n",
    "    \"You are a helpful travel assistant tasked with planning trips using tools for attractions, weather, hotels, itinerary, search, and summarize trip. \"\n",
    "    \"Select only the tools needed based on the user's request.\"\n",
    ")\n"
   ]
  },
  {
   "cell_type": "code",
   "execution_count": 25,
   "id": "ae96f0b7",
   "metadata": {},
   "outputs": [],
   "source": [
    "from langchain_core.messages import SystemMessage\n",
    "\n",
    "def llm_decision_node(state):\n",
    "    input_messages = [SystemMessage(content=SYSTEM_PROMPT)] + state[\"messages\"]\n",
    "    response = llm_with_tools.invoke(input_messages)  # Automatically returns AIMessage w/ tool_calls if needed\n",
    "    return {\"messages\": [response]}"
   ]
  },
  {
   "cell_type": "code",
   "execution_count": 26,
   "id": "972aeeaf",
   "metadata": {},
   "outputs": [],
   "source": [
    "# def tools_condition(state):\n",
    "#     last_msg = state[\"messages\"][-1]\n",
    "#     # If the last AI message has tool calls, go to tools\n",
    "#     if hasattr(last_msg, \"tool_calls\") and last_msg.tool_calls:\n",
    "#         return \"tools\"\n",
    "#     # Else, nothing more to do — end the graph\n",
    "#     return END"
   ]
  },
  {
   "cell_type": "code",
   "execution_count": 27,
   "id": "2490972c",
   "metadata": {},
   "outputs": [],
   "source": [
    "builder = StateGraph(MessagesState)"
   ]
  },
  {
   "cell_type": "code",
   "execution_count": 28,
   "id": "4f38ac83",
   "metadata": {},
   "outputs": [
    {
     "data": {
      "text/plain": [
       "<langgraph.graph.state.StateGraph at 0x208894fe7b0>"
      ]
     },
     "execution_count": 28,
     "metadata": {},
     "output_type": "execute_result"
    }
   ],
   "source": [
    "# Setup graph\n",
    "builder.add_node(\"llm_decision_step\", llm_decision_node)\n",
    "builder.add_node(\"tools\",ToolNode(tools)) \n",
    "\n",
    "builder.set_entry_point(\"llm_decision_step\")"
   ]
  },
  {
   "cell_type": "code",
   "execution_count": 29,
   "id": "abe91f22",
   "metadata": {},
   "outputs": [
    {
     "data": {
      "text/plain": [
       "<langgraph.graph.state.StateGraph at 0x208894fe7b0>"
      ]
     },
     "execution_count": 29,
     "metadata": {},
     "output_type": "execute_result"
    }
   ],
   "source": [
    "builder.add_edge(START, \"llm_decision_step\")\n",
    "builder.add_conditional_edges(\"llm_decision_step\",\n",
    "                             tools_condition\n",
    "                             )\n",
    "builder.add_edge(\"tools\", \"llm_decision_step\")"
   ]
  },
  {
   "cell_type": "code",
   "execution_count": 30,
   "id": "15afb580",
   "metadata": {},
   "outputs": [],
   "source": [
    "# builder.set_finish_point(\"llm_decision_step\") "
   ]
  },
  {
   "cell_type": "code",
   "execution_count": 31,
   "id": "b6d63797",
   "metadata": {},
   "outputs": [],
   "source": [
    "react_graph = builder.compile()"
   ]
  },
  {
   "cell_type": "code",
   "execution_count": 32,
   "id": "9e3daba9",
   "metadata": {},
   "outputs": [
    {
     "data": {
      "image/png": "[encoded data removed]",
      "text/plain": [
       "<IPython.core.display.Image object>"
      ]
     },
     "metadata": {},
     "output_type": "display_data"
    }
   ],
   "source": [
    "display(Image(react_graph.get_graph().draw_mermaid_png()))"
   ]
  },
  {
   "cell_type": "code",
   "execution_count": 33,
   "id": "5b77f701",
   "metadata": {},
   "outputs": [
    {
     "name": "stdout",
     "output_type": "stream",
     "text": [
      "For a 3-day trip to Delhi, here's an estimate of hotel and transport costs:\n",
      "\n",
      "**Hotels**:\n",
      "\n",
      "1. **The Leela Palace** - Approx. ₹18,000 per night\n",
      "2. **Taj Mahal Hotel** - Approx. ₹15,000 per night\n",
      "3. **The Grand New Delhi** - Approx. ₹12,000 per night\n",
      "\n",
      "**Transport**:\n",
      "- Daily transport cost (including taxis and metro): Approx. ₹1,000 to ₹1,500 per day\n",
      "\n",
      "**Total Estimate for 3 Days**:\n",
      "- Hotel (mid-range, The Grand New Delhi): ₹36,000\n",
      "- Transport: ₹3,000 to ₹4,500\n",
      "- **Total estimated cost**: ₹39,000 to ₹40,500\n",
      "\n",
      "Please note that these are approximate costs and may vary based on availability and booking choices.\n"
     ]
    }
   ],
   "source": [
    "result = react_graph.invoke(\n",
    "    {\"messages\": [HumanMessage(\"I'm going to Delhi for 3 days. Can you estimate hotel and transport costs in INR with hotel names?\")]},\n",
    "    config={\"recursion_limit\": 100}\n",
    ")\n",
    "final_outputs = [msg.content for msg in result[\"messages\"] if isinstance(msg, AIMessage)]\n",
    "print(final_outputs[-1])"
   ]
  },
  {
   "cell_type": "code",
   "execution_count": 38,
   "id": "23e321d7",
   "metadata": {},
   "outputs": [
    {
     "name": "stdout",
     "output_type": "stream",
     "text": [
      "The weather forecast for Delhi from July 1st to July 3rd, 2024, will be typical of summer. You can expect warm temperatures, possibly reaching the high 30s in Celsius (around the 100s in Fahrenheit), with chances of humidity. There may also be occasional rainfall due to the monsoon season starting in July. Be prepared for warm and humid weather with the possibility of rain.\n"
     ]
    }
   ],
   "source": [
    "result = react_graph.invoke(\n",
    "    {\"messages\": [HumanMessage(\"I'm planning a trip to Delhi from July 1st to July 3rd. What's the weather forecast during those days?\")]},\n",
    "    config={\"recursion_limit\": 100}\n",
    ")\n",
    "final_outputs = [msg.content for msg in result[\"messages\"] if isinstance(msg, AIMessage)]\n",
    "print(final_outputs[-1])"
   ]
  },
  {
   "cell_type": "code",
   "execution_count": 39,
   "id": "89c1b15d",
   "metadata": {},
   "outputs": [
    {
     "name": "stderr",
     "output_type": "stream",
     "text": [
      "C:\\Users\\aditi_zg48xl\\AppData\\Local\\Temp\\ipykernel_16472\\493622171.py:5: LangChainDeprecationWarning: The method `BaseTool.__call__` was deprecated in langchain-core 0.1.47 and will be removed in 1.0. Use :meth:`~invoke` instead.\n",
      "  attractions = get_attractions_and_activities(city)\n"
     ]
    },
    {
     "name": "stdout",
     "output_type": "stream",
     "text": [
      "Here's a summary of your 3-day trip to Delhi in INR:\n",
      "\n",
      "### Attractions and Activities\n",
      "- **Top Attractions**: Delhi offers a mix of ancient and contemporary sights. Don't miss the Red Fort, India Gate, Qutub Minar, Lotus Temple, and Humayun’s Tomb.\n",
      "- **Activities**: Enjoy a rickshaw ride in Chandni Chowk, explore the local markets, and savor the local cuisine at street food stalls.\n",
      "\n",
      "### Weather Forecast\n",
      "- **November 20-23, 2023**: Expect pleasant weather with likely sunny days and comfortable temperatures, perfect for sightseeing. There's a slight chance of evening chills, so carry a light jacket.\n",
      "\n",
      "### Hotels and Transport Costs\n",
      "- **Estimated Costs**: For 3 days, hotel accommodations and transportation might cost around 10,000 to 15,000 INR, depending on your choice of lodging and travel methods.\n",
      "\n",
      "### Itinerary\n",
      "- **Day 1**: Visit historical landmarks like the Red Fort and Humayun’s Tomb. Enjoy shopping in Connaught Place.\n",
      "- **Day 2**: Explore the Qutub Minar and the Lotus Temple. Take a rickshaw ride through Chandni Chowk.\n",
      "- **Day 3**: Relax at India Gate and enjoy local delicacies at street food markets.\n",
      "\n",
      "Enjoy your trip to Delhi!\n"
     ]
    }
   ],
   "source": [
    "result = react_graph.invoke(\n",
    "    {\"messages\": [HumanMessage(\"I'm going to Delhi for 3 days. Can you summarize my trip in INR \")]},\n",
    "    config={\"recursion_limit\": 100}\n",
    ")\n",
    "final_outputs = [msg.content for msg in result[\"messages\"] if isinstance(msg, AIMessage)]\n",
    "print(final_outputs[-1])"
   ]
  },
  {
   "cell_type": "code",
   "execution_count": null,
   "id": "71fc4697",
   "metadata": {},
   "outputs": [],
   "source": []
  }
 ],
 "metadata": {
  "kernelspec": {
   "display_name": "venv",
   "language": "python",
   "name": "python3"
  },
  "language_info": {
   "codemirror_mode": {
    "name": "ipython",
    "version": 3
   },
   "file_extension": ".py",
   "mimetype": "text/x-python",
   "name": "python",
   "nbconvert_exporter": "python",
   "pygments_lexer": "ipython3",
   "version": "3.13.2"
  }
 },
 "nbformat": 4,
 "nbformat_minor": 5
}
