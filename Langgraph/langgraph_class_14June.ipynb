{
 "cells": [
  {
   "cell_type": "code",
   "execution_count": null,
   "id": "1f015a33",
   "metadata": {},
   "outputs": [],
   "source": [
    "Class 14th June\n",
    "Agenda: ReAct aegnt with multiple tools\n",
    "ReAct: Reasoning and Action Agent \n",
    "using @tool decorator \n"
   ]
  },
  {
   "cell_type": "code",
   "execution_count": 4,
   "id": "a6c8dc06",
   "metadata": {},
   "outputs": [
    {
     "data": {
      "text/plain": [
       "True"
      ]
     },
     "execution_count": 4,
     "metadata": {},
     "output_type": "execute_result"
    }
   ],
   "source": [
    "import os\n",
    "from dotenv import load_dotenv\n",
    "load_dotenv()"
   ]
  },
  {
   "cell_type": "code",
   "execution_count": 5,
   "id": "bf8041a9",
   "metadata": {},
   "outputs": [],
   "source": [
    "os.environ[\"GROQ_API_KEY\"]=os.getenv(\"GROQ_API_KEY\")"
   ]
  },
  {
   "cell_type": "code",
   "execution_count": 64,
   "id": "33f67356",
   "metadata": {},
   "outputs": [],
   "source": [
    "model=\"deepseek-r1-distill-llama-70b\""
   ]
  },
  {
   "cell_type": "code",
   "execution_count": 7,
   "id": "36d9c5e7",
   "metadata": {},
   "outputs": [],
   "source": [
    "from langchain_groq import ChatGroq"
   ]
  },
  {
   "cell_type": "code",
   "execution_count": 8,
   "id": "03ff98c7",
   "metadata": {},
   "outputs": [],
   "source": [
    "llm = ChatGroq(model_name = model)"
   ]
  },
  {
   "cell_type": "code",
   "execution_count": 9,
   "id": "ea6794fa",
   "metadata": {},
   "outputs": [
    {
     "data": {
      "text/plain": [
       "'<think>\\n\\n</think>\\n\\nHello! How can I assist you today? 😊'"
      ]
     },
     "execution_count": 9,
     "metadata": {},
     "output_type": "execute_result"
    }
   ],
   "source": [
    "llm.invoke(\"Hi\").content"
   ]
  },
  {
   "cell_type": "markdown",
   "id": "c8feddac",
   "metadata": {},
   "source": [
    "Design Workflow for ReAct agent"
   ]
  },
  {
   "cell_type": "code",
   "execution_count": 106,
   "id": "6609d93a",
   "metadata": {},
   "outputs": [],
   "source": [
    "import operator\n",
    "from typing import List\n",
    "from pydantic import BaseModel , Field\n",
    "from langgraph.graph.message import add_messages\n",
    "from langchain.prompts import PromptTemplate\n",
    "from typing import TypedDict, Annotated, Sequence\n",
    "from langchain_core.messages import BaseMessage\n",
    "from langchain_core.output_parsers import StrOutputParser\n",
    "from langchain_core.prompts import ChatPromptTemplate, PromptTemplate\n",
    "from langchain_core.messages import HumanMessage, AIMessage\n",
    "from langgraph.graph import StateGraph, END, MessagesState, START\n",
    "from langgraph.prebuilt import ToolNode\n"
   ]
  },
  {
   "cell_type": "code",
   "execution_count": 65,
   "id": "0e3ee2ee",
   "metadata": {},
   "outputs": [],
   "source": [
    "def call_model(state: MessagesState):\n",
    "    messages = state['messages']\n",
    "    response = llm.invoke(messages)\n",
    "    return {\"messages\": [response]}"
   ]
  },
  {
   "cell_type": "code",
   "execution_count": 67,
   "id": "263d62af",
   "metadata": {},
   "outputs": [
    {
     "data": {
      "text/plain": [
       "HumanMessage(content='hi how are you?', additional_kwargs={}, response_metadata={})"
      ]
     },
     "execution_count": 67,
     "metadata": {},
     "output_type": "execute_result"
    }
   ],
   "source": [
    "HumanMessage(\"hi how are you?\")"
   ]
  },
  {
   "cell_type": "code",
   "execution_count": 68,
   "id": "071d8b70",
   "metadata": {},
   "outputs": [
    {
     "data": {
      "text/plain": [
       "HumanMessage(content=['hi how are you?'], additional_kwargs={}, response_metadata={})"
      ]
     },
     "execution_count": 68,
     "metadata": {},
     "output_type": "execute_result"
    }
   ],
   "source": [
    "HumanMessage([\"hi how are you?\"])"
   ]
  },
  {
   "cell_type": "code",
   "execution_count": 69,
   "id": "0c910d30",
   "metadata": {},
   "outputs": [
    {
     "data": {
      "text/plain": [
       "{'messages': [AIMessage(content=\"<think>\\n\\n</think>\\n\\nHello! I'm just a virtual assistant, so I don't have feelings, but I'm here and ready to help you with whatever you need. How are you doing? 😊\", additional_kwargs={}, response_metadata={'token_usage': {'completion_tokens': 42, 'prompt_tokens': 9, 'total_tokens': 51, 'completion_time': 0.192294028, 'prompt_time': 0.000194626, 'queue_time': 0.057462183, 'total_time': 0.192488654}, 'model_name': 'deepseek-r1-distill-llama-70b', 'system_fingerprint': 'fp_1bbe7845ec', 'finish_reason': 'stop', 'logprobs': None}, id='run--7f600809-5b7f-48f7-87d2-f925666d9530-0', usage_metadata={'input_tokens': 9, 'output_tokens': 42, 'total_tokens': 51})]}"
      ]
     },
     "execution_count": 69,
     "metadata": {},
     "output_type": "execute_result"
    }
   ],
   "source": [
    "\n",
    "state={\"messages\":[\"hi hello how are you?\"]}\n",
    "call_model(state)"
   ]
  },
  {
   "cell_type": "code",
   "execution_count": 70,
   "id": "538f7ed7",
   "metadata": {},
   "outputs": [],
   "source": [
    "workflow = StateGraph(MessagesState)"
   ]
  },
  {
   "cell_type": "code",
   "execution_count": 71,
   "id": "77effc4c",
   "metadata": {},
   "outputs": [
    {
     "data": {
      "text/plain": [
       "<langgraph.graph.state.StateGraph at 0x25a5dfc9810>"
      ]
     },
     "execution_count": 71,
     "metadata": {},
     "output_type": "execute_result"
    }
   ],
   "source": [
    "workflow.add_node(\"my_bot\", call_model)"
   ]
  },
  {
   "cell_type": "code",
   "execution_count": 72,
   "id": "10721a9e",
   "metadata": {},
   "outputs": [
    {
     "data": {
      "text/plain": [
       "<langgraph.graph.state.StateGraph at 0x25a5dfc9810>"
      ]
     },
     "execution_count": 72,
     "metadata": {},
     "output_type": "execute_result"
    }
   ],
   "source": [
    "workflow.add_edge(START, \"my_bot\")"
   ]
  },
  {
   "cell_type": "code",
   "execution_count": 73,
   "id": "01b88827",
   "metadata": {},
   "outputs": [
    {
     "data": {
      "text/plain": [
       "<langgraph.graph.state.StateGraph at 0x25a5dfc9810>"
      ]
     },
     "execution_count": 73,
     "metadata": {},
     "output_type": "execute_result"
    }
   ],
   "source": [
    "workflow.add_edge(\"my_bot\", END)"
   ]
  },
  {
   "cell_type": "code",
   "execution_count": 74,
   "id": "3a910975",
   "metadata": {},
   "outputs": [],
   "source": [
    "app = workflow.compile()"
   ]
  },
  {
   "cell_type": "code",
   "execution_count": 143,
   "id": "ec3c48b4",
   "metadata": {},
   "outputs": [
    {
     "data": {
      "image/png": "[encoded data removed]",
      "text/plain": [
       "<IPython.core.display.Image object>"
      ]
     },
     "metadata": {},
     "output_type": "display_data"
    }
   ],
   "source": [
    "from IPython.display import Image,display\n",
    "display(Image(app.get_graph().draw_mermaid_png()))"
   ]
  },
  {
   "cell_type": "code",
   "execution_count": 76,
   "id": "b48691ef",
   "metadata": {},
   "outputs": [],
   "source": [
    "input = {\"messages\":[\"Hi, how are you?\"]}"
   ]
  },
  {
   "cell_type": "code",
   "execution_count": 77,
   "id": "daaa23d5",
   "metadata": {},
   "outputs": [
    {
     "data": {
      "text/plain": [
       "{'messages': [HumanMessage(content='Hi, how are you?', additional_kwargs={}, response_metadata={}, id='37ef2dc4-c710-4e9a-bb37-33a662539eab'),\n",
       "  AIMessage(content=\"<think>\\n\\n</think>\\n\\nHi! I'm just a virtual assistant, so I don't have feelings, but I'm here and ready to help you with whatever you need. How are you doing? 😊\", additional_kwargs={}, response_metadata={'token_usage': {'completion_tokens': 42, 'prompt_tokens': 9, 'total_tokens': 51, 'completion_time': 0.191007428, 'prompt_time': 0.000196147, 'queue_time': 0.054315263, 'total_time': 0.191203575}, 'model_name': 'deepseek-r1-distill-llama-70b', 'system_fingerprint': 'fp_1bbe7845ec', 'finish_reason': 'stop', 'logprobs': None}, id='run--323c5961-c927-4bd4-8514-dd206f0a7a4f-0', usage_metadata={'input_tokens': 9, 'output_tokens': 42, 'total_tokens': 51})]}"
      ]
     },
     "execution_count": 77,
     "metadata": {},
     "output_type": "execute_result"
    }
   ],
   "source": [
    "app.invoke(input)"
   ]
  },
  {
   "cell_type": "markdown",
   "id": "d94ca99d",
   "metadata": {},
   "source": [
    "Create custom tool and use it in out workflow"
   ]
  },
  {
   "cell_type": "code",
   "execution_count": 79,
   "id": "add0ca3d",
   "metadata": {},
   "outputs": [],
   "source": [
    "from langchain_core.tools import tool"
   ]
  },
  {
   "cell_type": "code",
   "execution_count": 80,
   "id": "2bc6387d",
   "metadata": {},
   "outputs": [],
   "source": [
    "@tool\n",
    "def search(query:str):\n",
    "    \"\"\"This is my custom tool for searching weather\"\"\"\n",
    "    if \"delhi\" in query.lower():\n",
    "        return \"The temperature is 45 degree and sunny\"\n",
    "    return \"Temperature is 25 degree and cloudy\""
   ]
  },
  {
   "cell_type": "markdown",
   "id": "124dea4f",
   "metadata": {},
   "source": [
    "Check or test tool"
   ]
  },
  {
   "cell_type": "code",
   "execution_count": 83,
   "id": "44a418dc",
   "metadata": {},
   "outputs": [
    {
     "data": {
      "text/plain": [
       "'Temperature is 25 degree and cloudy'"
      ]
     },
     "execution_count": 83,
     "metadata": {},
     "output_type": "execute_result"
    }
   ],
   "source": [
    "search.invoke(\"What is temperature in Pune\")"
   ]
  },
  {
   "cell_type": "code",
   "execution_count": 84,
   "id": "6d8e80d4",
   "metadata": {},
   "outputs": [
    {
     "data": {
      "text/plain": [
       "'The temperature is 45 degree and sunny'"
      ]
     },
     "execution_count": 84,
     "metadata": {},
     "output_type": "execute_result"
    }
   ],
   "source": [
    "search.invoke(\"What is temperature in delhi\")"
   ]
  },
  {
   "cell_type": "markdown",
   "id": "2205823e",
   "metadata": {},
   "source": [
    "Bind tool in LLM"
   ]
  },
  {
   "cell_type": "code",
   "execution_count": 86,
   "id": "88b26907",
   "metadata": {},
   "outputs": [
    {
     "data": {
      "text/plain": [
       "StructuredTool(name='search', description='This is my custom tool for searching weather', args_schema=<class 'langchain_core.utils.pydantic.search'>, func=<function search at 0x0000025A5E20A160>)"
      ]
     },
     "execution_count": 86,
     "metadata": {},
     "output_type": "execute_result"
    }
   ],
   "source": [
    "search"
   ]
  },
  {
   "cell_type": "code",
   "execution_count": 87,
   "id": "a3ff7415",
   "metadata": {},
   "outputs": [],
   "source": [
    "tools = [search]"
   ]
  },
  {
   "cell_type": "markdown",
   "id": "40649c99",
   "metadata": {},
   "source": [
    "Bind tool (use good model for agent workflow since some open source models might not be good)"
   ]
  },
  {
   "cell_type": "code",
   "execution_count": 90,
   "id": "ae1c83a2",
   "metadata": {},
   "outputs": [],
   "source": [
    "llm_with_tool = llm.bind_tools(tools) # bind tools takes list of tools"
   ]
  },
  {
   "cell_type": "code",
   "execution_count": 92,
   "id": "11a7b6fc",
   "metadata": {},
   "outputs": [],
   "source": [
    "response = llm_with_tool.invoke(\"Whats is weather in delhi?\")"
   ]
  },
  {
   "cell_type": "code",
   "execution_count": 93,
   "id": "47cf0172",
   "metadata": {},
   "outputs": [
    {
     "data": {
      "text/plain": [
       "AIMessage(content='', additional_kwargs={'tool_calls': [{'id': '1smvzgb1n', 'function': {'arguments': '{\"query\":\"weather in Delhi\"}', 'name': 'search'}, 'type': 'function'}]}, response_metadata={'token_usage': {'completion_tokens': 241, 'prompt_tokens': 131, 'total_tokens': 372, 'completion_time': 1.083556326, 'prompt_time': 0.008523791, 'queue_time': 0.052897458999999994, 'total_time': 1.092080117}, 'model_name': 'deepseek-r1-distill-llama-70b', 'system_fingerprint': 'fp_1bbe7845ec', 'finish_reason': 'tool_calls', 'logprobs': None}, id='run--09276b15-2798-4e39-98df-14e0f91a9a0f-0', tool_calls=[{'name': 'search', 'args': {'query': 'weather in Delhi'}, 'id': '1smvzgb1n', 'type': 'tool_call'}], usage_metadata={'input_tokens': 131, 'output_tokens': 241, 'total_tokens': 372})"
      ]
     },
     "execution_count": 93,
     "metadata": {},
     "output_type": "execute_result"
    }
   ],
   "source": [
    "response"
   ]
  },
  {
   "cell_type": "code",
   "execution_count": 94,
   "id": "2b17d227",
   "metadata": {},
   "outputs": [
    {
     "data": {
      "text/plain": [
       "[{'name': 'search',\n",
       "  'args': {'query': 'weather in Delhi'},\n",
       "  'id': '1smvzgb1n',\n",
       "  'type': 'tool_call'}]"
      ]
     },
     "execution_count": 94,
     "metadata": {},
     "output_type": "execute_result"
    }
   ],
   "source": [
    "response.tool_calls"
   ]
  },
  {
   "cell_type": "code",
   "execution_count": 95,
   "id": "65e0b352",
   "metadata": {},
   "outputs": [
    {
     "data": {
      "text/plain": [
       "''"
      ]
     },
     "execution_count": 95,
     "metadata": {},
     "output_type": "execute_result"
    }
   ],
   "source": [
    "response.content"
   ]
  },
  {
   "cell_type": "markdown",
   "id": "9e8c8eb5",
   "metadata": {},
   "source": [
    "Update the same function to call the tool with llm"
   ]
  },
  {
   "cell_type": "code",
   "execution_count": 191,
   "id": "59ac24cc",
   "metadata": {},
   "outputs": [],
   "source": [
    "def call_model(state:MessagesState):\n",
    "    question = state[\"messages\"]\n",
    "    response = llm_with_tool.invoke(question)\n",
    "    return {\"messages\":[response]}"
   ]
  },
  {
   "cell_type": "code",
   "execution_count": 192,
   "id": "d1680252",
   "metadata": {},
   "outputs": [],
   "source": [
    "input = {\"messages\":[\"What is weather in delhi\"]}"
   ]
  },
  {
   "cell_type": "code",
   "execution_count": 193,
   "id": "c631af6c",
   "metadata": {},
   "outputs": [],
   "source": [
    "response = call_model(input)"
   ]
  },
  {
   "cell_type": "code",
   "execution_count": 194,
   "id": "b6a9b94e",
   "metadata": {},
   "outputs": [],
   "source": [
    "def router_function(state:MessagesState):\n",
    "    message = state[\"messages\"]\n",
    "    last_message = message[-1]\n",
    "    if last_message.tool_calls:\n",
    "        return \"tools\"\n",
    "    return END"
   ]
  },
  {
   "cell_type": "code",
   "execution_count": 195,
   "id": "137ef080",
   "metadata": {},
   "outputs": [
    {
     "data": {
      "text/plain": [
       "[StructuredTool(name='search', description='This is my custom tool for searching weather', args_schema=<class 'langchain_core.utils.pydantic.search'>, func=<function search at 0x0000025A5E20A160>)]"
      ]
     },
     "execution_count": 195,
     "metadata": {},
     "output_type": "execute_result"
    }
   ],
   "source": [
    "tools"
   ]
  },
  {
   "cell_type": "code",
   "execution_count": 218,
   "id": "6a8b5c0a",
   "metadata": {},
   "outputs": [],
   "source": [
    "workflow_2 = StateGraph(MessagesState)"
   ]
  },
  {
   "cell_type": "code",
   "execution_count": 219,
   "id": "8a6aee06",
   "metadata": {},
   "outputs": [],
   "source": [
    "tool_node = ToolNode(tools)"
   ]
  },
  {
   "cell_type": "code",
   "execution_count": 220,
   "id": "097234eb",
   "metadata": {},
   "outputs": [
    {
     "data": {
      "text/plain": [
       "tools(tags=None, recurse=True, explode_args=False, func_accepts_config=True, func_accepts={'store': ('__pregel_store', None)}, tools_by_name={'search': StructuredTool(name='search', description='This is my custom tool for searching weather', args_schema=<class 'langchain_core.utils.pydantic.search'>, func=<function search at 0x0000025A5E20A160>)}, tool_to_state_args={'search': {}}, tool_to_store_arg={'search': None}, handle_tool_errors=True, messages_key='messages')"
      ]
     },
     "execution_count": 220,
     "metadata": {},
     "output_type": "execute_result"
    }
   ],
   "source": [
    "tool_node"
   ]
  },
  {
   "cell_type": "code",
   "execution_count": 221,
   "id": "16f1e544",
   "metadata": {},
   "outputs": [
    {
     "data": {
      "text/plain": [
       "<langgraph.graph.state.StateGraph at 0x25a5ee1a350>"
      ]
     },
     "execution_count": 221,
     "metadata": {},
     "output_type": "execute_result"
    }
   ],
   "source": [
    "workflow_2.add_node(\"llm_with_tool\", call_model)\n",
    "workflow_2.add_node(\"tools\", tool_node)"
   ]
  },
  {
   "cell_type": "code",
   "execution_count": 222,
   "id": "da1d5e25",
   "metadata": {},
   "outputs": [
    {
     "data": {
      "text/plain": [
       "<langgraph.graph.state.StateGraph at 0x25a5ee1a350>"
      ]
     },
     "execution_count": 222,
     "metadata": {},
     "output_type": "execute_result"
    }
   ],
   "source": [
    "workflow_2.add_edge(START,\"llm_with_tool\")\n",
    "workflow_2.add_conditional_edges(\"llm_with_tool\",\n",
    "                                 router_function,\n",
    "                                 {\"tools\":\"tools\",\n",
    "                                  END:END})"
   ]
  },
  {
   "cell_type": "code",
   "execution_count": 223,
   "id": "192814ca",
   "metadata": {},
   "outputs": [],
   "source": [
    "app_2 = workflow_2.compile()"
   ]
  },
  {
   "cell_type": "code",
   "execution_count": 224,
   "id": "95ace29a",
   "metadata": {},
   "outputs": [
    {
     "data": {
      "image/png": "[encoded data removed]",
      "text/plain": [
       "<IPython.core.display.Image object>"
      ]
     },
     "metadata": {},
     "output_type": "display_data"
    }
   ],
   "source": [
    "from IPython.display import Image,display\n",
    "display(Image(app_2.get_graph().draw_mermaid_png()))"
   ]
  },
  {
   "cell_type": "code",
   "execution_count": 225,
   "id": "35e7ea18",
   "metadata": {},
   "outputs": [],
   "source": [
    "response = app_2.invoke({\"messages\":[\"What is weather In Bangalore\"]})"
   ]
  },
  {
   "cell_type": "code",
   "execution_count": 226,
   "id": "9d1ca494",
   "metadata": {},
   "outputs": [
    {
     "data": {
      "text/plain": [
       "'Temperature is 25 degree and cloudy'"
      ]
     },
     "execution_count": 226,
     "metadata": {},
     "output_type": "execute_result"
    }
   ],
   "source": [
    "response[\"messages\"][-1].content"
   ]
  },
  {
   "cell_type": "markdown",
   "id": "89f12c44",
   "metadata": {},
   "source": [
    "Add looping edge "
   ]
  },
  {
   "cell_type": "code",
   "execution_count": null,
   "id": "f643930c",
   "metadata": {},
   "outputs": [
    {
     "name": "stderr",
     "output_type": "stream",
     "text": [
      "Adding an edge to a graph that has already been compiled. This will not be reflected in the compiled graph.\n"
     ]
    },
    {
     "data": {
      "text/plain": [
       "<langgraph.graph.state.StateGraph at 0x25a5ee1a350>"
      ]
     },
     "execution_count": 227,
     "metadata": {},
     "output_type": "execute_result"
    }
   ],
   "source": [
    "workflow_2.add_edge(\"tools\",\"llm_with_tool\") # Now looping edge is added"
   ]
  },
  {
   "cell_type": "code",
   "execution_count": 228,
   "id": "b7b52575",
   "metadata": {},
   "outputs": [],
   "source": [
    "app_3 = workflow_2.compile()"
   ]
  },
  {
   "cell_type": "code",
   "execution_count": 229,
   "id": "68ffb284",
   "metadata": {},
   "outputs": [
    {
     "data": {
      "image/png": "[encoded data removed]",
      "text/plain": [
       "<IPython.core.display.Image object>"
      ]
     },
     "metadata": {},
     "output_type": "display_data"
    }
   ],
   "source": [
    "from IPython.display import Image,display\n",
    "display(Image(app_3.get_graph().draw_mermaid_png()))"
   ]
  },
  {
   "cell_type": "code",
   "execution_count": 231,
   "id": "5c6ce8ad",
   "metadata": {},
   "outputs": [
    {
     "name": "stdout",
     "output_type": "stream",
     "text": [
      "key is {'llm_with_tool'}\n",
      "_______\n",
      "{'messages': [AIMessage(content='', additional_kwargs={'tool_calls': [{'id': '312rd5sse', 'function': {'arguments': '{\"query\":\"weather in New Delhi\"}', 'name': 'search'}, 'type': 'function'}]}, response_metadata={'token_usage': {'completion_tokens': 167, 'prompt_tokens': 132, 'total_tokens': 299, 'completion_time': 0.719587822, 'prompt_time': 0.008443502, 'queue_time': 0.052483888, 'total_time': 0.728031324}, 'model_name': 'deepseek-r1-distill-llama-70b', 'system_fingerprint': 'fp_1bbe7845ec', 'finish_reason': 'tool_calls', 'logprobs': None}, id='run--56ecb8ae-6902-4cf9-a5ca-50ba7201506a-0', tool_calls=[{'name': 'search', 'args': {'query': 'weather in New Delhi'}, 'id': '312rd5sse', 'type': 'tool_call'}], usage_metadata={'input_tokens': 132, 'output_tokens': 167, 'total_tokens': 299})]}\n",
      "\n",
      "\n",
      "key is {'tools'}\n",
      "_______\n",
      "{'messages': [ToolMessage(content='The temperature is 45 degree and sunny', name='search', id='455b2668-392c-4d29-9fdb-05b0b6b3d749', tool_call_id='312rd5sse')]}\n",
      "\n",
      "\n",
      "key is {'llm_with_tool'}\n",
      "_______\n",
      "{'messages': [AIMessage(content='', additional_kwargs={'tool_calls': [{'id': 'vbemmsyk3', 'function': {'arguments': '{\"query\":\"weather in New Delhi\"}', 'name': 'search'}, 'type': 'function'}]}, response_metadata={'token_usage': {'completion_tokens': 362, 'prompt_tokens': 189, 'total_tokens': 551, 'completion_time': 1.722136226, 'prompt_time': 0.012079267, 'queue_time': 0.053961763, 'total_time': 1.734215493}, 'model_name': 'deepseek-r1-distill-llama-70b', 'system_fingerprint': 'fp_1bbe7845ec', 'finish_reason': 'tool_calls', 'logprobs': None}, id='run--b9f916f2-45b5-47ed-8d8b-532dc91e1af3-0', tool_calls=[{'name': 'search', 'args': {'query': 'weather in New Delhi'}, 'id': 'vbemmsyk3', 'type': 'tool_call'}], usage_metadata={'input_tokens': 189, 'output_tokens': 362, 'total_tokens': 551})]}\n",
      "\n",
      "\n",
      "key is {'tools'}\n",
      "_______\n",
      "{'messages': [ToolMessage(content='The temperature is 45 degree and sunny', name='search', id='ab739f3a-7d86-450f-bb3d-922a5f9440d6', tool_call_id='vbemmsyk3')]}\n",
      "\n",
      "\n",
      "key is {'llm_with_tool'}\n",
      "_______\n",
      "{'messages': [AIMessage(content='The current weather in New Delhi is 45 degrees and sunny. For the most accurate and up-to-date information, consider checking a reliable weather service or app.', additional_kwargs={}, response_metadata={'token_usage': {'completion_tokens': 105, 'prompt_tokens': 247, 'total_tokens': 352, 'completion_time': 0.54620236, 'prompt_time': 0.016081927, 'queue_time': 0.053580473, 'total_time': 0.562284287}, 'model_name': 'deepseek-r1-distill-llama-70b', 'system_fingerprint': 'fp_1bbe7845ec', 'finish_reason': 'stop', 'logprobs': None}, id='run--a2c538f8-9045-4cb7-86b8-8764a077f48b-0', usage_metadata={'input_tokens': 247, 'output_tokens': 105, 'total_tokens': 352})]}\n",
      "\n",
      "\n"
     ]
    }
   ],
   "source": [
    "for output in app_3.stream({\"messages\":[\"What is weather in New delhi?\"]}):\n",
    "    for key, value in output.items():\n",
    "        print(\"key is\",{key})\n",
    "        print(\"_______\")\n",
    "        print(value)\n",
    "        print(\"\\n\")"
   ]
  },
  {
   "cell_type": "markdown",
   "id": "827d87b9",
   "metadata": {},
   "source": [
    "Configure Memory"
   ]
  },
  {
   "cell_type": "code",
   "execution_count": 232,
   "id": "24dab968",
   "metadata": {},
   "outputs": [],
   "source": [
    "from langgraph.checkpoint.memory import MemorySaver"
   ]
  },
  {
   "cell_type": "code",
   "execution_count": 233,
   "id": "c2e300c4",
   "metadata": {},
   "outputs": [],
   "source": [
    "memory = MemorySaver()"
   ]
  },
  {
   "cell_type": "code",
   "execution_count": 234,
   "id": "8f629611",
   "metadata": {},
   "outputs": [],
   "source": [
    "workflow_3 = StateGraph(MessagesState)"
   ]
  },
  {
   "cell_type": "code",
   "execution_count": 235,
   "id": "c6de44c0",
   "metadata": {},
   "outputs": [
    {
     "data": {
      "text/plain": [
       "<langgraph.graph.state.StateGraph at 0x25a5ee19d10>"
      ]
     },
     "execution_count": 235,
     "metadata": {},
     "output_type": "execute_result"
    }
   ],
   "source": [
    "workflow_3.add_node(\"llm_with_tool\", call_model)\n",
    "workflow_3.add_node(\"tools\", tool_node)"
   ]
  },
  {
   "cell_type": "code",
   "execution_count": 236,
   "id": "1c62ff31",
   "metadata": {},
   "outputs": [
    {
     "data": {
      "text/plain": [
       "<langgraph.graph.state.StateGraph at 0x25a5ee19d10>"
      ]
     },
     "execution_count": 236,
     "metadata": {},
     "output_type": "execute_result"
    }
   ],
   "source": [
    "workflow_3.add_edge(\"tools\",\"llm_with_tool\") # Now looping edge is added"
   ]
  },
  {
   "cell_type": "code",
   "execution_count": 237,
   "id": "916304c8",
   "metadata": {},
   "outputs": [
    {
     "data": {
      "text/plain": [
       "<langgraph.graph.state.StateGraph at 0x25a5ee19d10>"
      ]
     },
     "execution_count": 237,
     "metadata": {},
     "output_type": "execute_result"
    }
   ],
   "source": [
    "workflow_3.add_edge(START,\"llm_with_tool\")\n",
    "workflow_3.add_conditional_edges(\"llm_with_tool\",\n",
    "                                 router_function,\n",
    "                                 {\"tools\":\"tools\",\n",
    "                                  END:END})"
   ]
  },
  {
   "cell_type": "code",
   "execution_count": 238,
   "id": "0994d228",
   "metadata": {},
   "outputs": [],
   "source": [
    "app_4 = workflow_3.compile(checkpointer= memory)"
   ]
  },
  {
   "cell_type": "code",
   "execution_count": 239,
   "id": "5b4316e8",
   "metadata": {},
   "outputs": [
    {
     "data": {
      "image/png": "[encoded data removed]",
      "text/plain": [
       "<IPython.core.display.Image object>"
      ]
     },
     "metadata": {},
     "output_type": "display_data"
    }
   ],
   "source": [
    "from IPython.display import Image,display\n",
    "display(Image(app_4.get_graph().draw_mermaid_png()))"
   ]
  },
  {
   "cell_type": "code",
   "execution_count": 241,
   "id": "f3a4b615",
   "metadata": {},
   "outputs": [],
   "source": [
    "config = {\"configurable\":{\"thread_id\" : \"1\"}}"
   ]
  },
  {
   "cell_type": "code",
   "execution_count": 245,
   "id": "9470aae4",
   "metadata": {},
   "outputs": [],
   "source": [
    "events = app_4.stream(\n",
    "    {\"messages\":[\"What is weather in New delhi?\"]}, config=config, stream_mode = \"values\")"
   ]
  },
  {
   "cell_type": "code",
   "execution_count": 246,
   "id": "0ffc8f57",
   "metadata": {},
   "outputs": [
    {
     "name": "stdout",
     "output_type": "stream",
     "text": [
      "================================\u001b[1m Human Message \u001b[0m=================================\n",
      "\n",
      "What is weather in New delhi?\n",
      "==================================\u001b[1m Ai Message \u001b[0m==================================\n",
      "Tool Calls:\n",
      "  search (hngpjxgnm)\n",
      " Call ID: hngpjxgnm\n",
      "  Args:\n",
      "    query: New Delhi weather\n",
      "=================================\u001b[1m Tool Message \u001b[0m=================================\n",
      "Name: search\n",
      "\n",
      "The temperature is 45 degree and sunny\n",
      "==================================\u001b[1m Ai Message \u001b[0m==================================\n",
      "Tool Calls:\n",
      "  search (esr5f8ybn)\n",
      " Call ID: esr5f8ybn\n",
      "  Args:\n",
      "    query: New Delhi weather\n",
      "=================================\u001b[1m Tool Message \u001b[0m=================================\n",
      "Name: search\n",
      "\n",
      "The temperature is 45 degree and sunny\n",
      "==================================\u001b[1m Ai Message \u001b[0m==================================\n"
     ]
    }
   ],
   "source": [
    "for event in events:\n",
    "    event[\"messages\"][-1].pretty_print()"
   ]
  },
  {
   "cell_type": "code",
   "execution_count": 247,
   "id": "80e61778",
   "metadata": {},
   "outputs": [],
   "source": [
    "events = app_4.stream(\n",
    "    {\"messages\":[\"What is weather in Indore?\"]}, config=config, stream_mode = \"values\")"
   ]
  },
  {
   "cell_type": "code",
   "execution_count": 248,
   "id": "1fefd036",
   "metadata": {},
   "outputs": [
    {
     "name": "stdout",
     "output_type": "stream",
     "text": [
      "================================\u001b[1m Human Message \u001b[0m=================================\n",
      "\n",
      "What is weather in Indore?\n",
      "==================================\u001b[1m Ai Message \u001b[0m==================================\n",
      "Tool Calls:\n",
      "  search (4dmecev16)\n",
      " Call ID: 4dmecev16\n",
      "  Args:\n",
      "    query: Indore weather\n",
      "=================================\u001b[1m Tool Message \u001b[0m=================================\n",
      "Name: search\n",
      "\n",
      "Temperature is 25 degree and cloudy\n",
      "==================================\u001b[1m Ai Message \u001b[0m==================================\n",
      "Tool Calls:\n",
      "  search (ynryy9jkx)\n",
      " Call ID: ynryy9jkx\n",
      "  Args:\n",
      "    query: Indore weather\n",
      "=================================\u001b[1m Tool Message \u001b[0m=================================\n",
      "Name: search\n",
      "\n",
      "Temperature is 25 degree and cloudy\n",
      "==================================\u001b[1m Ai Message \u001b[0m==================================\n"
     ]
    }
   ],
   "source": [
    "for event in events:\n",
    "    event[\"messages\"][-1].pretty_print()"
   ]
  },
  {
   "cell_type": "code",
   "execution_count": 249,
   "id": "fee6fdfb",
   "metadata": {},
   "outputs": [
    {
     "data": {
      "text/plain": [
       "<langgraph.checkpoint.memory.InMemorySaver at 0x25a5d0ba120>"
      ]
     },
     "execution_count": 249,
     "metadata": {},
     "output_type": "execute_result"
    }
   ],
   "source": [
    "memory"
   ]
  },
  {
   "cell_type": "code",
   "execution_count": 251,
   "id": "b99f24c6",
   "metadata": {},
   "outputs": [
    {
     "data": {
      "text/plain": [
       "{'configurable': {'thread_id': '1'}}"
      ]
     },
     "execution_count": 251,
     "metadata": {},
     "output_type": "execute_result"
    }
   ],
   "source": [
    "config"
   ]
  },
  {
   "cell_type": "code",
   "execution_count": 253,
   "id": "a2468045",
   "metadata": {},
   "outputs": [
    {
     "data": {
      "text/plain": [
       "{'v': 3,\n",
       " 'ts': '2025-06-14T05:39:40.821011+00:00',\n",
       " 'id': '1f048e1f-7a67-6e92-8013-3d810bb7f0cf',\n",
       " 'channel_versions': {'__start__': '00000000000000000000000000000016.0.8540785859981569',\n",
       "  'messages': '00000000000000000000000000000021.0.4018863798143003',\n",
       "  'branch:to:llm_with_tool': '00000000000000000000000000000021.0.4937252949987567',\n",
       "  'branch:to:tools': '00000000000000000000000000000020.0.8738998512787501'},\n",
       " 'versions_seen': {'__input__': {},\n",
       "  '__start__': {'__start__': '00000000000000000000000000000015.0.43732123490424446'},\n",
       "  'llm_with_tool': {'branch:to:llm_with_tool': '00000000000000000000000000000020.0.7641420163412095'},\n",
       "  'tools': {'branch:to:tools': '00000000000000000000000000000019.0.5989736438669414'}},\n",
       " 'channel_values': {'messages': [HumanMessage(content='What is weather in New delhi?', additional_kwargs={}, response_metadata={}, id='75ea6ece-497e-4db0-9ed8-5315060c72fa'),\n",
       "   AIMessage(content='', additional_kwargs={'tool_calls': [{'id': '0c79w6rp9', 'function': {'arguments': '{\"query\":\"New Delhi weather\"}', 'name': 'search'}, 'type': 'function'}]}, response_metadata={'token_usage': {'completion_tokens': 126, 'prompt_tokens': 132, 'total_tokens': 258, 'completion_time': 0.577024481, 'prompt_time': 0.008510303, 'queue_time': 0.054121851, 'total_time': 0.585534784}, 'model_name': 'deepseek-r1-distill-llama-70b', 'system_fingerprint': 'fp_1bbe7845ec', 'finish_reason': 'tool_calls', 'logprobs': None}, id='run--74541b6c-6a06-4873-ab8c-3d51c0e9b8bb-0', tool_calls=[{'name': 'search', 'args': {'query': 'New Delhi weather'}, 'id': '0c79w6rp9', 'type': 'tool_call'}], usage_metadata={'input_tokens': 132, 'output_tokens': 126, 'total_tokens': 258}),\n",
       "   ToolMessage(content='The temperature is 45 degree and sunny', name='search', id='02174188-52dd-433a-843e-280add9c723f', tool_call_id='0c79w6rp9'),\n",
       "   AIMessage(content='', additional_kwargs={'tool_calls': [{'id': 'bzrny4grh', 'function': {'arguments': '{\"query\":\"New Delhi weather\"}', 'name': 'search'}, 'type': 'function'}]}, response_metadata={'token_usage': {'completion_tokens': 80, 'prompt_tokens': 191, 'total_tokens': 271, 'completion_time': 0.312124493, 'prompt_time': 0.01623597, 'queue_time': 0.052144564000000004, 'total_time': 0.328360463}, 'model_name': 'deepseek-r1-distill-llama-70b', 'system_fingerprint': 'fp_1bbe7845ec', 'finish_reason': 'tool_calls', 'logprobs': None}, id='run--072ccd0a-9ad9-4540-baaf-30c9e0899c0e-0', tool_calls=[{'name': 'search', 'args': {'query': 'New Delhi weather'}, 'id': 'bzrny4grh', 'type': 'tool_call'}], usage_metadata={'input_tokens': 191, 'output_tokens': 80, 'total_tokens': 271}),\n",
       "   ToolMessage(content='The temperature is 45 degree and sunny', name='search', id='6df37d16-a8ac-420c-83d8-50cf4d7a0e61', tool_call_id='bzrny4grh'),\n",
       "   AIMessage(content='<｜tool▁outputs▁begin｜>The temperature is 45 degree and sunny<｜tool▁outputs▁end｜>', additional_kwargs={}, response_metadata={'token_usage': {'completion_tokens': 260, 'prompt_tokens': 249, 'total_tokens': 509, 'completion_time': 1.169384095, 'prompt_time': 0.016209871, 'queue_time': 0.052832062, 'total_time': 1.1855939659999999}, 'model_name': 'deepseek-r1-distill-llama-70b', 'system_fingerprint': 'fp_1bbe7845ec', 'finish_reason': 'stop', 'logprobs': None}, id='run--510e2a17-c9a1-48be-8750-6ebafc334a0a-0', usage_metadata={'input_tokens': 249, 'output_tokens': 260, 'total_tokens': 509}),\n",
       "   HumanMessage(content='What is weather in New delhi?', additional_kwargs={}, response_metadata={}, id='ae67de39-5fcd-494f-b7c3-d3ab65f40eb3'),\n",
       "   AIMessage(content='', additional_kwargs={'tool_calls': [{'id': 'hngpjxgnm', 'function': {'arguments': '{\"query\":\"New Delhi weather\"}', 'name': 'search'}, 'type': 'function'}]}, response_metadata={'token_usage': {'completion_tokens': 169, 'prompt_tokens': 260, 'total_tokens': 429, 'completion_time': 0.891700999, 'prompt_time': 0.01679633, 'queue_time': 0.05430462, 'total_time': 0.908497329}, 'model_name': 'deepseek-r1-distill-llama-70b', 'system_fingerprint': 'fp_1bbe7845ec', 'finish_reason': 'tool_calls', 'logprobs': None}, id='run--81854917-df9c-4466-ba5f-d5eaa19f4bc1-0', tool_calls=[{'name': 'search', 'args': {'query': 'New Delhi weather'}, 'id': 'hngpjxgnm', 'type': 'tool_call'}], usage_metadata={'input_tokens': 260, 'output_tokens': 169, 'total_tokens': 429}),\n",
       "   ToolMessage(content='The temperature is 45 degree and sunny', name='search', id='2190fc39-ec57-4b70-b891-35f8197da9de', tool_call_id='hngpjxgnm'),\n",
       "   AIMessage(content='', additional_kwargs={'tool_calls': [{'id': 'esr5f8ybn', 'function': {'arguments': '{\"query\":\"New Delhi weather\"}', 'name': 'search'}, 'type': 'function'}]}, response_metadata={'token_usage': {'completion_tokens': 225, 'prompt_tokens': 318, 'total_tokens': 543, 'completion_time': 1.046995475, 'prompt_time': 0.020076964, 'queue_time': 0.05479255599999999, 'total_time': 1.067072439}, 'model_name': 'deepseek-r1-distill-llama-70b', 'system_fingerprint': 'fp_1bbe7845ec', 'finish_reason': 'tool_calls', 'logprobs': None}, id='run--91c7d516-b9a8-49a9-861a-b0fc39ec84aa-0', tool_calls=[{'name': 'search', 'args': {'query': 'New Delhi weather'}, 'id': 'esr5f8ybn', 'type': 'tool_call'}], usage_metadata={'input_tokens': 318, 'output_tokens': 225, 'total_tokens': 543}),\n",
       "   ToolMessage(content='The temperature is 45 degree and sunny', name='search', id='3066ee70-8691-45fb-b847-1f87c9ff7d9c', tool_call_id='esr5f8ybn'),\n",
       "   AIMessage(content='', additional_kwargs={}, response_metadata={'token_usage': {'completion_tokens': 15, 'prompt_tokens': 377, 'total_tokens': 392, 'completion_time': 0.064893899, 'prompt_time': 0.024524046, 'queue_time': 0.053877424, 'total_time': 0.089417945}, 'model_name': 'deepseek-r1-distill-llama-70b', 'system_fingerprint': 'fp_1bbe7845ec', 'finish_reason': 'stop', 'logprobs': None}, id='run--d202aa35-f1b2-433c-986f-4cea4bf2a1c3-0', usage_metadata={'input_tokens': 377, 'output_tokens': 15, 'total_tokens': 392}),\n",
       "   HumanMessage(content='What is weather in Indore?', additional_kwargs={}, response_metadata={}, id='cc99c4dd-232a-4140-a9c2-ff2309b083a2'),\n",
       "   AIMessage(content='', additional_kwargs={'tool_calls': [{'id': '4dmecev16', 'function': {'arguments': '{\"query\":\"Indore weather\"}', 'name': 'search'}, 'type': 'function'}]}, response_metadata={'token_usage': {'completion_tokens': 104, 'prompt_tokens': 387, 'total_tokens': 491, 'completion_time': 0.456053808, 'prompt_time': 0.02523587, 'queue_time': 0.054244759999999996, 'total_time': 0.481289678}, 'model_name': 'deepseek-r1-distill-llama-70b', 'system_fingerprint': 'fp_1bbe7845ec', 'finish_reason': 'tool_calls', 'logprobs': None}, id='run--72a4e707-dcd3-431b-b91d-28ae94ee0fe9-0', tool_calls=[{'name': 'search', 'args': {'query': 'Indore weather'}, 'id': '4dmecev16', 'type': 'tool_call'}], usage_metadata={'input_tokens': 387, 'output_tokens': 104, 'total_tokens': 491}),\n",
       "   ToolMessage(content='Temperature is 25 degree and cloudy', name='search', id='4f56e506-d7be-482d-a73e-9a0fad213394', tool_call_id='4dmecev16'),\n",
       "   AIMessage(content='', additional_kwargs={'tool_calls': [{'id': 'ynryy9jkx', 'function': {'arguments': '{\"query\":\"Indore weather\"}', 'name': 'search'}, 'type': 'function'}]}, response_metadata={'token_usage': {'completion_tokens': 154, 'prompt_tokens': 444, 'total_tokens': 598, 'completion_time': 0.657136891, 'prompt_time': 0.028347346, 'queue_time': 0.053794304, 'total_time': 0.685484237}, 'model_name': 'deepseek-r1-distill-llama-70b', 'system_fingerprint': 'fp_1bbe7845ec', 'finish_reason': 'tool_calls', 'logprobs': None}, id='run--234aad4d-bef5-4deb-a0f5-a13e3ce63065-0', tool_calls=[{'name': 'search', 'args': {'query': 'Indore weather'}, 'id': 'ynryy9jkx', 'type': 'tool_call'}], usage_metadata={'input_tokens': 444, 'output_tokens': 154, 'total_tokens': 598}),\n",
       "   ToolMessage(content='Temperature is 25 degree and cloudy', name='search', id='601c18d1-d334-45bc-b67d-ea1999d0894f', tool_call_id='ynryy9jkx'),\n",
       "   AIMessage(content='', additional_kwargs={}, response_metadata={'token_usage': {'completion_tokens': 31, 'prompt_tokens': 501, 'total_tokens': 532, 'completion_time': 0.150708712, 'prompt_time': 0.032579971, 'queue_time': 0.056269869, 'total_time': 0.183288683}, 'model_name': 'deepseek-r1-distill-llama-70b', 'system_fingerprint': 'fp_1bbe7845ec', 'finish_reason': 'stop', 'logprobs': None}, id='run--d65f4108-32ca-4d11-a69e-9f058dbaa6dd-0', usage_metadata={'input_tokens': 501, 'output_tokens': 31, 'total_tokens': 532})]},\n",
       " 'pending_sends': []}"
      ]
     },
     "execution_count": 253,
     "metadata": {},
     "output_type": "execute_result"
    }
   ],
   "source": [
    "memory.get(config) # Contain entire conversation"
   ]
  },
  {
   "cell_type": "code",
   "execution_count": 256,
   "id": "d9a2ad1f",
   "metadata": {},
   "outputs": [],
   "source": [
    "events = app_4.stream(\n",
    "    {\"messages\":[\"In which city is temperature 25 degree?\"]}, config=config, stream_mode = \"values\")"
   ]
  },
  {
   "cell_type": "code",
   "execution_count": 257,
   "id": "12e130f1",
   "metadata": {},
   "outputs": [
    {
     "name": "stdout",
     "output_type": "stream",
     "text": [
      "================================\u001b[1m Human Message \u001b[0m=================================\n",
      "\n",
      "In which city is temperature 25 degree?\n",
      "==================================\u001b[1m Ai Message \u001b[0m==================================\n",
      "\n",
      "The temperature in **Indore** is 25 degrees and cloudy.\n"
     ]
    }
   ],
   "source": [
    "for event in events:\n",
    "    event[\"messages\"][-1].pretty_print()"
   ]
  },
  {
   "cell_type": "code",
   "execution_count": null,
   "id": "737f2978",
   "metadata": {},
   "outputs": [],
   "source": []
  }
 ],
 "metadata": {
  "kernelspec": {
   "display_name": "venv",
   "language": "python",
   "name": "python3"
  },
  "language_info": {
   "codemirror_mode": {
    "name": "ipython",
    "version": 3
   },
   "file_extension": ".py",
   "mimetype": "text/x-python",
   "name": "python",
   "nbconvert_exporter": "python",
   "pygments_lexer": "ipython3",
   "version": "3.13.2"
  }
 },
 "nbformat": 4,
 "nbformat_minor": 5
}
