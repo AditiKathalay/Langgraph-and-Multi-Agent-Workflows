{
 "cells": [
  {
   "cell_type": "code",
   "execution_count": 1,
   "id": "5f19c0b8",
   "metadata": {},
   "outputs": [],
   "source": [
    "def function_1(input1):\n",
    "    return input1+\" First\""
   ]
  },
  {
   "cell_type": "code",
   "execution_count": 2,
   "id": "e5b3be4c",
   "metadata": {},
   "outputs": [],
   "source": [
    "def function_2(input2):\n",
    "    return input2+\" Second\""
   ]
  },
  {
   "cell_type": "code",
   "execution_count": 3,
   "id": "64f5f2f3",
   "metadata": {},
   "outputs": [],
   "source": [
    "def function_3(input3):\n",
    "    return input2+\" Third\""
   ]
  },
  {
   "cell_type": "code",
   "execution_count": 4,
   "id": "58f5e7c8",
   "metadata": {},
   "outputs": [
    {
     "data": {
      "text/plain": [
       "'Aditi First'"
      ]
     },
     "execution_count": 4,
     "metadata": {},
     "output_type": "execute_result"
    }
   ],
   "source": [
    "function_1(\"Aditi\")"
   ]
  },
  {
   "cell_type": "code",
   "execution_count": 5,
   "id": "1f52e2e9",
   "metadata": {},
   "outputs": [
    {
     "data": {
      "text/plain": [
       "'Kathalay Second'"
      ]
     },
     "execution_count": 5,
     "metadata": {},
     "output_type": "execute_result"
    }
   ],
   "source": [
    "function_2(\"Kathalay\")"
   ]
  },
  {
   "cell_type": "code",
   "execution_count": 20,
   "id": "267960f5",
   "metadata": {},
   "outputs": [],
   "source": [
    "from langgraph.graph import Graph"
   ]
  },
  {
   "cell_type": "code",
   "execution_count": 21,
   "id": "c72d4ceb",
   "metadata": {},
   "outputs": [],
   "source": [
    "workflow_1 = Graph()"
   ]
  },
  {
   "cell_type": "code",
   "execution_count": 22,
   "id": "f9d2fc4c",
   "metadata": {},
   "outputs": [
    {
     "data": {
      "text/plain": [
       "<langgraph.graph.graph.Graph at 0x1ed222e4190>"
      ]
     },
     "execution_count": 22,
     "metadata": {},
     "output_type": "execute_result"
    }
   ],
   "source": [
    "workflow_1.add_node(\"f1\",function_1)"
   ]
  },
  {
   "cell_type": "code",
   "execution_count": 23,
   "id": "cdbeacc5",
   "metadata": {},
   "outputs": [
    {
     "data": {
      "text/plain": [
       "<langgraph.graph.graph.Graph at 0x1ed222e4190>"
      ]
     },
     "execution_count": 23,
     "metadata": {},
     "output_type": "execute_result"
    }
   ],
   "source": [
    "workflow_1.add_node(\"f2\",function_2)"
   ]
  },
  {
   "cell_type": "code",
   "execution_count": 24,
   "id": "7df85531",
   "metadata": {},
   "outputs": [
    {
     "data": {
      "text/plain": [
       "<langgraph.graph.graph.Graph at 0x1ed222e4190>"
      ]
     },
     "execution_count": 24,
     "metadata": {},
     "output_type": "execute_result"
    }
   ],
   "source": [
    "workflow_1.add_node(\"f3\",function_3)"
   ]
  },
  {
   "cell_type": "code",
   "execution_count": 25,
   "id": "678a79b9",
   "metadata": {},
   "outputs": [
    {
     "data": {
      "text/plain": [
       "<langgraph.graph.graph.Graph at 0x1ed222e4190>"
      ]
     },
     "execution_count": 25,
     "metadata": {},
     "output_type": "execute_result"
    }
   ],
   "source": [
    "workflow_1.add_edge(\"f1\",\"f2\")"
   ]
  },
  {
   "cell_type": "code",
   "execution_count": 26,
   "id": "d9e3830d",
   "metadata": {},
   "outputs": [
    {
     "data": {
      "text/plain": [
       "<langgraph.graph.graph.Graph at 0x1ed222e4190>"
      ]
     },
     "execution_count": 26,
     "metadata": {},
     "output_type": "execute_result"
    }
   ],
   "source": [
    "workflow_1.set_entry_point(\"f1\")"
   ]
  },
  {
   "cell_type": "code",
   "execution_count": 27,
   "id": "db49e837",
   "metadata": {},
   "outputs": [
    {
     "data": {
      "text/plain": [
       "<langgraph.graph.graph.Graph at 0x1ed222e4190>"
      ]
     },
     "execution_count": 27,
     "metadata": {},
     "output_type": "execute_result"
    }
   ],
   "source": [
    "workflow_1.set_finish_point(\"f2\")"
   ]
  },
  {
   "cell_type": "code",
   "execution_count": 28,
   "id": "bfa3a047",
   "metadata": {},
   "outputs": [],
   "source": [
    "app = workflow_1.compile()"
   ]
  },
  {
   "cell_type": "code",
   "execution_count": 29,
   "id": "ab25aa2d",
   "metadata": {},
   "outputs": [],
   "source": [
    "from IPython.display import Image,display"
   ]
  },
  {
   "cell_type": "code",
   "execution_count": 30,
   "id": "6685943d",
   "metadata": {},
   "outputs": [
    {
     "data": {
      "image/png": "[encoded data removed]",
      "text/plain": [
       "<IPython.core.display.Image object>"
      ]
     },
     "metadata": {},
     "output_type": "display_data"
    }
   ],
   "source": [
    "display(Image(app.get_graph().draw_mermaid_png()))"
   ]
  },
  {
   "cell_type": "code",
   "execution_count": 31,
   "id": "56d7ab90",
   "metadata": {},
   "outputs": [
    {
     "data": {
      "text/plain": [
       "'Hi, I am Aditi First Second'"
      ]
     },
     "execution_count": 31,
     "metadata": {},
     "output_type": "execute_result"
    }
   ],
   "source": [
    "app.invoke(\"Hi, I am Aditi\")"
   ]
  },
  {
   "cell_type": "code",
   "execution_count": 37,
   "id": "4b9b297a",
   "metadata": {},
   "outputs": [
    {
     "name": "stdout",
     "output_type": "stream",
     "text": [
      "there is output from f1\n",
      "____\n",
      "Hi First\n",
      "\n",
      "\n",
      "there is output from f2\n",
      "____\n",
      "Hi First Second\n",
      "\n",
      "\n"
     ]
    }
   ],
   "source": [
    "for output in app.stream(\"Hi\"):\n",
    "    for key,value in output.items():\n",
    "        print(f\"there is output from {key}\")\n",
    "        print(\"____\")\n",
    "        print(value)\n",
    "        print(\"\\n\")"
   ]
  },
  {
   "cell_type": "markdown",
   "id": "fdaf2856",
   "metadata": {},
   "source": [
    "Integrate LLM Call"
   ]
  },
  {
   "cell_type": "code",
   "execution_count": 38,
   "id": "532cafec",
   "metadata": {},
   "outputs": [],
   "source": [
    "def llm(input):\n",
    "    pass"
   ]
  },
  {
   "cell_type": "code",
   "execution_count": 39,
   "id": "ef8bee71",
   "metadata": {},
   "outputs": [],
   "source": [
    "def calculate_tokens(input):\n",
    "    pass"
   ]
  },
  {
   "cell_type": "code",
   "execution_count": 42,
   "id": "2cf5d633",
   "metadata": {},
   "outputs": [],
   "source": [
    "workflow_2 = Graph()"
   ]
  },
  {
   "cell_type": "code",
   "execution_count": 43,
   "id": "9ab42878",
   "metadata": {},
   "outputs": [
    {
     "data": {
      "text/plain": [
       "<langgraph.graph.graph.Graph at 0x1ed20a70f50>"
      ]
     },
     "execution_count": 43,
     "metadata": {},
     "output_type": "execute_result"
    }
   ],
   "source": [
    "workflow_2.add_node(\"LLM\",llm)"
   ]
  },
  {
   "cell_type": "code",
   "execution_count": 44,
   "id": "10f52d53",
   "metadata": {},
   "outputs": [
    {
     "data": {
      "text/plain": [
       "<langgraph.graph.graph.Graph at 0x1ed20a70f50>"
      ]
     },
     "execution_count": 44,
     "metadata": {},
     "output_type": "execute_result"
    }
   ],
   "source": [
    "workflow_2.add_node(\"Output\",calculate_tokens)"
   ]
  },
  {
   "cell_type": "code",
   "execution_count": 45,
   "id": "d94ec3cd",
   "metadata": {},
   "outputs": [
    {
     "data": {
      "text/plain": [
       "<langgraph.graph.graph.Graph at 0x1ed20a70f50>"
      ]
     },
     "execution_count": 45,
     "metadata": {},
     "output_type": "execute_result"
    }
   ],
   "source": [
    "workflow_2.add_edge(\"LLM\",'Output')"
   ]
  },
  {
   "cell_type": "code",
   "execution_count": 49,
   "id": "2b7ae0a5",
   "metadata": {},
   "outputs": [
    {
     "data": {
      "text/plain": [
       "<langgraph.graph.graph.Graph at 0x1ed20a70f50>"
      ]
     },
     "execution_count": 49,
     "metadata": {},
     "output_type": "execute_result"
    }
   ],
   "source": [
    "workflow_2.set_entry_point(\"LLM\")"
   ]
  },
  {
   "cell_type": "code",
   "execution_count": 50,
   "id": "bbeb011a",
   "metadata": {},
   "outputs": [
    {
     "data": {
      "text/plain": [
       "<langgraph.graph.graph.Graph at 0x1ed20a70f50>"
      ]
     },
     "execution_count": 50,
     "metadata": {},
     "output_type": "execute_result"
    }
   ],
   "source": [
    "workflow_2.set_finish_point(\"Output\")"
   ]
  },
  {
   "cell_type": "code",
   "execution_count": 51,
   "id": "b867f98f",
   "metadata": {},
   "outputs": [],
   "source": [
    "app = workflow_2.compile()"
   ]
  },
  {
   "cell_type": "code",
   "execution_count": 52,
   "id": "ddb884f1",
   "metadata": {},
   "outputs": [
    {
     "data": {
      "image/png": "[encoded data removed]",
      "text/plain": [
       "<IPython.core.display.Image object>"
      ]
     },
     "metadata": {},
     "output_type": "display_data"
    }
   ],
   "source": [
    "display(Image(app.get_graph().draw_mermaid_png()))"
   ]
  },
  {
   "cell_type": "code",
   "execution_count": 53,
   "id": "8fb5f6d3",
   "metadata": {},
   "outputs": [],
   "source": [
    "app.invoke(\"Tell me about India\")"
   ]
  },
  {
   "cell_type": "markdown",
   "id": "87220da3",
   "metadata": {},
   "source": [
    "Now we add LLM"
   ]
  },
  {
   "cell_type": "code",
   "execution_count": 139,
   "id": "73a02a4c",
   "metadata": {},
   "outputs": [],
   "source": [
    "def llm(input):\n",
    "    from langchain_google_genai import ChatGoogleGenerativeAI\n",
    "    model = ChatGoogleGenerativeAI(model='gemini-1.5-flash')\n",
    "    print(\"Model loaded\")\n",
    "    response = model.invoke(input)\n",
    "    return response.content"
   ]
  },
  {
   "cell_type": "code",
   "execution_count": 140,
   "id": "50fdcd62",
   "metadata": {},
   "outputs": [],
   "source": [
    "def token_counter(input):\n",
    "    #token = input.split()\n",
    "    length = len(input)\n",
    "    return length"
   ]
  },
  {
   "cell_type": "code",
   "execution_count": 141,
   "id": "a3d03857",
   "metadata": {},
   "outputs": [],
   "source": [
    "workflow_3 = Graph()"
   ]
  },
  {
   "cell_type": "code",
   "execution_count": 142,
   "id": "fc3c2549",
   "metadata": {},
   "outputs": [
    {
     "data": {
      "text/plain": [
       "<langgraph.graph.graph.Graph at 0x1ed222e5e50>"
      ]
     },
     "execution_count": 142,
     "metadata": {},
     "output_type": "execute_result"
    }
   ],
   "source": [
    "workflow_3.add_node(\"First\",llm)"
   ]
  },
  {
   "cell_type": "code",
   "execution_count": 143,
   "id": "5945c02d",
   "metadata": {},
   "outputs": [
    {
     "data": {
      "text/plain": [
       "<langgraph.graph.graph.Graph at 0x1ed222e5e50>"
      ]
     },
     "execution_count": 143,
     "metadata": {},
     "output_type": "execute_result"
    }
   ],
   "source": [
    "workflow_3.add_node(\"Second\",token_counter)"
   ]
  },
  {
   "cell_type": "code",
   "execution_count": 144,
   "id": "d5fd9575",
   "metadata": {},
   "outputs": [
    {
     "data": {
      "text/plain": [
       "<langgraph.graph.graph.Graph at 0x1ed222e5e50>"
      ]
     },
     "execution_count": 144,
     "metadata": {},
     "output_type": "execute_result"
    }
   ],
   "source": [
    "workflow_3.add_edge(\"First\",\"Second\")"
   ]
  },
  {
   "cell_type": "code",
   "execution_count": 145,
   "id": "b1ab5bc7",
   "metadata": {},
   "outputs": [
    {
     "data": {
      "text/plain": [
       "<langgraph.graph.graph.Graph at 0x1ed222e5e50>"
      ]
     },
     "execution_count": 145,
     "metadata": {},
     "output_type": "execute_result"
    }
   ],
   "source": [
    "workflow_3.set_entry_point(\"First\")"
   ]
  },
  {
   "cell_type": "code",
   "execution_count": 146,
   "id": "25029d16",
   "metadata": {},
   "outputs": [
    {
     "data": {
      "text/plain": [
       "<langgraph.graph.graph.Graph at 0x1ed222e5e50>"
      ]
     },
     "execution_count": 146,
     "metadata": {},
     "output_type": "execute_result"
    }
   ],
   "source": [
    "workflow_3.set_finish_point(\"Second\")"
   ]
  },
  {
   "cell_type": "code",
   "execution_count": 147,
   "id": "6792dc15",
   "metadata": {},
   "outputs": [],
   "source": [
    "app = workflow_3.compile()"
   ]
  },
  {
   "cell_type": "code",
   "execution_count": 148,
   "id": "955ec379",
   "metadata": {},
   "outputs": [
    {
     "name": "stdout",
     "output_type": "stream",
     "text": [
      "Model loaded\n"
     ]
    },
    {
     "data": {
      "text/plain": [
       "3043"
      ]
     },
     "execution_count": 148,
     "metadata": {},
     "output_type": "execute_result"
    }
   ],
   "source": [
    "app.invoke(\"Tell me about India\")"
   ]
  },
  {
   "cell_type": "code",
   "execution_count": 149,
   "id": "da4a0f7c",
   "metadata": {},
   "outputs": [
    {
     "data": {
      "image/png": "[encoded data removed]",
      "text/plain": [
       "<IPython.core.display.Image object>"
      ]
     },
     "metadata": {},
     "output_type": "display_data"
    }
   ],
   "source": [
    "display(Image(app.get_graph().draw_mermaid_png()))"
   ]
  },
  {
   "cell_type": "code",
   "execution_count": 1,
   "id": "baba553b",
   "metadata": {},
   "outputs": [],
   "source": [
    "import os\n",
    "os.environ['HF_TOKEN']=os.getenv(\"HF_TOKEN\")"
   ]
  },
  {
   "cell_type": "code",
   "execution_count": null,
   "id": "51a7dac2",
   "metadata": {},
   "outputs": [],
   "source": []
  }
 ],
 "metadata": {
  "kernelspec": {
   "display_name": "venv",
   "language": "python",
   "name": "python3"
  },
  "language_info": {
   "codemirror_mode": {
    "name": "ipython",
    "version": 3
   },
   "file_extension": ".py",
   "mimetype": "text/x-python",
   "name": "python",
   "nbconvert_exporter": "python",
   "pygments_lexer": "ipython3",
   "version": "3.13.2"
  }
 },
 "nbformat": 4,
 "nbformat_minor": 5
}
