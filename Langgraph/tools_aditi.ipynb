{
 "cells": [
  {
   "cell_type": "code",
   "execution_count": 1,
   "id": "0e4c6023",
   "metadata": {},
   "outputs": [],
   "source": [
    "from langchain_community.tools import WikipediaQueryRun"
   ]
  },
  {
   "cell_type": "code",
   "execution_count": 4,
   "id": "9db94f7e",
   "metadata": {},
   "outputs": [],
   "source": [
    "from langchain_community.utilities import WikipediaAPIWrapper"
   ]
  },
  {
   "cell_type": "code",
   "execution_count": 5,
   "id": "aea31f28",
   "metadata": {},
   "outputs": [],
   "source": [
    "api_wrapper = WikipediaAPIWrapper(top_k_results=5,doc_content_chars_max=500)"
   ]
  },
  {
   "cell_type": "code",
   "execution_count": 7,
   "id": "42c730d8",
   "metadata": {},
   "outputs": [],
   "source": [
    "wiki_tool = WikipediaQueryRun(api_wrapper=api_wrapper)"
   ]
  },
  {
   "cell_type": "code",
   "execution_count": 8,
   "id": "33d5ecda",
   "metadata": {},
   "outputs": [
    {
     "data": {
      "text/plain": [
       "'wikipedia'"
      ]
     },
     "execution_count": 8,
     "metadata": {},
     "output_type": "execute_result"
    }
   ],
   "source": [
    "wiki_tool.name"
   ]
  },
  {
   "cell_type": "code",
   "execution_count": 9,
   "id": "67bcf540",
   "metadata": {},
   "outputs": [
    {
     "data": {
      "text/plain": [
       "'A wrapper around Wikipedia. Useful for when you need to answer general questions about people, places, companies, facts, historical events, or other subjects. Input should be a search query.'"
      ]
     },
     "execution_count": 9,
     "metadata": {},
     "output_type": "execute_result"
    }
   ],
   "source": [
    "wiki_tool.description"
   ]
  },
  {
   "cell_type": "code",
   "execution_count": 10,
   "id": "170dae2a",
   "metadata": {},
   "outputs": [
    {
     "data": {
      "text/plain": [
       "{'query': {'description': 'query to look up on wikipedia',\n",
       "  'title': 'Query',\n",
       "  'type': 'string'}}"
      ]
     },
     "execution_count": 10,
     "metadata": {},
     "output_type": "execute_result"
    }
   ],
   "source": [
    "wiki_tool.args"
   ]
  },
  {
   "cell_type": "code",
   "execution_count": 12,
   "id": "d9bf6c97",
   "metadata": {},
   "outputs": [
    {
     "data": {
      "text/plain": [
       "\"Page: Elon Musk\\nSummary: Elon Reeve Musk ( EE-lon; born June 28, 1971) is a businessman known for his leadership of Tesla, SpaceX, X (formerly Twitter) and the Department of Government Efficiency (DOGE). Musk has been considered the wealthiest person in the world since 2021; as of May 2025, Forbes estimates his net worth to be US$424.7 billion. \\nBorn to a wealthy family in Pretoria, South Africa, Musk emigrated in 1989 to Canada. He received bachelor's degrees from the University of Pennsylvania\""
      ]
     },
     "execution_count": 12,
     "metadata": {},
     "output_type": "execute_result"
    }
   ],
   "source": [
    "wiki_tool.run({\"query\":\"Elon Musk\"}) #restrics answer in character lengths"
   ]
  },
  {
   "cell_type": "code",
   "execution_count": 14,
   "id": "ac2db1f3",
   "metadata": {},
   "outputs": [
    {
     "data": {
      "text/plain": [
       "\"Page: Kareena Kapoor Khan\\nSummary: Kareena Kapoor Khan (pronounced [kəˈriːna kəˈpuːr xɑːn]; née Kapoor; born 21 September 1980) is an Indian actress. A prolific leading lady of Hindi cinema since 2000, she is noted for her roles in a range of film genres—from romantic comedies to crime dramas. Kapoor is the recipient of several awards, including six Filmfare Awards, and as of 2024, is one of Hindi cinema's highest-paid actresses.\\nBorn into the Kapoor family, she is the daughter of actors Babita \""
      ]
     },
     "execution_count": 14,
     "metadata": {},
     "output_type": "execute_result"
    }
   ],
   "source": [
    "wiki_tool.run(\"Kareena Kapoor Birth Date\")"
   ]
  },
  {
   "cell_type": "code",
   "execution_count": 15,
   "id": "6644b27c",
   "metadata": {},
   "outputs": [],
   "source": [
    "from langchain_community.tools import YouTubeSearchTool"
   ]
  },
  {
   "cell_type": "code",
   "execution_count": 16,
   "id": "2db1d7c5",
   "metadata": {},
   "outputs": [],
   "source": [
    "yt_tool = YouTubeSearchTool()"
   ]
  },
  {
   "cell_type": "code",
   "execution_count": 18,
   "id": "5805d79f",
   "metadata": {},
   "outputs": [
    {
     "data": {
      "text/plain": [
       "\"['https://www.youtube.com/watch?v=9R3X0JoCLyU&pp=ygUZRGF0YSBTY2llbmNlIEVhc3kgUm9hZG1hcA%3D%3D', 'https://www.youtube.com/watch?v=uIUvpJdYgSA&pp=ygUZRGF0YSBTY2llbmNlIEVhc3kgUm9hZG1hcA%3D%3D']\""
      ]
     },
     "execution_count": 18,
     "metadata": {},
     "output_type": "execute_result"
    }
   ],
   "source": [
    "yt_tool.run(\"Data Science Easy Roadmap\")"
   ]
  },
  {
   "cell_type": "code",
   "execution_count": 19,
   "id": "2f064780",
   "metadata": {},
   "outputs": [],
   "source": [
    "from langchain_community.tools import TavilySearchResults"
   ]
  },
  {
   "cell_type": "code",
   "execution_count": 25,
   "id": "404ccdb2",
   "metadata": {},
   "outputs": [],
   "source": [
    "tav_tool = TavilySearchResults(tavily_api_key = \"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\")"
   ]
  },
  {
   "cell_type": "code",
   "execution_count": 26,
   "id": "f2b60d4b",
   "metadata": {},
   "outputs": [
    {
     "data": {
      "text/plain": [
       "[{'title': 'January 12, 1988, What happened that day? | TakeMeBack.to',\n",
       "  'url': 'https://takemeback.to/12-January-1988',\n",
       "  'content': 'First U.S. Test Tube Quintuplets Born A groundbreaking medical event occurred in Royal Oak, Michigan, with the birth of the first U.S. test tube',\n",
       "  'score': 0.7533401},\n",
       " {'title': 'Birthday Analysis for January 12, 1988 - Zodiac sign and Horoscope',\n",
       "  'url': 'https://www.ask-oracle.com/birthday/1988/01/12/',\n",
       "  'content': \"While they may excel in the workplace, individuals born on January 12, 1988 may face certain challenges in their educational pursuits. They may struggle with disorganization and easily become distracted, leading to frustration and difficulty staying on track.\\n\\n**Exposure to Coping Skills and Self-Destructive Behaviors** [...] During their childhood, individuals born on January 12, 1988 may have been exposed to various coping skills and self-destructive behaviors due to an emotionally unstable mother. This unstable environment can have a profound impact on their mentality, emphasizing the importance of stability in a child's formative years for developing a strong and successful character.\\n\\n**Actionable Insights and Quotes**\\n\\n## Yearly Predictions [...] In the realm of work, individuals born on January 12, 1988 are known for their hard work and unwavering optimism. They approach their tasks with dedication and enthusiasm, often going above and beyond to achieve their goals. Their optimistic outlook helps them overcome obstacles and maintain a positive attitude even in challenging situations.\\n\\n**Challenges in Education: Disorganization and Frustration**\",\n",
       "  'score': 0.7395922},\n",
       " {'title': 'What Happened on January 12, 1988 - On This Day',\n",
       "  'url': 'https://www.onthisday.com/date/1988/january/12',\n",
       "  'content': 'What Happened in 1988 · Cold War Bumping Incident · Louvre Pyramid · A Beautiful Day in Moscow · Lockerbie Bombing of Pan Am Flight 103.',\n",
       "  'score': 0.7352811},\n",
       " {'title': '24 Fun Birthday Facts About January 12, 1988 You Must Know',\n",
       "  'url': 'https://mybirthday.ninja/?m=January&d=12&y=1988&go=Go',\n",
       "  'content': '![Cool Info Ninja](https://mybirthday.ninja/images/icons/info-ninja.jpg?v=3.0.4)*January 12, 1988* was a Tuesday and it was the 12th day of the year 1988. It was the 2nd Tuesday of that year. The next time you can reuse your old [1988 calendar](https://mybirthday.ninja/calendar/1988?v=3.0.4) will be in [2044](https://mybirthday.ninja/calendar/2044?v=3.0.4). Both calendars will be exactly the same! This is assuming you are not interested in the dates for Easter and other irregular holidays that [...] Base on the data published by the *United Nations Population Division,* an estimated **139,142,510** babies were born throughout the world in the year 1988. The estimated number of babies born on 12th January 1988 is **380,171**. That’s equivalent to **264** babies every minute. Try to imagine if all of them are crying at the same time.\\n\\n### What is the popular baby name on 12 Jan 1988? [...] ![Coffee Love](https://mybirthday.ninja/images/icons/coffee-love-icon-rounded-144x144.jpg?v=3.0.4)\\n\\n### What happened on my birthday – Jan 12th?\\n\\nThese were the events that made history that coincide with your birthday.\\n\\nView the complete list of [January 12 historical events](https://mybirthday.ninja/birthday-events/January-12/?v=3.0.4).',\n",
       "  'score': 0.72489023},\n",
       " {'title': 'What Happened in January 1988 - On This Day',\n",
       "  'url': 'https://www.onthisday.com/date/1988/january',\n",
       "  'content': '[Jan 9](/date/1988/january/9) US male Figure Skating championship won by [Brian Boitano](/people/brian-boitano)\\n\\n![](/images/people/brian-boitano.jpg?w=200)\\n\\n### [Baseball Hall of Fame](/sport/baseball/baseball-hall-of-fame)\\n\\n![](/images/hall-of-fame.svg)\\n\\n[Jan 12](/date/1988/january/12) Pittsburgh Pirates outfielder/first baseman [Willie Stargell](/people/willie-stargell) elected to Baseball Hall of Fame\\n\\n![](/images/people/willie-stargell.jpg?w=200)\\n\\n### Garvey Retires [...] ![](/images/baseball.svg)\\n\\n[Jan 13](/date/1988/january/13) MLB Los Angeles Dodger/San Diego Padre [Steve Garvey](/people/steve-garvey) retires\\n\\n![](/images/people/steve-garvey.jpg?w=200)\\n\\n### Dissident Havel Arrested\\n\\n![](/images/flags/czech-republic.svg)\\n\\n[Jan 16](/date/1988/january/16) Czech dissident [Václav Havel](/people/vaclav-havel) is arrested in Prague for taking part in demonstrations against the communist government\\n\\n![](/images/people/vaclav-havel.jpg?w=200) [...] ### A Beautiful Day in Moscow\\n\\n![](/images/photos/lockerbie-crash-site-pan-am-flight-103.jpg?w=270)\\n\\n### Lockerbie Bombing of Pan Am Flight 103\\n\\n![](/images/photos/the-fog-bowl.jpg?w=270)\\n\\n### The 1988 Fog Bowl\\n\\nSearch the largest and most accurate independent site for today in history.',\n",
       "  'score': 0.6999322}]"
      ]
     },
     "execution_count": 26,
     "metadata": {},
     "output_type": "execute_result"
    }
   ],
   "source": [
    "tav_tool.invoke(\"What happened on 12th Jan 1988 \")"
   ]
  },
  {
   "cell_type": "code",
   "execution_count": 27,
   "id": "65583c00",
   "metadata": {},
   "outputs": [],
   "source": [
    "import os \n",
    "TAVILY_API_KEY = os.getenv(\"TAVILY_API_KEY\")"
   ]
  },
  {
   "cell_type": "code",
   "execution_count": null,
   "id": "aaf0f51a",
   "metadata": {},
   "outputs": [],
   "source": []
  }
 ],
 "metadata": {
  "kernelspec": {
   "display_name": "venv",
   "language": "python",
   "name": "python3"
  },
  "language_info": {
   "codemirror_mode": {
    "name": "ipython",
    "version": 3
   },
   "file_extension": ".py",
   "mimetype": "text/x-python",
   "name": "python",
   "nbconvert_exporter": "python",
   "pygments_lexer": "ipython3",
   "version": "3.13.2"
  }
 },
 "nbformat": 4,
 "nbformat_minor": 5
}
