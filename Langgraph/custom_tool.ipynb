{
 "cells": [
  {
   "cell_type": "markdown",
   "id": "7f6b1ccf",
   "metadata": {},
   "source": [
    "Custom Tool"
   ]
  },
  {
   "cell_type": "markdown",
   "id": "b0a37f6e",
   "metadata": {},
   "source": [
    "###### we need youtube-search and youtube-search-python"
   ]
  },
  {
   "cell_type": "code",
   "execution_count": 1,
   "id": "f57408fd",
   "metadata": {},
   "outputs": [],
   "source": [
    "def multiply(a:int,b:int)->int:\n",
    "    return a*b"
   ]
  },
  {
   "cell_type": "code",
   "execution_count": 2,
   "id": "3f230694",
   "metadata": {},
   "outputs": [
    {
     "data": {
      "text/plain": [
       "6"
      ]
     },
     "execution_count": 2,
     "metadata": {},
     "output_type": "execute_result"
    }
   ],
   "source": [
    "multiply(2,3)"
   ]
  },
  {
   "cell_type": "markdown",
   "id": "73ab08b2",
   "metadata": {},
   "source": [
    "But this is a normal function, to make it a langgraph tool we need agent \n",
    "tool decorator and doctstring\n",
    "@tool and ''' matter ''' "
   ]
  },
  {
   "cell_type": "code",
   "execution_count": 12,
   "id": "0b8ad5eb",
   "metadata": {},
   "outputs": [],
   "source": [
    "from langchain.agents import tool\n",
    "\n",
    "@tool\n",
    "def multiply(a:int,b:int)->int:\n",
    "    '''This tool is used to multiply'''\n",
    "    return a*b"
   ]
  },
  {
   "cell_type": "code",
   "execution_count": 13,
   "id": "f1c82b87",
   "metadata": {},
   "outputs": [
    {
     "data": {
      "text/plain": [
       "6"
      ]
     },
     "execution_count": 13,
     "metadata": {},
     "output_type": "execute_result"
    }
   ],
   "source": [
    "multiply.invoke({'a':2,'b':3})"
   ]
  },
  {
   "cell_type": "code",
   "execution_count": 14,
   "id": "148b5ab4",
   "metadata": {},
   "outputs": [],
   "source": [
    "@tool\n",
    "def get_word_length(word:str)->int:\n",
    "    '''Word Length Tool'''\n",
    "    return len(word)"
   ]
  },
  {
   "cell_type": "code",
   "execution_count": null,
   "id": "ee253a9c",
   "metadata": {},
   "outputs": [
    {
     "name": "stderr",
     "output_type": "stream",
     "text": [
      "C:\\Users\\aditi_zg48xl\\AppData\\Local\\Temp\\ipykernel_19668\\1951256934.py:1: LangChainDeprecationWarning: The method `BaseTool.__call__` was deprecated in langchain-core 0.1.47 and will be removed in 1.0. Use :meth:`~invoke` instead.\n",
      "  get_word_length(\"Aditi\")\n"
     ]
    },
    {
     "data": {
      "text/plain": [
       "5"
      ]
     },
     "execution_count": 19,
     "metadata": {},
     "output_type": "execute_result"
    }
   ],
   "source": [
    "get_word_length(\"Aditi\")\n",
    "\n",
    "# only one argument"
   ]
  },
  {
   "cell_type": "code",
   "execution_count": 20,
   "id": "e0800745",
   "metadata": {},
   "outputs": [
    {
     "data": {
      "text/plain": [
       "5"
      ]
     },
     "execution_count": 20,
     "metadata": {},
     "output_type": "execute_result"
    }
   ],
   "source": [
    "get_word_length.invoke(\"Aditi\")\n",
    "\n",
    "# only one argument"
   ]
  },
  {
   "cell_type": "code",
   "execution_count": 21,
   "id": "1be2faaa",
   "metadata": {},
   "outputs": [],
   "source": [
    "@tool \n",
    "def call_gemini_api(args):\n",
    "    ''' Calls Gemini API'''\n",
    "    pass"
   ]
  },
  {
   "cell_type": "code",
   "execution_count": null,
   "id": "9d7e5a5b",
   "metadata": {},
   "outputs": [],
   "source": []
  }
 ],
 "metadata": {
  "kernelspec": {
   "display_name": "venv",
   "language": "python",
   "name": "python3"
  },
  "language_info": {
   "codemirror_mode": {
    "name": "ipython",
    "version": 3
   },
   "file_extension": ".py",
   "mimetype": "text/x-python",
   "name": "python",
   "nbconvert_exporter": "python",
   "pygments_lexer": "ipython3",
   "version": "3.13.2"
  }
 },
 "nbformat": 4,
 "nbformat_minor": 5
}
