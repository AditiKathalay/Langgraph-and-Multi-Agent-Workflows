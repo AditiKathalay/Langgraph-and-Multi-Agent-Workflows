{
 "cells": [
  {
   "cell_type": "markdown",
   "metadata": {},
   "source": []
  },
  {
   "cell_type": "code",
   "execution_count": 8,
   "id": "d18f4809",
   "metadata": {},
   "outputs": [
    {
     "data": {
      "text/plain": [
       "True"
      ]
     },
     "execution_count": 8,
     "metadata": {},
     "output_type": "execute_result"
    }
   ],
   "source": [
    "import os\n",
    "from dotenv import load_dotenv\n",
    "load_dotenv()"
   ]
  },
  {
   "cell_type": "code",
   "execution_count": 9,
   "id": "f6a43768",
   "metadata": {},
   "outputs": [],
   "source": [
    "os.environ[\"GROQ_API_KEY\"]=os.getenv(\"GROQ_API_KEY\")"
   ]
  },
  {
   "cell_type": "code",
   "execution_count": 10,
   "id": "d287cc26",
   "metadata": {},
   "outputs": [
    {
     "data": {
      "text/plain": [
       "'<think>\\n\\n</think>\\n\\nHello! How can I assist you today? 😊'"
      ]
     },
     "execution_count": 10,
     "metadata": {},
     "output_type": "execute_result"
    }
   ],
   "source": [
    "from langchain_groq import ChatGroq\n",
    "llm = ChatGroq(model_name = \"deepseek-r1-distill-llama-70b\",\n",
    "temperature = 0)\n",
    "\n",
    "response = llm.invoke(\"Hi\").content\n",
    "response"
   ]
  },
  {
   "cell_type": "code",
   "execution_count": 11,
   "id": "403b18ac",
   "metadata": {},
   "outputs": [],
   "source": [
    "from langchain_core.tools import tool"
   ]
  },
  {
   "cell_type": "code",
   "execution_count": 12,
   "id": "c45d7cfd",
   "metadata": {},
   "outputs": [],
   "source": [
    "@tool\n",
    "def multiply(a:int, b:int)->int:\n",
    "    \"\"\"Just takes in two ints and gives product\"\"\"\n",
    "    pass\n",
    "\n",
    "@tool \n",
    "def add(a:int, b:int)->int:\n",
    "    \"\"\"Just takes in two ints and gives addition\"\"\"\n",
    "    pass\n",
    "\n",
    "@tool \n",
    "def divide(a:int, b:int)->float:\n",
    "    \"\"\"Just takes in two ints and gives division\"\"\"\n",
    "    pass"
   ]
  },
  {
   "cell_type": "markdown",
   "id": "90075166",
   "metadata": {},
   "source": [
    "Imbuilt Tool for web crawler"
   ]
  },
  {
   "cell_type": "code",
   "execution_count": 13,
   "id": "581b6597",
   "metadata": {},
   "outputs": [],
   "source": [
    "from langchain_community.tools import DuckDuckGoSearchRun"
   ]
  },
  {
   "cell_type": "code",
   "execution_count": 14,
   "id": "8348d3b2",
   "metadata": {},
   "outputs": [],
   "source": [
    "search = DuckDuckGoSearchRun()"
   ]
  },
  {
   "cell_type": "code",
   "execution_count": 15,
   "id": "b6ac1b50",
   "metadata": {},
   "outputs": [
    {
     "data": {
      "text/plain": [
       "'2025 could bring one of the biggest updates to the iPhone\\'s design that we\\'ve seen since the 2017 iPhone X, with Apple rumored to be planning for an all-new iPhone 17 \"Air\" that has a much thinner ... CUPERTINO, CALIFORNIA Apple today previewed iOS 26, a major update that brings a beautiful new design, intelligent experiences, and improvements to the apps users rely on every day.The new design provides a more expressive and delightful experience across the system while maintaining the instant familiarity of iOS. iPhone 17: New slimmer \\'iPhone 17 Air\\' model. ... Various rumors suggest that the new iPhones could benefit from the following updates: Design and display. Right now, the most powerful MagSafe wireless charging for the latest iPhone 16 is 25W. More than that, another benefit for Qi 2.2 it\\'s more efficient, with less power loss or heat generation. The pressure was on for Apple to prove that Apple Intelligence justifies buying a new iPhone or Mac. ... (i.e. iOS 17 to iOS 18), the update announced Monday jumps to OS 26 for all of the company ...'"
      ]
     },
     "execution_count": 15,
     "metadata": {},
     "output_type": "execute_result"
    }
   ],
   "source": [
    "search.invoke(\"Latest update on iPhone 17\")"
   ]
  },
  {
   "cell_type": "code",
   "execution_count": 16,
   "id": "ac862ac4",
   "metadata": {},
   "outputs": [],
   "source": [
    "tools = [multiply, add, divide, search]"
   ]
  },
  {
   "cell_type": "code",
   "execution_count": 17,
   "id": "95dc20ee",
   "metadata": {},
   "outputs": [],
   "source": [
    "llm_with_tools = llm.bind_tools(tools)"
   ]
  },
  {
   "cell_type": "code",
   "execution_count": 19,
   "id": "0335d4c5",
   "metadata": {},
   "outputs": [],
   "source": [
    "response = llm_with_tools.invoke(\"Hi\")"
   ]
  },
  {
   "cell_type": "code",
   "execution_count": 20,
   "id": "393e8e09",
   "metadata": {},
   "outputs": [
    {
     "data": {
      "text/plain": [
       "'Hello! How can I assist you today?'"
      ]
     },
     "execution_count": 20,
     "metadata": {},
     "output_type": "execute_result"
    }
   ],
   "source": [
    "response.content"
   ]
  },
  {
   "cell_type": "code",
   "execution_count": 21,
   "id": "b2a8cf91",
   "metadata": {},
   "outputs": [
    {
     "data": {
      "text/plain": [
       "[]"
      ]
     },
     "execution_count": 21,
     "metadata": {},
     "output_type": "execute_result"
    }
   ],
   "source": [
    "response.tool_calls"
   ]
  },
  {
   "cell_type": "code",
   "execution_count": 23,
   "id": "def2e1d2",
   "metadata": {},
   "outputs": [],
   "source": [
    "response = llm_with_tools.invoke(\"What is 2+2?\")"
   ]
  },
  {
   "cell_type": "code",
   "execution_count": 24,
   "id": "fa290c42",
   "metadata": {},
   "outputs": [
    {
     "data": {
      "text/plain": [
       "''"
      ]
     },
     "execution_count": 24,
     "metadata": {},
     "output_type": "execute_result"
    }
   ],
   "source": [
    "response.content"
   ]
  },
  {
   "cell_type": "code",
   "execution_count": 25,
   "id": "4e23625a",
   "metadata": {},
   "outputs": [
    {
     "data": {
      "text/plain": [
       "[{'name': 'add',\n",
       "  'args': {'a': 2, 'b': 2},\n",
       "  'id': 'q1y7exd4x',\n",
       "  'type': 'tool_call'}]"
      ]
     },
     "execution_count": 25,
     "metadata": {},
     "output_type": "execute_result"
    }
   ],
   "source": [
    "response.tool_calls"
   ]
  },
  {
   "cell_type": "code",
   "execution_count": 28,
   "id": "46bc3cec",
   "metadata": {},
   "outputs": [],
   "source": [
    "response = llm_with_tools.invoke(\"what is current age of TATA group\")"
   ]
  },
  {
   "cell_type": "code",
   "execution_count": 29,
   "id": "07011036",
   "metadata": {},
   "outputs": [
    {
     "data": {
      "text/plain": [
       "''"
      ]
     },
     "execution_count": 29,
     "metadata": {},
     "output_type": "execute_result"
    }
   ],
   "source": [
    "response.content"
   ]
  },
  {
   "cell_type": "code",
   "execution_count": 30,
   "id": "f86abbfa",
   "metadata": {},
   "outputs": [
    {
     "data": {
      "text/plain": [
       "[{'name': 'duckduckgo_search',\n",
       "  'args': {'query': 'Tata Group founding year'},\n",
       "  'id': '7ash3de2t',\n",
       "  'type': 'tool_call'}]"
      ]
     },
     "execution_count": 30,
     "metadata": {},
     "output_type": "execute_result"
    }
   ],
   "source": [
    "response.tool_calls"
   ]
  },
  {
   "cell_type": "code",
   "execution_count": 73,
   "id": "37b3b846",
   "metadata": {},
   "outputs": [],
   "source": [
    "SYSTEM_PROMPT = \"You are a helpful assistant tasked with using search and performing arithmetic operations\""
   ]
  },
  {
   "cell_type": "code",
   "execution_count": null,
   "id": "d8cdfc8c",
   "metadata": {},
   "outputs": [],
   "source": [
    "# user_query = [\"Tell me 2+2\"]"
   ]
  },
  {
   "cell_type": "code",
   "execution_count": null,
   "id": "e4d84ff0",
   "metadata": {},
   "outputs": [
    {
     "data": {
      "text/plain": [
       "['You are a helpful assistant tasked with using search and performing arithmetic operations',\n",
       " 'Tell me 2+2']"
      ]
     },
     "execution_count": 75,
     "metadata": {},
     "output_type": "execute_result"
    }
   ],
   "source": [
    "# [SYSTEM_PROMPT]+user_query"
   ]
  },
  {
   "cell_type": "code",
   "execution_count": 77,
   "id": "6728c859",
   "metadata": {},
   "outputs": [],
   "source": [
    "def function_1(state):\n",
    "    user_question = state[\"messages\"]\n",
    "    input_question = [SYSTEM_PROMPT]+user_question\n",
    "    response = llm_with_tools.invoke(input_question)\n",
    "    return {\n",
    "        \"messages\" :[response] \n",
    "    }"
   ]
  },
  {
   "cell_type": "code",
   "execution_count": 78,
   "id": "28e1c8e0",
   "metadata": {},
   "outputs": [],
   "source": [
    "from langgraph.graph import StateGraph, END, MessagesState, START\n",
    "from langchain_core.messages import HumanMessage, AIMessage"
   ]
  },
  {
   "cell_type": "code",
   "execution_count": 79,
   "id": "5d4859e4",
   "metadata": {},
   "outputs": [],
   "source": [
    "builder = StateGraph(MessagesState)"
   ]
  },
  {
   "cell_type": "code",
   "execution_count": 80,
   "id": "9b4a9515",
   "metadata": {},
   "outputs": [],
   "source": [
    "from langgraph.prebuilt import ToolNode, tools_condition"
   ]
  },
  {
   "cell_type": "code",
   "execution_count": 81,
   "id": "17eecd3c",
   "metadata": {},
   "outputs": [
    {
     "data": {
      "text/plain": [
       "<langgraph.graph.state.StateGraph at 0x1e703789f90>"
      ]
     },
     "execution_count": 81,
     "metadata": {},
     "output_type": "execute_result"
    }
   ],
   "source": [
    "\n",
    "builder.add_node(\"llm_decision_step\",function_1)\n",
    "builder.add_node(\"tools\",ToolNode(tools)) #convert the tools list into a node"
   ]
  },
  {
   "cell_type": "code",
   "execution_count": 82,
   "id": "8601532f",
   "metadata": {},
   "outputs": [
    {
     "data": {
      "text/plain": [
       "<langgraph.graph.state.StateGraph at 0x1e703789f90>"
      ]
     },
     "execution_count": 82,
     "metadata": {},
     "output_type": "execute_result"
    }
   ],
   "source": [
    "builder.add_edge(START, \"llm_decision_step\")"
   ]
  },
  {
   "cell_type": "code",
   "execution_count": 83,
   "id": "1c85f31b",
   "metadata": {},
   "outputs": [
    {
     "data": {
      "text/plain": [
       "<langgraph.graph.state.StateGraph at 0x1e703789f90>"
      ]
     },
     "execution_count": 83,
     "metadata": {},
     "output_type": "execute_result"
    }
   ],
   "source": [
    "builder.add_conditional_edges(\"llm_decision_step\",\n",
    "                             tools_condition\n",
    "                             )"
   ]
  },
  {
   "cell_type": "code",
   "execution_count": 84,
   "id": "5b266367",
   "metadata": {},
   "outputs": [
    {
     "data": {
      "text/plain": [
       "<langgraph.graph.state.StateGraph at 0x1e703789f90>"
      ]
     },
     "execution_count": 84,
     "metadata": {},
     "output_type": "execute_result"
    }
   ],
   "source": [
    "builder.add_edge(\"tools\", \"llm_decision_step\")"
   ]
  },
  {
   "cell_type": "code",
   "execution_count": 87,
   "id": "22802b47",
   "metadata": {},
   "outputs": [],
   "source": [
    "react_graph = builder.compile()"
   ]
  },
  {
   "cell_type": "code",
   "execution_count": 88,
   "id": "307fa2c2",
   "metadata": {},
   "outputs": [
    {
     "data": {
      "image/png": "[encoded data removed]",
      "text/plain": [
       "<IPython.core.display.Image object>"
      ]
     },
     "metadata": {},
     "output_type": "display_data"
    }
   ],
   "source": [
    "from IPython.display import Image,display\n",
    "display(Image(workflow.get_graph().draw_mermaid_png()))"
   ]
  },
  {
   "cell_type": "code",
   "execution_count": 91,
   "id": "b06d8eff",
   "metadata": {},
   "outputs": [],
   "source": [
    "message = [HumanMessage(\"What is 2 times Narendr Modi's age?\")]"
   ]
  },
  {
   "cell_type": "code",
   "execution_count": 92,
   "id": "f88cba01",
   "metadata": {},
   "outputs": [
    {
     "data": {
      "text/plain": [
       "{'messages': [HumanMessage(content=\"What is 2 times Narendr Modi's age?\", additional_kwargs={}, response_metadata={}, id='3854f23d-97d7-48c4-8c6b-bbc37110a29a'),\n",
       "  AIMessage(content='', additional_kwargs={'tool_calls': [{'id': 'wfst7b5xj', 'function': {'arguments': '{\"query\":\"Narendra Modi age\"}', 'name': 'duckduckgo_search'}, 'type': 'function'}]}, response_metadata={'token_usage': {'completion_tokens': 303, 'prompt_tokens': 312, 'total_tokens': 615, 'completion_time': 1.23405166, 'prompt_time': 0.019702524, 'queue_time': 0.053449386, 'total_time': 1.253754184}, 'model_name': 'deepseek-r1-distill-llama-70b', 'system_fingerprint': 'fp_1bbe7845ec', 'finish_reason': 'tool_calls', 'logprobs': None}, id='run--b5a0164a-7a83-451f-a6bb-f8ba27eb1da9-0', tool_calls=[{'name': 'duckduckgo_search', 'args': {'query': 'Narendra Modi age'}, 'id': 'wfst7b5xj', 'type': 'tool_call'}], usage_metadata={'input_tokens': 312, 'output_tokens': 303, 'total_tokens': 615}),\n",
       "  ToolMessage(content='Narendra Modi is the 14th prime minister of India. His Hindu nationalist policies and some of his economic reforms have proved controversial to many within and outside India. ... September 17, 1950, Vadnagar, India (age 74) (Show more) Title / Office: prime minister (2014-), India (Show more) Political Affiliation: Bharatiya Janata Party ... List of all Prime Ministers of India till 2025: Narendra Modi is the current and 14th Prime Minister of India who assumed office on 10 June 2024. Jawaharlal Nehru is the first and the longest ... Narendra Modi biography. Here are 20 key details about Narendra Modi: Full Name: Narendra Damodardas Modi.; Date of Birth: September 17, 1950.; Birthplace: Vadnagar, Gujarat, India. Current Position: Prime Minister of India, serving since May 26, 2014. Political Party: Bharatiya Janata Party (BJP). Previous Role: Chief Minister of Gujarat from October 2001 to May 2014. Learn about the life and achievements of Narendra Modi, the 14th Prime Minister of India, who was born on September 17, 1950, in Gujarat. Find out his full name, mother, father, wife, education, party, and net worth here. Learn about the life and achievements of Narendra Modi, the current Prime Minister of India, who was born on September 17, 1950, in Gujarat. Find out his full name, constituency, education, and political journey from a humble background to a prominent leader.', name='duckduckgo_search', id='106e72f4-1cf8-4af7-8fd4-5dad5f2024a8', tool_call_id='wfst7b5xj'),\n",
       "  AIMessage(content='', additional_kwargs={'tool_calls': [{'id': 'z1p4dhvap', 'function': {'arguments': '{\"a\":2,\"b\":74}', 'name': 'multiply'}, 'type': 'function'}]}, response_metadata={'token_usage': {'completion_tokens': 359, 'prompt_tokens': 703, 'total_tokens': 1062, 'completion_time': 1.512755565, 'prompt_time': 0.052873048, 'queue_time': 0.053698002, 'total_time': 1.565628613}, 'model_name': 'deepseek-r1-distill-llama-70b', 'system_fingerprint': 'fp_1bbe7845ec', 'finish_reason': 'tool_calls', 'logprobs': None}, id='run--752e9a20-9c98-4fe1-9157-12c835bed8e6-0', tool_calls=[{'name': 'multiply', 'args': {'a': 2, 'b': 74}, 'id': 'z1p4dhvap', 'type': 'tool_call'}], usage_metadata={'input_tokens': 703, 'output_tokens': 359, 'total_tokens': 1062}),\n",
       "  ToolMessage(content='null', name='multiply', id='cf4a3861-f928-4f21-a744-3fb9bd6ce49a', tool_call_id='z1p4dhvap'),\n",
       "  AIMessage(content=\"Narendra Modi is 74 years old. Therefore, 2 times Narendra Modi's age is:\\n\\n2 × 74 = 148\\n\\n**Answer:** 148\", additional_kwargs={}, response_metadata={'token_usage': {'completion_tokens': 364, 'prompt_tokens': 756, 'total_tokens': 1120, 'completion_time': 1.72526975, 'prompt_time': 0.056503381, 'queue_time': 0.053456179, 'total_time': 1.781773131}, 'model_name': 'deepseek-r1-distill-llama-70b', 'system_fingerprint': 'fp_1bbe7845ec', 'finish_reason': 'stop', 'logprobs': None}, id='run--34efd275-bb63-4023-92dd-eb2ebc794c75-0', usage_metadata={'input_tokens': 756, 'output_tokens': 364, 'total_tokens': 1120})]}"
      ]
     },
     "execution_count": 92,
     "metadata": {},
     "output_type": "execute_result"
    }
   ],
   "source": [
    "react_graph.invoke({\"messages\":message})"
   ]
  },
  {
   "cell_type": "code",
   "execution_count": 94,
   "id": "cf949087",
   "metadata": {},
   "outputs": [],
   "source": [
    "import yfinance as yf"
   ]
  },
  {
   "cell_type": "code",
   "execution_count": 95,
   "id": "950a16fe",
   "metadata": {},
   "outputs": [],
   "source": [
    "@tool\n",
    "def get_stock_price(ticker:str)->str:\n",
    "    \"LOL\""
   ]
  },
  {
   "cell_type": "code",
   "execution_count": 96,
   "id": "73c443d8",
   "metadata": {},
   "outputs": [],
   "source": [
    "get_stock_price.invoke(\"Tesla\")"
   ]
  },
  {
   "cell_type": "code",
   "execution_count": 97,
   "id": "6d2d1872",
   "metadata": {},
   "outputs": [
    {
     "data": {
      "text/plain": [
       "[StructuredTool(name='multiply', description='Just takes in two ints and gives product', args_schema=<class 'langchain_core.utils.pydantic.multiply'>, func=<function multiply at 0x000001E702AA8040>),\n",
       " StructuredTool(name='add', description='Just takes in two ints and gives addition', args_schema=<class 'langchain_core.utils.pydantic.add'>, func=<function add at 0x000001E702F10540>),\n",
       " StructuredTool(name='divide', description='Just takes in two ints and gives division', args_schema=<class 'langchain_core.utils.pydantic.divide'>, func=<function divide at 0x000001E702F105E0>),\n",
       " DuckDuckGoSearchRun(api_wrapper=DuckDuckGoSearchAPIWrapper(region='wt-wt', safesearch='moderate', time='y', max_results=5, backend='auto', source='text'))]"
      ]
     },
     "execution_count": 97,
     "metadata": {},
     "output_type": "execute_result"
    }
   ],
   "source": [
    "tools"
   ]
  },
  {
   "cell_type": "code",
   "execution_count": 98,
   "id": "35b7a758",
   "metadata": {},
   "outputs": [],
   "source": [
    "tools = [add, multiply, divide, search, get_stock_price]"
   ]
  },
  {
   "cell_type": "code",
   "execution_count": 100,
   "id": "4d7eff41",
   "metadata": {},
   "outputs": [],
   "source": [
    "llm_with_tools = llm.bind_tools(tools)"
   ]
  },
  {
   "cell_type": "code",
   "execution_count": 102,
   "id": "2de729d1",
   "metadata": {},
   "outputs": [],
   "source": [
    "response = llm_with_tools.invoke(\"Can you give me latest stock price adani greens?\")"
   ]
  },
  {
   "cell_type": "code",
   "execution_count": 103,
   "id": "70a3ac66",
   "metadata": {},
   "outputs": [
    {
     "data": {
      "text/plain": [
       "AIMessage(content='', additional_kwargs={'tool_calls': [{'id': 'mn9d72rqf', 'function': {'arguments': '{\"ticker\":\"ADANIGREEN.NS\"}', 'name': 'get_stock_price'}, 'type': 'function'}]}, response_metadata={'token_usage': {'completion_tokens': 122, 'prompt_tokens': 329, 'total_tokens': 451, 'completion_time': 0.573861664, 'prompt_time': 0.02074366, 'queue_time': 0.054594470000000006, 'total_time': 0.594605324}, 'model_name': 'deepseek-r1-distill-llama-70b', 'system_fingerprint': 'fp_1bbe7845ec', 'finish_reason': 'tool_calls', 'logprobs': None}, id='run--1b5b068c-1b62-4dca-9bf2-17f73a3b4276-0', tool_calls=[{'name': 'get_stock_price', 'args': {'ticker': 'ADANIGREEN.NS'}, 'id': 'mn9d72rqf', 'type': 'tool_call'}], usage_metadata={'input_tokens': 329, 'output_tokens': 122, 'total_tokens': 451})"
      ]
     },
     "execution_count": 103,
     "metadata": {},
     "output_type": "execute_result"
    }
   ],
   "source": [
    "response"
   ]
  },
  {
   "cell_type": "code",
   "execution_count": 104,
   "id": "78c2e9a7",
   "metadata": {},
   "outputs": [
    {
     "data": {
      "text/plain": [
       "[{'name': 'get_stock_price',\n",
       "  'args': {'ticker': 'ADANIGREEN.NS'},\n",
       "  'id': 'mn9d72rqf',\n",
       "  'type': 'tool_call'}]"
      ]
     },
     "execution_count": 104,
     "metadata": {},
     "output_type": "execute_result"
    }
   ],
   "source": [
    "response.tool_calls"
   ]
  },
  {
   "cell_type": "code",
   "execution_count": 105,
   "id": "56b63d99",
   "metadata": {},
   "outputs": [],
   "source": [
    "SYSTEM_PROMPT = \"You are a helpful assistant tasked with using search, yahoo finance and performing arithmetic operations\""
   ]
  },
  {
   "cell_type": "code",
   "execution_count": 106,
   "id": "9dff689a",
   "metadata": {},
   "outputs": [],
   "source": [
    "def function_1(state):\n",
    "    user_question = state[\"messages\"]\n",
    "    input_question = [SYSTEM_PROMPT]+user_question\n",
    "    response = llm_with_tools.invoke(input_question)\n",
    "    return {\n",
    "        \"messages\" :[response] \n",
    "    }"
   ]
  },
  {
   "cell_type": "code",
   "execution_count": 107,
   "id": "f588ebc9",
   "metadata": {},
   "outputs": [],
   "source": [
    "builder = StateGraph(MessagesState)"
   ]
  },
  {
   "cell_type": "code",
   "execution_count": 108,
   "id": "c20f2da9",
   "metadata": {},
   "outputs": [
    {
     "data": {
      "text/plain": [
       "<langgraph.graph.state.StateGraph at 0x1e71482b390>"
      ]
     },
     "execution_count": 108,
     "metadata": {},
     "output_type": "execute_result"
    }
   ],
   "source": [
    "builder.add_node(\"llm_decision_step\",function_1)\n",
    "builder.add_node(\"tools\",ToolNode(tools))"
   ]
  },
  {
   "cell_type": "code",
   "execution_count": 109,
   "id": "42c9c922",
   "metadata": {},
   "outputs": [
    {
     "data": {
      "text/plain": [
       "<langgraph.graph.state.StateGraph at 0x1e71482b390>"
      ]
     },
     "execution_count": 109,
     "metadata": {},
     "output_type": "execute_result"
    }
   ],
   "source": [
    "builder.add_edge(START, \"llm_decision_step\")"
   ]
  },
  {
   "cell_type": "code",
   "execution_count": 110,
   "id": "74c7dd26",
   "metadata": {},
   "outputs": [
    {
     "data": {
      "text/plain": [
       "<langgraph.graph.state.StateGraph at 0x1e71482b390>"
      ]
     },
     "execution_count": 110,
     "metadata": {},
     "output_type": "execute_result"
    }
   ],
   "source": [
    "builder.add_conditional_edges(\"llm_decision_step\",\n",
    "                             tools_condition\n",
    "                             )"
   ]
  },
  {
   "cell_type": "code",
   "execution_count": 111,
   "id": "34391103",
   "metadata": {},
   "outputs": [
    {
     "data": {
      "text/plain": [
       "<langgraph.graph.state.StateGraph at 0x1e71482b390>"
      ]
     },
     "execution_count": 111,
     "metadata": {},
     "output_type": "execute_result"
    }
   ],
   "source": [
    "builder.add_edge(\"tools\", \"llm_decision_step\")"
   ]
  },
  {
   "cell_type": "code",
   "execution_count": 113,
   "id": "508c9402",
   "metadata": {},
   "outputs": [],
   "source": [
    "react_graph_2 = builder.compile()"
   ]
  },
  {
   "cell_type": "code",
   "execution_count": 114,
   "id": "5527423f",
   "metadata": {},
   "outputs": [
    {
     "data": {
      "image/png": "[encoded data removed]",
      "text/plain": [
       "<IPython.core.display.Image object>"
      ]
     },
     "metadata": {},
     "output_type": "display_data"
    }
   ],
   "source": [
    "from IPython.display import Image,display\n",
    "display(Image(react_graph_2.get_graph().draw_mermaid_png()))"
   ]
  },
  {
   "cell_type": "code",
   "execution_count": 120,
   "id": "c3878fc0",
   "metadata": {},
   "outputs": [],
   "source": [
    "message = [HumanMessage(\"current apple stock price with latest news of apple\")]"
   ]
  },
  {
   "cell_type": "code",
   "execution_count": 121,
   "id": "68815f12",
   "metadata": {},
   "outputs": [
    {
     "data": {
      "text/plain": [
       "{'messages': [HumanMessage(content='current apple stock price with latest news of apple', additional_kwargs={}, response_metadata={}, id='aa951a56-5d29-4c5f-80be-be10a99e5873'),\n",
       "  AIMessage(content='', additional_kwargs={'tool_calls': [{'id': '14q82dyaj', 'function': {'arguments': '{\"ticker\":\"AAPL\"}', 'name': 'get_stock_price'}, 'type': 'function'}]}, response_metadata={'token_usage': {'completion_tokens': 312, 'prompt_tokens': 344, 'total_tokens': 656, 'completion_time': 1.297839012, 'prompt_time': 0.029430004, 'queue_time': 0.053307307, 'total_time': 1.327269016}, 'model_name': 'deepseek-r1-distill-llama-70b', 'system_fingerprint': 'fp_1bbe7845ec', 'finish_reason': 'tool_calls', 'logprobs': None}, id='run--b9665fc5-cec5-45c3-b912-a6f3fb396e3a-0', tool_calls=[{'name': 'get_stock_price', 'args': {'ticker': 'AAPL'}, 'id': '14q82dyaj', 'type': 'tool_call'}], usage_metadata={'input_tokens': 344, 'output_tokens': 312, 'total_tokens': 656}),\n",
       "  ToolMessage(content='null', name='get_stock_price', id='36f93b7c-4642-45a5-b86d-2c028eaea498', tool_call_id='14q82dyaj'),\n",
       "  AIMessage(content='', additional_kwargs={'tool_calls': [{'id': '5c7pxtnbh', 'function': {'arguments': '{\"ticker\":\"AAPL\"}', 'name': 'get_stock_price'}, 'type': 'function'}]}, response_metadata={'token_usage': {'completion_tokens': 305, 'prompt_tokens': 395, 'total_tokens': 700, 'completion_time': 1.291354236, 'prompt_time': 0.025556888, 'queue_time': 0.053314572000000005, 'total_time': 1.316911124}, 'model_name': 'deepseek-r1-distill-llama-70b', 'system_fingerprint': 'fp_1bbe7845ec', 'finish_reason': 'tool_calls', 'logprobs': None}, id='run--ec63d743-df7a-46a6-bf15-55d12b669347-0', tool_calls=[{'name': 'get_stock_price', 'args': {'ticker': 'AAPL'}, 'id': '5c7pxtnbh', 'type': 'tool_call'}], usage_metadata={'input_tokens': 395, 'output_tokens': 305, 'total_tokens': 700}),\n",
       "  ToolMessage(content='null', name='get_stock_price', id='c478b495-fe3a-4a23-a1ce-9502a4717ffe', tool_call_id='5c7pxtnbh'),\n",
       "  AIMessage(content='', additional_kwargs={'tool_calls': [{'id': 'pcswt77x5', 'function': {'arguments': '{\"ticker\":\"AAPL\"}', 'name': 'get_stock_price'}, 'type': 'function'}]}, response_metadata={'token_usage': {'completion_tokens': 446, 'prompt_tokens': 447, 'total_tokens': 893, 'completion_time': 1.6218181820000002, 'prompt_time': 0.031917823, 'queue_time': 0.056750507000000006, 'total_time': 1.6537360049999998}, 'model_name': 'deepseek-r1-distill-llama-70b', 'system_fingerprint': 'fp_1bbe7845ec', 'finish_reason': 'tool_calls', 'logprobs': None}, id='run--2301ec19-e43f-4d33-9689-00b34095dbfe-0', tool_calls=[{'name': 'get_stock_price', 'args': {'ticker': 'AAPL'}, 'id': 'pcswt77x5', 'type': 'tool_call'}], usage_metadata={'input_tokens': 447, 'output_tokens': 446, 'total_tokens': 893}),\n",
       "  ToolMessage(content='null', name='get_stock_price', id='ac68c772-19c4-4e65-8e26-fcb343106bb5', tool_call_id='pcswt77x5'),\n",
       "  AIMessage(content='', additional_kwargs={'tool_calls': [{'id': 'cwvxg8fp5', 'function': {'arguments': '{\"ticker\":\"AAPL\"}', 'name': 'get_stock_price'}, 'type': 'function'}]}, response_metadata={'token_usage': {'completion_tokens': 51, 'prompt_tokens': 499, 'total_tokens': 550, 'completion_time': 0.185454545, 'prompt_time': 0.032480593, 'queue_time': 0.057477456999999996, 'total_time': 0.217935138}, 'model_name': 'deepseek-r1-distill-llama-70b', 'system_fingerprint': 'fp_1bbe7845ec', 'finish_reason': 'tool_calls', 'logprobs': None}, id='run--b9e10fbe-8164-424f-92cf-4a30f7d48d89-0', tool_calls=[{'name': 'get_stock_price', 'args': {'ticker': 'AAPL'}, 'id': 'cwvxg8fp5', 'type': 'tool_call'}], usage_metadata={'input_tokens': 499, 'output_tokens': 51, 'total_tokens': 550}),\n",
       "  ToolMessage(content='null', name='get_stock_price', id='ca6761fb-15f3-406c-8439-23f0c21d7fc1', tool_call_id='cwvxg8fp5'),\n",
       "  AIMessage(content='', additional_kwargs={'tool_calls': [{'id': 'fhjr2ecke', 'function': {'arguments': '{\"ticker\":\"AAPL\"}', 'name': 'get_stock_price'}, 'type': 'function'}]}, response_metadata={'token_usage': {'completion_tokens': 51, 'prompt_tokens': 551, 'total_tokens': 602, 'completion_time': 0.185454545, 'prompt_time': 0.04294133, 'queue_time': 0.05429252, 'total_time': 0.228395875}, 'model_name': 'deepseek-r1-distill-llama-70b', 'system_fingerprint': 'fp_1bbe7845ec', 'finish_reason': 'tool_calls', 'logprobs': None}, id='run--214b60a2-c83d-4a10-8549-bc5611b9c0b3-0', tool_calls=[{'name': 'get_stock_price', 'args': {'ticker': 'AAPL'}, 'id': 'fhjr2ecke', 'type': 'tool_call'}], usage_metadata={'input_tokens': 551, 'output_tokens': 51, 'total_tokens': 602}),\n",
       "  ToolMessage(content='null', name='get_stock_price', id='1b420a2f-45b2-481a-8948-9009f9109b75', tool_call_id='fhjr2ecke'),\n",
       "  AIMessage(content='', additional_kwargs={'tool_calls': [{'id': 'r0qp3ebd3', 'function': {'arguments': '{\"query\":\"latest news Apple\"}', 'name': 'duckduckgo_search'}, 'type': 'function'}]}, response_metadata={'token_usage': {'completion_tokens': 413, 'prompt_tokens': 602, 'total_tokens': 1015, 'completion_time': 1.7843284860000002, 'prompt_time': 0.039355749, 'queue_time': 0.053474010999999995, 'total_time': 1.823684235}, 'model_name': 'deepseek-r1-distill-llama-70b', 'system_fingerprint': 'fp_1bbe7845ec', 'finish_reason': 'tool_calls', 'logprobs': None}, id='run--dd1da3bd-fdb0-4443-9034-bb2c34d61a1f-0', tool_calls=[{'name': 'duckduckgo_search', 'args': {'query': 'latest news Apple'}, 'id': 'r0qp3ebd3', 'type': 'tool_call'}], usage_metadata={'input_tokens': 602, 'output_tokens': 413, 'total_tokens': 1015}),\n",
       "  ToolMessage(content='At today\\'s WWDC 2025 keynote event, Apple unveiled a new design that will inform the next decade of iOS, iPadOS, and macOS development, so needless to say, it was a busy day. Apple also unveiled a ... The Apple Watch, which just turned 10 (hbd, buddy), has some new updates powered by Apple Intelligence. There is a new wrist flick gesture, a pimped out Liquid Glass overhaul, and live ... CUPERTINO, CALIFORNIA Apple today previewed a beautiful new software design that makes apps and system experiences more expressive and delightful while being instantly familiar. It\\'s crafted with a new material called Liquid Glass. This translucent material reflects and refracts its surroundings, while dynamically transforming to help bring greater focus to content, delivering a new level of ... Get the latest news and share tips for making better decisions for your financial future. ... Apple\\'s \"gorgeous new design,\" for all its platforms is the first major overhaul since iOS 7. It\\'s ... Apple News & Mac Rumors Breaking All Day. The iOS 26 Safari browser on iPhone evokes the new design system featuring Liquid Glass, with floating toolbars and buttons that shine through the web ...', name='duckduckgo_search', id='c8063869-2345-4ef1-8f26-2829790bb0b3', tool_call_id='r0qp3ebd3'),\n",
       "  AIMessage(content=\"As of today, Apple's stock price is not available at the moment, but here's the latest news about Apple:\\n\\nAt today's WWDC 2025 keynote event, Apple unveiled a new design that will inform the next decade of iOS, iPadOS, and macOS development. This design features a new material called Liquid Glass, which is translucent and dynamically transforms to bring greater focus to content. Additionally, the Apple Watch, celebrating its 10th anniversary, has new updates powered by Apple Intelligence, including a wrist flick gesture and a pimped-up Liquid Glass overhaul.\\n\\nFor the latest stock price, you can check financial news websites like Yahoo Finance or Google Finance.\", additional_kwargs={}, response_metadata={'token_usage': {'completion_tokens': 390, 'prompt_tokens': 901, 'total_tokens': 1291, 'completion_time': 1.467118667, 'prompt_time': 0.066300573, 'queue_time': 0.057803257, 'total_time': 1.53341924}, 'model_name': 'deepseek-r1-distill-llama-70b', 'system_fingerprint': 'fp_1bbe7845ec', 'finish_reason': 'stop', 'logprobs': None}, id='run--7bb939b9-ac59-46ac-ae7c-1eac9fe13507-0', usage_metadata={'input_tokens': 901, 'output_tokens': 390, 'total_tokens': 1291})]}"
      ]
     },
     "execution_count": 121,
     "metadata": {},
     "output_type": "execute_result"
    }
   ],
   "source": [
    "react_graph_2.invoke({\"messages\":message})"
   ]
  },
  {
   "cell_type": "code",
   "execution_count": 123,
   "id": "b170465e",
   "metadata": {},
   "outputs": [
    {
     "name": "stdout",
     "output_type": "stream",
     "text": [
      "================================\u001b[1m Human Message \u001b[0m=================================\n",
      "\n",
      "current apple stock price with latest news of apple\n"
     ]
    }
   ],
   "source": [
    "for m in message:\n",
    "  m.pretty_print()"
   ]
  },
  {
   "cell_type": "code",
   "execution_count": null,
   "id": "d1f86d00",
   "metadata": {},
   "outputs": [
    {
     "ename": "SyntaxError",
     "evalue": "invalid syntax (1657396876.py, line 1)",
     "output_type": "error",
     "traceback": [
      "  \u001b[36mCell\u001b[39m\u001b[36m \u001b[39m\u001b[32mIn[124]\u001b[39m\u001b[32m, line 1\u001b[39m\n\u001b[31m    \u001b[39m\u001b[31mAssignment 4:\u001b[39m\n               ^\n\u001b[31mSyntaxError\u001b[39m\u001b[31m:\u001b[39m invalid syntax\n"
     ]
    }
   ],
   "source": [
    "Assignment 4: \n",
    "AI Travel Agent and expense planner for any city worldwide\n",
    "Design trip planning agent  \n",
    "\n",
    "1. Real time weather info\n",
    "2. Top attraction and activities \n",
    "3. Hotel cost (per day)\n",
    "4. Currency conversion in native currency\n",
    "5. Itinerary generation\n",
    "6. Total expense calculation\n",
    "7. Generate summary of entire output \n",
    "\n",
    "Flow->\n",
    "\n",
    "input from user->->search an attraction,restaurent, activity, transportation->-> real time weather forecast and curent weather->->Hotel cost according to budget range->->calculate cost daily\n",
    "->->"
   ]
  },
  {
   "cell_type": "code",
   "execution_count": null,
   "id": "6c120864",
   "metadata": {},
   "outputs": [],
   "source": []
  }
 ],
 "metadata": {
  "kernelspec": {
   "display_name": "venv",
   "language": "python",
   "name": "python3"
  },
  "language_info": {
   "codemirror_mode": {
    "name": "ipython",
    "version": 3
   },
   "file_extension": ".py",
   "mimetype": "text/x-python",
   "name": "python",
   "nbconvert_exporter": "python",
   "pygments_lexer": "ipython3",
   "version": "3.13.2"
  }
 },
 "nbformat": 4,
 "nbformat_minor": 5
}
