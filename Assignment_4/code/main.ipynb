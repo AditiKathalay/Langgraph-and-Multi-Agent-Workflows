{
 "cells": [
  {
   "cell_type": "code",
   "execution_count": 125,
   "id": "63402a30",
   "metadata": {},
   "outputs": [
    {
     "ename": "SyntaxError",
     "evalue": "invalid character '➝' (U+279D) (1599413519.py, line 12)",
     "output_type": "error",
     "traceback": [
      "  \u001b[36mCell\u001b[39m\u001b[36m \u001b[39m\u001b[32mIn[125]\u001b[39m\u001b[32m, line 12\u001b[39m\n\u001b[31m    \u001b[39m\u001b[31mSupervisor ➝ Router ➝ (LLM / RAG / Web) ➝ ✅ Pydantic Validation ➝ Post-Validation Router ➝ (Final Output / Supervisor Retry)\u001b[39m\n               ^\n\u001b[31mSyntaxError\u001b[39m\u001b[31m:\u001b[39m invalid character '➝' (U+279D)\n"
     ]
    }
   ],
   "source": [
    "Assignment:4\n",
    "1. you have to create one supervisor node.\n",
    "2. create one router function\n",
    "3. create three more node\n",
    "3.1 llm call (llm node)\n",
    "3.2 RAG (rag node)\n",
    "3.3 web crawler(fetch the info in realtime from internet)\n",
    "4. created one more node after this for validation for generated output --> explore the validation part how to do that\n",
    "5. if validation going to be failed in that case again go to supervioser node and then supervisor node will again decide what needs to be call next\n",
    "6. once the validation will pass then only generate the final output\n",
    "\n",
    "Supervisor ➝ Router ➝ (LLM / RAG / Web) ➝ ✅ Pydantic Validation ➝ Post-Validation Router ➝ (Final Output / Supervisor Retry)\n"
   ]
  },
  {
   "cell_type": "markdown",
   "id": "6c29b33e",
   "metadata": {},
   "source": [
    "#### Step 1. Import Libraries"
   ]
  },
  {
   "cell_type": "code",
   "execution_count": null,
   "id": "18c7e9e9",
   "metadata": {},
   "outputs": [],
   "source": [
    "import operator\n",
    "from typing import List\n",
    "from pydantic import BaseModel , Field\n",
    "from langchain.prompts import PromptTemplate\n",
    "from typing import TypedDict, Annotated, Sequence\n",
    "from langchain_core.messages import BaseMessage\n",
    "from langchain_core.output_parsers import StrOutputParser\n",
    "from langchain_core.prompts import ChatPromptTemplate, PromptTemplate\n",
    "from langchain_core.runnables import RunnablePassthrough\n",
    "from langchain_core.messages import HumanMessage, AIMessage\n",
    "from langgraph.graph import StateGraph,END"
   ]
  },
  {
   "cell_type": "markdown",
   "id": "f59d4db5",
   "metadata": {},
   "source": [
    "#### Step 2. Load env"
   ]
  },
  {
   "cell_type": "code",
   "execution_count": null,
   "id": "47666cbb",
   "metadata": {},
   "outputs": [
    {
     "data": {
      "text/plain": [
       "True"
      ]
     },
     "execution_count": 8,
     "metadata": {},
     "output_type": "execute_result"
    }
   ],
   "source": [
    "import os\n",
    "from dotenv import load_dotenv\n",
    "load_dotenv()"
   ]
  },
  {
   "cell_type": "code",
   "execution_count": null,
   "id": "a015fb03",
   "metadata": {},
   "outputs": [],
   "source": [
    "os.environ[\"OPENAI_API_KEY\"]=os.getenv(\"OPENAI_API_KEY\")"
   ]
  },
  {
   "cell_type": "markdown",
   "id": "0aae66a6",
   "metadata": {},
   "source": [
    "#### Step 4. Init o1-mini Model"
   ]
  },
  {
   "cell_type": "code",
   "execution_count": null,
   "id": "cb5a35ec",
   "metadata": {},
   "outputs": [
    {
     "name": "stdout",
     "output_type": "stream",
     "text": [
      "content='Hello! How can I assist you today?' additional_kwargs={'refusal': None} response_metadata={'token_usage': {'completion_tokens': 212, 'prompt_tokens': 9, 'total_tokens': 221, 'completion_tokens_details': {'accepted_prediction_tokens': 0, 'audio_tokens': 0, 'reasoning_tokens': 192, 'rejected_prediction_tokens': 0}, 'prompt_tokens_details': {'audio_tokens': 0, 'cached_tokens': 0}}, 'model_name': 'o1-mini-2024-09-12', 'system_fingerprint': 'fp_3da8b0b088', 'id': 'chatcmpl-BhHGx282P6CtUXTh6LL6qjXDei3Ty', 'service_tier': 'default', 'finish_reason': 'stop', 'logprobs': None} id='run--31283295-8745-4d14-bec0-e09d60ed3410-0' usage_metadata={'input_tokens': 9, 'output_tokens': 212, 'total_tokens': 221, 'input_token_details': {'audio': 0, 'cache_read': 0}, 'output_token_details': {'audio': 0, 'reasoning': 192}}\n"
     ]
    }
   ],
   "source": [
    "from langchain_openai import ChatOpenAI\n",
    "model = ChatOpenAI(model=\"o1-mini\")\n",
    "result = model.invoke(\"Hi\")\n",
    "print(result)"
   ]
  },
  {
   "cell_type": "markdown",
   "id": "33690b3b",
   "metadata": {},
   "source": [
    "#### Step 5. Embeddings"
   ]
  },
  {
   "cell_type": "code",
   "execution_count": null,
   "id": "9a23cff4",
   "metadata": {},
   "outputs": [
    {
     "name": "stderr",
     "output_type": "stream",
     "text": [
      "c:\\Users\\aditi_zg48xl\\Downloads\\Agentic AI\\venv\\Lib\\site-packages\\tqdm\\auto.py:21: TqdmWarning: IProgress not found. Please update jupyter and ipywidgets. See https://ipywidgets.readthedocs.io/en/stable/user_install.html\n",
      "  from .autonotebook import tqdm as notebook_tqdm\n"
     ]
    },
    {
     "data": {
      "text/plain": [
       "384"
      ]
     },
     "execution_count": 13,
     "metadata": {},
     "output_type": "execute_result"
    }
   ],
   "source": [
    "from langchain_huggingface import HuggingFaceEmbeddings\n",
    "embeddings = HuggingFaceEmbeddings(model_name=\"BAAI/bge-small-en\")\n",
    "len(embeddings.embed_query(\"Elo, mate\"))"
   ]
  },
  {
   "cell_type": "markdown",
   "id": "ce1a1c57",
   "metadata": {},
   "source": [
    "#### Step 6: Create Vector Database"
   ]
  },
  {
   "cell_type": "code",
   "execution_count": null,
   "id": "35c741c7",
   "metadata": {},
   "outputs": [],
   "source": [
    "from langchain_community.document_loaders import TextLoader, DirectoryLoader\n",
    "from langchain_community.vectorstores import Chroma \n",
    "from langchain.text_splitter import RecursiveCharacterTextSplitter"
   ]
  },
  {
   "cell_type": "code",
   "execution_count": null,
   "id": "abf184e2",
   "metadata": {},
   "outputs": [],
   "source": [
    "loader = TextLoader(r\"C:\\Users\\aditi_zg48xl\\Downloads\\Agentic AI\\Assignment_4\\Data\\genetic_diseases.txt\")\n",
    "docs = loader.load()"
   ]
  },
  {
   "cell_type": "code",
   "execution_count": null,
   "id": "c6867ff4",
   "metadata": {},
   "outputs": [
    {
     "data": {
      "text/plain": [
       "[Document(metadata={'source': 'C:\\\\Users\\\\aditi_zg48xl\\\\Downloads\\\\Agentic AI\\\\Assignment_4\\\\Data\\\\genetic_diseases.txt'}, page_content=\"Genetic diseases are medical conditions caused by anomalies in the genome, either inherited from one's parents or acquired through spontaneous mutations. These diseases can be categorized based on the type and location of the genetic defect: single-gene disorders, multifactorial disorders, chromosomal abnormalities, and mitochondrial genetic diseases.\\n\\nSingle-gene disorders, or monogenic diseases, result from mutations in a single gene. These include well-known conditions such as cystic fibrosis (CF), sickle cell anemia, Tay-Sachs disease, and Huntingtonâ€™s disease. In CF, mutations in the CFTR gene cause defective chloride ion transport, leading to thickened mucus in the lungs and digestive system. Sickle cell anemia, on the other hand, arises from a point mutation in the HBB gene, causing abnormal hemoglobin structure and leading to hemolytic anemia and painful vaso-occlusive episodes.\\n\\nMultifactorial or polygenic disorders are caused by interactions between multiple genes and environmental factors. Conditions such as diabetes mellitus, heart disease, and certain cancers fall into this category. Genome-Wide Association Studies (GWAS) have identified numerous loci associated with increased susceptibility to these diseases, although individual genetic contributions are often modest. Understanding gene-environment interactions remains a central challenge in predicting and managing these disorders.\\n\\nChromosomal disorders involve structural changes or numerical abnormalities in chromosomes. Down syndrome is the most common trisomy, caused by an extra copy of chromosome 21. Turner syndrome (monosomy X) and Klinefelter syndrome (XXY) are examples of sex chromosome abnormalities. These disorders often affect development, fertility, cognition, and physical traits. Advanced prenatal screening and karyotyping have improved early diagnosis and management.\\n\\nMitochondrial diseases result from mutations in mitochondrial DNA (mtDNA), which is inherited maternally. These disorders typically affect organs with high energy demands, such as the brain and muscles. Examples include Leberâ€™s hereditary optic neuropathy (LHON) and mitochondrial encephalomyopathy. Since mitochondria operate under dual genomic control (nuclear and mitochondrial), therapeutic targeting remains complex.\\n\\nRecent advances in molecular biology and genomic technology have transformed the landscape of genetic disease research. Next-generation sequencing (NGS) allows rapid and affordable whole-genome and exome sequencing, facilitating the discovery of disease-causing mutations in rare and previously undiagnosed conditions. Precision medicine, which tailors treatment based on an individual's genetic profile, is increasingly used in oncology and rare disease treatment.\\n\\nGene therapy has emerged as a promising strategy to treat genetic diseases at the molecular level. Approved therapies like Luxturna for retinal dystrophy and Zolgensma for spinal muscular atrophy demonstrate the potential of adeno-associated virus (AAV)-based delivery systems. Additionally, CRISPR-Cas9 genome editing offers the potential to correct mutations in vivo. However, concerns about off-target effects, immune responses, and germline editing have sparked ethical debates in the scientific community.\\n\\nGenetic counseling plays a crucial role in helping patients and families understand the implications of genetic testing. It enables informed decision-making and helps assess the risk of recurrence in future generations. The integration of clinical genetics into general medicine has made it possible to provide targeted interventions, prevent disease progression, and personalize patient care.\\n\\nAs we move forward, the biggest challenges in tackling genetic diseases include equitable access to genetic technologies, regulation of gene editing, interpretation of variants of unknown significance (VUS), and protection of genomic privacy. Nevertheless, the potential to alleviate suffering and improve human health through genetics is unprecedented, and continued interdisciplinary research will be essential to unlock it fully.\\n\")]"
      ]
     },
     "execution_count": 36,
     "metadata": {},
     "output_type": "execute_result"
    }
   ],
   "source": [
    "docs "
   ]
  },
  {
   "cell_type": "markdown",
   "id": "c53b48be",
   "metadata": {},
   "source": [
    "#### Step 7.1 Using recursive text splitter divide into chunks"
   ]
  },
  {
   "cell_type": "code",
   "execution_count": null,
   "id": "fd1fb0e0",
   "metadata": {},
   "outputs": [],
   "source": [
    "text_splitter = RecursiveCharacterTextSplitter(\n",
    "    chunk_size = 200,\n",
    "    chunk_overlap = 50\n",
    ")"
   ]
  },
  {
   "cell_type": "code",
   "execution_count": null,
   "id": "bbc29426",
   "metadata": {},
   "outputs": [],
   "source": [
    "new_docs = text_splitter.split_documents(documents = docs)"
   ]
  },
  {
   "cell_type": "code",
   "execution_count": null,
   "id": "b52b1c34",
   "metadata": {},
   "outputs": [
    {
     "data": {
      "text/plain": [
       "[Document(metadata={'source': 'C:\\\\Users\\\\aditi_zg48xl\\\\Downloads\\\\Agentic AI\\\\Assignment_4\\\\Data\\\\genetic_diseases.txt'}, page_content=\"Genetic diseases are medical conditions caused by anomalies in the genome, either inherited from one's parents or acquired through spontaneous mutations. These diseases can be categorized based on the\"),\n",
       " Document(metadata={'source': 'C:\\\\Users\\\\aditi_zg48xl\\\\Downloads\\\\Agentic AI\\\\Assignment_4\\\\Data\\\\genetic_diseases.txt'}, page_content='These diseases can be categorized based on the type and location of the genetic defect: single-gene disorders, multifactorial disorders, chromosomal abnormalities, and mitochondrial genetic diseases.'),\n",
       " Document(metadata={'source': 'C:\\\\Users\\\\aditi_zg48xl\\\\Downloads\\\\Agentic AI\\\\Assignment_4\\\\Data\\\\genetic_diseases.txt'}, page_content='Single-gene disorders, or monogenic diseases, result from mutations in a single gene. These include well-known conditions such as cystic fibrosis (CF), sickle cell anemia, Tay-Sachs disease, and'),\n",
       " Document(metadata={'source': 'C:\\\\Users\\\\aditi_zg48xl\\\\Downloads\\\\Agentic AI\\\\Assignment_4\\\\Data\\\\genetic_diseases.txt'}, page_content='(CF), sickle cell anemia, Tay-Sachs disease, and Huntingtonâ€™s disease. In CF, mutations in the CFTR gene cause defective chloride ion transport, leading to thickened mucus in the lungs and'),\n",
       " Document(metadata={'source': 'C:\\\\Users\\\\aditi_zg48xl\\\\Downloads\\\\Agentic AI\\\\Assignment_4\\\\Data\\\\genetic_diseases.txt'}, page_content='leading to thickened mucus in the lungs and digestive system. Sickle cell anemia, on the other hand, arises from a point mutation in the HBB gene, causing abnormal hemoglobin structure and leading to'),\n",
       " Document(metadata={'source': 'C:\\\\Users\\\\aditi_zg48xl\\\\Downloads\\\\Agentic AI\\\\Assignment_4\\\\Data\\\\genetic_diseases.txt'}, page_content='abnormal hemoglobin structure and leading to hemolytic anemia and painful vaso-occlusive episodes.'),\n",
       " Document(metadata={'source': 'C:\\\\Users\\\\aditi_zg48xl\\\\Downloads\\\\Agentic AI\\\\Assignment_4\\\\Data\\\\genetic_diseases.txt'}, page_content='Multifactorial or polygenic disorders are caused by interactions between multiple genes and environmental factors. Conditions such as diabetes mellitus, heart disease, and certain cancers fall into'),\n",
       " Document(metadata={'source': 'C:\\\\Users\\\\aditi_zg48xl\\\\Downloads\\\\Agentic AI\\\\Assignment_4\\\\Data\\\\genetic_diseases.txt'}, page_content='heart disease, and certain cancers fall into this category. Genome-Wide Association Studies (GWAS) have identified numerous loci associated with increased susceptibility to these diseases, although'),\n",
       " Document(metadata={'source': 'C:\\\\Users\\\\aditi_zg48xl\\\\Downloads\\\\Agentic AI\\\\Assignment_4\\\\Data\\\\genetic_diseases.txt'}, page_content='susceptibility to these diseases, although individual genetic contributions are often modest. Understanding gene-environment interactions remains a central challenge in predicting and managing these'),\n",
       " Document(metadata={'source': 'C:\\\\Users\\\\aditi_zg48xl\\\\Downloads\\\\Agentic AI\\\\Assignment_4\\\\Data\\\\genetic_diseases.txt'}, page_content='challenge in predicting and managing these disorders.'),\n",
       " Document(metadata={'source': 'C:\\\\Users\\\\aditi_zg48xl\\\\Downloads\\\\Agentic AI\\\\Assignment_4\\\\Data\\\\genetic_diseases.txt'}, page_content='Chromosomal disorders involve structural changes or numerical abnormalities in chromosomes. Down syndrome is the most common trisomy, caused by an extra copy of chromosome 21. Turner syndrome'),\n",
       " Document(metadata={'source': 'C:\\\\Users\\\\aditi_zg48xl\\\\Downloads\\\\Agentic AI\\\\Assignment_4\\\\Data\\\\genetic_diseases.txt'}, page_content='an extra copy of chromosome 21. Turner syndrome (monosomy X) and Klinefelter syndrome (XXY) are examples of sex chromosome abnormalities. These disorders often affect development, fertility,'),\n",
       " Document(metadata={'source': 'C:\\\\Users\\\\aditi_zg48xl\\\\Downloads\\\\Agentic AI\\\\Assignment_4\\\\Data\\\\genetic_diseases.txt'}, page_content='disorders often affect development, fertility, cognition, and physical traits. Advanced prenatal screening and karyotyping have improved early diagnosis and management.'),\n",
       " Document(metadata={'source': 'C:\\\\Users\\\\aditi_zg48xl\\\\Downloads\\\\Agentic AI\\\\Assignment_4\\\\Data\\\\genetic_diseases.txt'}, page_content='Mitochondrial diseases result from mutations in mitochondrial DNA (mtDNA), which is inherited maternally. These disorders typically affect organs with high energy demands, such as the brain and'),\n",
       " Document(metadata={'source': 'C:\\\\Users\\\\aditi_zg48xl\\\\Downloads\\\\Agentic AI\\\\Assignment_4\\\\Data\\\\genetic_diseases.txt'}, page_content='with high energy demands, such as the brain and muscles. Examples include Leberâ€™s hereditary optic neuropathy (LHON) and mitochondrial encephalomyopathy. Since mitochondria operate under dual'),\n",
       " Document(metadata={'source': 'C:\\\\Users\\\\aditi_zg48xl\\\\Downloads\\\\Agentic AI\\\\Assignment_4\\\\Data\\\\genetic_diseases.txt'}, page_content='Since mitochondria operate under dual genomic control (nuclear and mitochondrial), therapeutic targeting remains complex.'),\n",
       " Document(metadata={'source': 'C:\\\\Users\\\\aditi_zg48xl\\\\Downloads\\\\Agentic AI\\\\Assignment_4\\\\Data\\\\genetic_diseases.txt'}, page_content='Recent advances in molecular biology and genomic technology have transformed the landscape of genetic disease research. Next-generation sequencing (NGS) allows rapid and affordable whole-genome and'),\n",
       " Document(metadata={'source': 'C:\\\\Users\\\\aditi_zg48xl\\\\Downloads\\\\Agentic AI\\\\Assignment_4\\\\Data\\\\genetic_diseases.txt'}, page_content='allows rapid and affordable whole-genome and exome sequencing, facilitating the discovery of disease-causing mutations in rare and previously undiagnosed conditions. Precision medicine, which tailors'),\n",
       " Document(metadata={'source': 'C:\\\\Users\\\\aditi_zg48xl\\\\Downloads\\\\Agentic AI\\\\Assignment_4\\\\Data\\\\genetic_diseases.txt'}, page_content=\"conditions. Precision medicine, which tailors treatment based on an individual's genetic profile, is increasingly used in oncology and rare disease treatment.\"),\n",
       " Document(metadata={'source': 'C:\\\\Users\\\\aditi_zg48xl\\\\Downloads\\\\Agentic AI\\\\Assignment_4\\\\Data\\\\genetic_diseases.txt'}, page_content='Gene therapy has emerged as a promising strategy to treat genetic diseases at the molecular level. Approved therapies like Luxturna for retinal dystrophy and Zolgensma for spinal muscular atrophy'),\n",
       " Document(metadata={'source': 'C:\\\\Users\\\\aditi_zg48xl\\\\Downloads\\\\Agentic AI\\\\Assignment_4\\\\Data\\\\genetic_diseases.txt'}, page_content='and Zolgensma for spinal muscular atrophy demonstrate the potential of adeno-associated virus (AAV)-based delivery systems. Additionally, CRISPR-Cas9 genome editing offers the potential to correct'),\n",
       " Document(metadata={'source': 'C:\\\\Users\\\\aditi_zg48xl\\\\Downloads\\\\Agentic AI\\\\Assignment_4\\\\Data\\\\genetic_diseases.txt'}, page_content='genome editing offers the potential to correct mutations in vivo. However, concerns about off-target effects, immune responses, and germline editing have sparked ethical debates in the scientific'),\n",
       " Document(metadata={'source': 'C:\\\\Users\\\\aditi_zg48xl\\\\Downloads\\\\Agentic AI\\\\Assignment_4\\\\Data\\\\genetic_diseases.txt'}, page_content='have sparked ethical debates in the scientific community.'),\n",
       " Document(metadata={'source': 'C:\\\\Users\\\\aditi_zg48xl\\\\Downloads\\\\Agentic AI\\\\Assignment_4\\\\Data\\\\genetic_diseases.txt'}, page_content='Genetic counseling plays a crucial role in helping patients and families understand the implications of genetic testing. It enables informed decision-making and helps assess the risk of recurrence in'),\n",
       " Document(metadata={'source': 'C:\\\\Users\\\\aditi_zg48xl\\\\Downloads\\\\Agentic AI\\\\Assignment_4\\\\Data\\\\genetic_diseases.txt'}, page_content='and helps assess the risk of recurrence in future generations. The integration of clinical genetics into general medicine has made it possible to provide targeted interventions, prevent disease'),\n",
       " Document(metadata={'source': 'C:\\\\Users\\\\aditi_zg48xl\\\\Downloads\\\\Agentic AI\\\\Assignment_4\\\\Data\\\\genetic_diseases.txt'}, page_content='provide targeted interventions, prevent disease progression, and personalize patient care.'),\n",
       " Document(metadata={'source': 'C:\\\\Users\\\\aditi_zg48xl\\\\Downloads\\\\Agentic AI\\\\Assignment_4\\\\Data\\\\genetic_diseases.txt'}, page_content='As we move forward, the biggest challenges in tackling genetic diseases include equitable access to genetic technologies, regulation of gene editing, interpretation of variants of unknown'),\n",
       " Document(metadata={'source': 'C:\\\\Users\\\\aditi_zg48xl\\\\Downloads\\\\Agentic AI\\\\Assignment_4\\\\Data\\\\genetic_diseases.txt'}, page_content='editing, interpretation of variants of unknown significance (VUS), and protection of genomic privacy. Nevertheless, the potential to alleviate suffering and improve human health through genetics is'),\n",
       " Document(metadata={'source': 'C:\\\\Users\\\\aditi_zg48xl\\\\Downloads\\\\Agentic AI\\\\Assignment_4\\\\Data\\\\genetic_diseases.txt'}, page_content='and improve human health through genetics is unprecedented, and continued interdisciplinary research will be essential to unlock it fully.')]"
      ]
     },
     "execution_count": 39,
     "metadata": {},
     "output_type": "execute_result"
    }
   ],
   "source": [
    "new_docs"
   ]
  },
  {
   "cell_type": "markdown",
   "id": "cc350e4b",
   "metadata": {},
   "source": [
    "#### Step 7.2 Using FAISS VectorDB"
   ]
  },
  {
   "cell_type": "code",
   "execution_count": null,
   "id": "abed98a9",
   "metadata": {},
   "outputs": [],
   "source": [
    "from langchain_community.vectorstores import FAISS\n",
    "\n",
    "vector_db = FAISS.from_documents(new_docs, embeddings)\n"
   ]
  },
  {
   "cell_type": "code",
   "execution_count": null,
   "id": "8a419302",
   "metadata": {},
   "outputs": [],
   "source": [
    "retriever = vector_db.as_retriever(search_kwargs={\"k\" : 5})"
   ]
  },
  {
   "cell_type": "code",
   "execution_count": null,
   "id": "75448e34",
   "metadata": {},
   "outputs": [
    {
     "data": {
      "text/plain": [
       "[Document(id='bf4192a6-0874-4ac2-8f67-cc00f6a3aaf7', metadata={'source': 'C:\\\\Users\\\\aditi_zg48xl\\\\Downloads\\\\Agentic AI\\\\Assignment_4\\\\Data\\\\genetic_diseases.txt'}, page_content='Single-gene disorders, or monogenic diseases, result from mutations in a single gene. These include well-known conditions such as cystic fibrosis (CF), sickle cell anemia, Tay-Sachs disease, and'),\n",
       " Document(id='369fe557-298a-43c7-90cf-d4642e4eb61b', metadata={'source': 'C:\\\\Users\\\\aditi_zg48xl\\\\Downloads\\\\Agentic AI\\\\Assignment_4\\\\Data\\\\genetic_diseases.txt'}, page_content='challenge in predicting and managing these disorders.'),\n",
       " Document(id='de13ca20-cda4-4f88-a6e2-3e52fdffc1aa', metadata={'source': 'C:\\\\Users\\\\aditi_zg48xl\\\\Downloads\\\\Agentic AI\\\\Assignment_4\\\\Data\\\\genetic_diseases.txt'}, page_content=\"Genetic diseases are medical conditions caused by anomalies in the genome, either inherited from one's parents or acquired through spontaneous mutations. These diseases can be categorized based on the\"),\n",
       " Document(id='6b92969a-95ad-4028-a2ce-1fe419221ae2', metadata={'source': 'C:\\\\Users\\\\aditi_zg48xl\\\\Downloads\\\\Agentic AI\\\\Assignment_4\\\\Data\\\\genetic_diseases.txt'}, page_content='These diseases can be categorized based on the type and location of the genetic defect: single-gene disorders, multifactorial disorders, chromosomal abnormalities, and mitochondrial genetic diseases.'),\n",
       " Document(id='554f7544-cb3c-4e9b-923f-61c7510d72f4', metadata={'source': 'C:\\\\Users\\\\aditi_zg48xl\\\\Downloads\\\\Agentic AI\\\\Assignment_4\\\\Data\\\\genetic_diseases.txt'}, page_content='Multifactorial or polygenic disorders are caused by interactions between multiple genes and environmental factors. Conditions such as diabetes mellitus, heart disease, and certain cancers fall into')]"
      ]
     },
     "execution_count": 44,
     "metadata": {},
     "output_type": "execute_result"
    }
   ],
   "source": [
    "retriever.invoke(\"What are simple-gene disorders\")"
   ]
  },
  {
   "cell_type": "code",
   "execution_count": null,
   "id": "ae1d85b2",
   "metadata": {},
   "outputs": [],
   "source": [
    "from pydantic import BaseModel, Field"
   ]
  },
  {
   "cell_type": "code",
   "execution_count": null,
   "id": "f5cb4dcd",
   "metadata": {},
   "outputs": [],
   "source": [
    "from pydantic import BaseModel, Field\n",
    "\n",
    "class RoutingOutput(BaseModel):\n",
    "    Topic: str = Field(description=\"Must be one of 'VectorDB', 'LLM', or 'WebSearch'\")"
   ]
  },
  {
   "cell_type": "code",
   "execution_count": null,
   "id": "b8022a93",
   "metadata": {},
   "outputs": [],
   "source": [
    "from langchain.output_parsers import PydanticOutputParser"
   ]
  },
  {
   "cell_type": "code",
   "execution_count": null,
   "id": "d2688540",
   "metadata": {},
   "outputs": [],
   "source": [
    "parser = PydanticOutputParser(pydantic_object=RoutingOutput)"
   ]
  },
  {
   "cell_type": "code",
   "execution_count": null,
   "id": "93893fc4",
   "metadata": {},
   "outputs": [
    {
     "data": {
      "text/plain": [
       "<bound method PydanticOutputParser.get_format_instructions of PydanticOutputParser(pydantic_object=<class '__main__.RoutingOutput'>)>"
      ]
     },
     "execution_count": 67,
     "metadata": {},
     "output_type": "execute_result"
    }
   ],
   "source": [
    "parser.get_format_instructions"
   ]
  },
  {
   "cell_type": "code",
   "execution_count": null,
   "id": "e1c05f78",
   "metadata": {},
   "outputs": [],
   "source": [
    "class AgentState(TypedDict):\n",
    "    message: Annotated[Sequence[BaseModel],operator.add]"
   ]
  },
  {
   "cell_type": "code",
   "execution_count": null,
   "id": "cf4fbb69",
   "metadata": {},
   "outputs": [],
   "source": [
    "AgentState = {}"
   ]
  },
  {
   "cell_type": "code",
   "execution_count": null,
   "id": "3b7d4e33",
   "metadata": {},
   "outputs": [],
   "source": [
    "AgentState[\"messages\"]=[]"
   ]
  },
  {
   "cell_type": "code",
   "execution_count": null,
   "id": "3e278e12",
   "metadata": {},
   "outputs": [
    {
     "data": {
      "text/plain": [
       "{'messages': []}"
      ]
     },
     "execution_count": 71,
     "metadata": {},
     "output_type": "execute_result"
    }
   ],
   "source": [
    "AgentState"
   ]
  },
  {
   "cell_type": "code",
   "execution_count": null,
   "id": "a6ea21ce",
   "metadata": {},
   "outputs": [],
   "source": [
    "AgentState[\"messages\"].append(\"Hi, how are you?\")"
   ]
  },
  {
   "cell_type": "code",
   "execution_count": null,
   "id": "54f505d6",
   "metadata": {},
   "outputs": [],
   "source": [
    "AgentState[\"messages\"].append(\"Supp\")"
   ]
  },
  {
   "cell_type": "code",
   "execution_count": null,
   "id": "d840a450",
   "metadata": {},
   "outputs": [],
   "source": [
    "AgentState[\"messages\"].append(\"Reply to me\")"
   ]
  },
  {
   "cell_type": "code",
   "execution_count": null,
   "id": "5e58476e",
   "metadata": {},
   "outputs": [],
   "source": [
    "class AgentState(TypedDict):\n",
    "    messages: Annotated[Sequence[BaseMessage], operator.add]"
   ]
  },
  {
   "cell_type": "code",
   "execution_count": null,
   "id": "54519009",
   "metadata": {},
   "outputs": [],
   "source": [
    "def function_1(state: AgentState):\n",
    "    question = state[\"messages\"][-1]\n",
    "    print(\"Question:\", question)\n",
    "\n",
    "    template = \"\"\"\n",
    "    Your task is to classify the user query into one of the following categories:\n",
    "    [RAG, LLM, WebSearch].\n",
    "\n",
    "    Only respond with the category name and nothing else.\n",
    "\n",
    "    User query: {question}\n",
    "    {format_instructions}\n",
    "    \"\"\"\n",
    "\n",
    "    prompt = PromptTemplate(\n",
    "        template=template,\n",
    "        input_variables=[\"question\"],\n",
    "        partial_variables={\"format_instructions\": parser.get_format_instructions()}\n",
    "    )\n",
    "\n",
    "    chain = prompt | model | parser\n",
    "\n",
    "    response = chain.invoke({\"question\": question})\n",
    "    print(\"Parsed response:\", response)\n",
    "\n",
    "    return {\"messages\": [response.Topic]}\n"
   ]
  },
  {
   "cell_type": "code",
   "execution_count": null,
   "id": "c6bebb33",
   "metadata": {},
   "outputs": [],
   "source": [
    "state={\"messages\":[\"What are simple-gene disorders\"]}"
   ]
  },
  {
   "cell_type": "code",
   "execution_count": null,
   "id": "b9b8a215",
   "metadata": {},
   "outputs": [
    {
     "name": "stdout",
     "output_type": "stream",
     "text": [
      "Question What are simple-gene disorders\n",
      "Parsed response: Topic='Genetic Disease' Reasoning='Simple-gene disorders are caused by mutations in a single gene, classifying them as genetic diseases.'\n"
     ]
    },
    {
     "data": {
      "text/plain": [
       "{'messages': ['Genetic Disease']}"
      ]
     },
     "execution_count": 63,
     "metadata": {},
     "output_type": "execute_result"
    }
   ],
   "source": [
    "function_1(state)"
   ]
  },
  {
   "cell_type": "code",
   "execution_count": null,
   "id": "72bf4fab",
   "metadata": {},
   "outputs": [],
   "source": [
    "def router(state: AgentState):\n",
    "    print(\"->-> Router ->->\")\n",
    "    \n",
    "    topic = state[\"messages\"][-1].strip().lower()\n",
    "    print(\"Routing topic:\", topic)\n",
    "\n",
    "    if topic == \"vectordb\":\n",
    "        return \"RAG\"\n",
    "    elif topic == \"llm\":\n",
    "        return \"LLM Call\"\n",
    "    elif topic == \"websearch\":\n",
    "        return \"Web Crawler\"\n",
    "    else:\n",
    "        print(\"Unknown topic, defaulting to LLM Call\")\n",
    "        return \"LLM Call\"\n"
   ]
  },
  {
   "cell_type": "code",
   "execution_count": null,
   "id": "f23f0045",
   "metadata": {},
   "outputs": [],
   "source": [
    "def format_docs(docs):\n",
    "    return \"\\n\\n\".join(doc.page_content for doc in docs)"
   ]
  },
  {
   "cell_type": "code",
   "execution_count": null,
   "id": "2f8cfee8",
   "metadata": {},
   "outputs": [],
   "source": [
    "# RAG Function\n",
    "def function_2(state:AgentState):\n",
    "    print(\"-> RAG Call ->\")\n",
    "    \n",
    "    question = state[\"messages\"][0]\n",
    "    \n",
    "    prompt=PromptTemplate(\n",
    "        template=\"\"\"You are an assistant for question-answering tasks. Use the following pieces of retrieved context to answer the question. If you don't know the answer, just say that you don't know. Use three sentences maximum and keep the answer concise.\\nQuestion: {question} \\nContext: {context} \\nAnswer:\"\"\",\n",
    "        \n",
    "        input_variables=['context', 'question']\n",
    "    )\n",
    "    \n",
    "    rag_chain = (\n",
    "        {\"context\": retriever | format_docs, \"question\": RunnablePassthrough()}\n",
    "        | prompt\n",
    "        | model\n",
    "        | StrOutputParser()\n",
    "    )\n",
    "    result = rag_chain.invoke({\"question\": question})\n",
    "    return  {\"messages\": [result]}"
   ]
  },
  {
   "cell_type": "code",
   "execution_count": null,
   "id": "973070d4",
   "metadata": {},
   "outputs": [],
   "source": [
    "def function_3(state: AgentState):\n",
    "    print(\"->-> LLM Call ->->\")\n",
    "\n",
    "    question = state[\"messages\"][0]\n",
    "\n",
    "    complete_query = (\n",
    "        \"Answer the following question with your real-world knowledge. \"\n",
    "        f\"User question: {question}\"\n",
    "    )\n",
    "\n",
    "    response = model.invoke(complete_query)\n",
    "    print(\"LLM Raw Response:\", response)\n",
    "\n",
    "    # Extract answer content safely\n",
    "    if hasattr(response, 'content'):\n",
    "        answer = response.content\n",
    "    elif hasattr(response, 'text'):\n",
    "        answer = response.text\n",
    "    else:\n",
    "        answer = str(response)\n",
    "\n",
    "    return {\"messages\": [answer]}\n"
   ]
  },
  {
   "cell_type": "code",
   "execution_count": null,
   "id": "f465a0f6",
   "metadata": {},
   "outputs": [],
   "source": [
    "from langchain_community.tools import DuckDuckGoSearchRun"
   ]
  },
  {
   "cell_type": "code",
   "execution_count": null,
   "id": "199cbdc4",
   "metadata": {},
   "outputs": [],
   "source": [
    "search = DuckDuckGoSearchRun()"
   ]
  },
  {
   "cell_type": "code",
   "execution_count": null,
   "id": "f5af71fe",
   "metadata": {},
   "outputs": [],
   "source": [
    "def function_4(state: AgentState):\n",
    "    print(\"->-> Web Search Call ->->\")\n",
    "\n",
    "    question = state[\"messages\"][0]\n",
    "\n",
    "    # Run the web search\n",
    "    results = search.run(question)\n",
    "    \n",
    "    print(\"Search Result:\", results)\n",
    "    \n",
    "    return {\"messages\": [results]}"
   ]
  },
  {
   "cell_type": "code",
   "execution_count": null,
   "id": "ffdbe4e2",
   "metadata": {},
   "outputs": [],
   "source": [
    "from langgraph.graph import StateGraph, END"
   ]
  },
  {
   "cell_type": "code",
   "execution_count": 137,
   "id": "2a7d76bb",
   "metadata": {},
   "outputs": [
    {
     "name": "stderr",
     "output_type": "stream",
     "text": [
      "C:\\Users\\aditi_zg48xl\\AppData\\Local\\Temp\\ipykernel_16636\\1792777266.py:7: PydanticDeprecatedSince20: Pydantic V1 style `@validator` validators are deprecated. You should migrate to Pydantic V2 style `@field_validator` validators, see the migration guide for more details. Deprecated in Pydantic V2.0 to be removed in V3.0. See Pydantic V2 Migration Guide at https://errors.pydantic.dev/2.11/migration/\n",
      "  @validator(\"response\")\n"
     ]
    }
   ],
   "source": [
    "from pydantic import BaseModel, ValidationError, validator\n",
    "\n",
    "# Define a model for validating the response\n",
    "class OutputModel(BaseModel):\n",
    "    response: str\n",
    "\n",
    "    @validator(\"response\")\n",
    "    def check_min_length_and_topic(cls, value):\n",
    "        if not value or len(value.strip()) < 1:\n",
    "            raise ValueError(\"Output too short.\")\n",
    "        if \"genetic\" not in value.lower() and \"disease\" not in value.lower():\n",
    "            raise ValueError(\"Output does not relate to genetic diseases.\")\n",
    "        return value\n",
    "\n",
    "# Agentic validation function\n",
    "def function_5(state: AgentState):\n",
    "    print(\"->-> Validation Node ->->\")\n",
    "\n",
    "    latest_output = state[\"messages\"][-1]\n",
    "\n",
    "    try:\n",
    "        # Validate using Pydantic model\n",
    "        OutputModel(response=latest_output)\n",
    "        print(\"✅ Passed Validation\")\n",
    "        return {\"messages\": [\"VALIDATED\"]}\n",
    "    except ValidationError as e:\n",
    "        print(\"❌ Validation Error:\", e)\n",
    "        return {\"messages\": [\"VALIDATION_FAILED\"]}\n"
   ]
  },
  {
   "cell_type": "code",
   "execution_count": null,
   "id": "8a5007bb",
   "metadata": {},
   "outputs": [],
   "source": [
    "def post_validation_router(state: AgentState):\n",
    "    print(\"->-> Post-Validation Router ->->\")\n",
    "\n",
    "    if state[\"messages\"][-1] == \"VALIDATED\":\n",
    "        return \"Final Output\"\n",
    "    else:\n",
    "        return \"Supervisor\""
   ]
  },
  {
   "cell_type": "code",
   "execution_count": null,
   "id": "5cdaa297",
   "metadata": {},
   "outputs": [],
   "source": [
    "def final_output(state: AgentState):\n",
    "    print(\"✅ Final Output Node\")\n",
    "    \n",
    "    # The actual answer is second last because the last message is \"VALIDATED\"\n",
    "    answer = state[\"messages\"][-2] if state[\"messages\"][-1] == \"VALIDATED\" else state[\"messages\"][-1]\n",
    "    \n",
    "    return {\"messages\": [f\"Final Answer: {answer}\"]}\n"
   ]
  },
  {
   "cell_type": "code",
   "execution_count": 128,
   "id": "12c7f6e3",
   "metadata": {},
   "outputs": [],
   "source": [
    "\n",
    "workflow = StateGraph(AgentState)"
   ]
  },
  {
   "cell_type": "code",
   "execution_count": 129,
   "id": "85f431db",
   "metadata": {},
   "outputs": [
    {
     "data": {
      "text/plain": [
       "<langgraph.graph.state.StateGraph at 0x1daa35a6d50>"
      ]
     },
     "execution_count": 129,
     "metadata": {},
     "output_type": "execute_result"
    }
   ],
   "source": [
    "workflow.add_node(\"Supervisor\", function_1)\n",
    "workflow.add_node(\"Router\", router)\n",
    "workflow.add_node(\"LLM Call\", function_3)\n",
    "workflow.add_node(\"RAG\", function_2)\n",
    "workflow.add_node(\"Web Crawler\", function_4)\n",
    "workflow.add_node(\"Validation\", function_5)\n",
    "workflow.add_node(\"Post-Validation Router\", post_validation_router)\n",
    "workflow.add_node(\"Final Output\", final_output)\n",
    "\n",
    "workflow.set_entry_point(\"Supervisor\")\n",
    "\n",
    "workflow.add_edge(\"Supervisor\", \"Router\")\n",
    "workflow.add_edge(\"Router\", \"LLM Call\")\n",
    "workflow.add_edge(\"Router\", \"RAG\")\n",
    "workflow.add_edge(\"Router\", \"Web Crawler\")\n",
    "workflow.add_edge(\"LLM Call\", \"Validation\")\n",
    "workflow.add_edge(\"RAG\", \"Validation\")\n",
    "workflow.add_edge(\"Web Crawler\", \"Validation\")\n",
    "workflow.add_edge(\"Validation\", \"Post-Validation Router\")\n",
    "workflow.add_edge(\"Post-Validation Router\", \"Final Output\")\n",
    "workflow.add_edge(\"Post-Validation Router\", \"Supervisor\")"
   ]
  },
  {
   "cell_type": "code",
   "execution_count": 131,
   "id": "1d414061",
   "metadata": {},
   "outputs": [],
   "source": [
    "app = workflow.compile()"
   ]
  },
  {
   "cell_type": "code",
   "execution_count": 133,
   "id": "6c5dd345",
   "metadata": {},
   "outputs": [],
   "source": [
    "from IPython.display import Image,display"
   ]
  },
  {
   "cell_type": "code",
   "execution_count": 134,
   "id": "346e1f94",
   "metadata": {},
   "outputs": [
    {
     "data": {
      "image/png": "[encoded data removed]",
      "text/plain": [
       "<IPython.core.display.Image object>"
      ]
     },
     "metadata": {},
     "output_type": "display_data"
    }
   ],
   "source": [
    "display(Image(app.get_graph().draw_mermaid_png()))"
   ]
  },
  {
   "cell_type": "markdown",
   "id": "95bf7131",
   "metadata": {},
   "source": [
    "#### Testing"
   ]
  },
  {
   "cell_type": "code",
   "execution_count": 138,
   "id": "58ad9f42",
   "metadata": {},
   "outputs": [],
   "source": [
    "state={\"messages\":[\"Hi\"]}"
   ]
  },
  {
   "cell_type": "code",
   "execution_count": 139,
   "id": "00957c0d",
   "metadata": {},
   "outputs": [
    {
     "name": "stdout",
     "output_type": "stream",
     "text": [
      "Question: Hi\n"
     ]
    },
    {
     "ename": "OutputParserException",
     "evalue": "Failed to parse OutputModel from completion {\"response\": \"LLM\"}. Got: 1 validation error for OutputModel\nresponse\n  Value error, Output too short. [type=value_error, input_value='LLM', input_type=str]\n    For further information visit https://errors.pydantic.dev/2.11/v/value_error\nFor troubleshooting, visit: https://python.langchain.com/docs/troubleshooting/errors/OUTPUT_PARSING_FAILURE ",
     "output_type": "error",
     "traceback": [
      "\u001b[31m---------------------------------------------------------------------------\u001b[39m",
      "\u001b[31mValidationError\u001b[39m                           Traceback (most recent call last)",
      "\u001b[36mFile \u001b[39m\u001b[32mc:\\Users\\aditi_zg48xl\\Downloads\\Agentic AI\\venv\\Lib\\site-packages\\langchain_core\\output_parsers\\pydantic.py:30\u001b[39m, in \u001b[36mPydanticOutputParser._parse_obj\u001b[39m\u001b[34m(self, obj)\u001b[39m\n\u001b[32m     29\u001b[39m \u001b[38;5;28;01mif\u001b[39;00m \u001b[38;5;28missubclass\u001b[39m(\u001b[38;5;28mself\u001b[39m.pydantic_object, pydantic.BaseModel):\n\u001b[32m---> \u001b[39m\u001b[32m30\u001b[39m     \u001b[38;5;28;01mreturn\u001b[39;00m \u001b[38;5;28;43mself\u001b[39;49m\u001b[43m.\u001b[49m\u001b[43mpydantic_object\u001b[49m\u001b[43m.\u001b[49m\u001b[43mmodel_validate\u001b[49m\u001b[43m(\u001b[49m\u001b[43mobj\u001b[49m\u001b[43m)\u001b[49m\n\u001b[32m     31\u001b[39m \u001b[38;5;28;01mif\u001b[39;00m \u001b[38;5;28missubclass\u001b[39m(\u001b[38;5;28mself\u001b[39m.pydantic_object, pydantic.v1.BaseModel):\n",
      "\u001b[36mFile \u001b[39m\u001b[32mc:\\Users\\aditi_zg48xl\\Downloads\\Agentic AI\\venv\\Lib\\site-packages\\pydantic\\main.py:705\u001b[39m, in \u001b[36mBaseModel.model_validate\u001b[39m\u001b[34m(cls, obj, strict, from_attributes, context, by_alias, by_name)\u001b[39m\n\u001b[32m    700\u001b[39m     \u001b[38;5;28;01mraise\u001b[39;00m PydanticUserError(\n\u001b[32m    701\u001b[39m         \u001b[33m'\u001b[39m\u001b[33mAt least one of `by_alias` or `by_name` must be set to True.\u001b[39m\u001b[33m'\u001b[39m,\n\u001b[32m    702\u001b[39m         code=\u001b[33m'\u001b[39m\u001b[33mvalidate-by-alias-and-name-false\u001b[39m\u001b[33m'\u001b[39m,\n\u001b[32m    703\u001b[39m     )\n\u001b[32m--> \u001b[39m\u001b[32m705\u001b[39m \u001b[38;5;28;01mreturn\u001b[39;00m \u001b[38;5;28;43mcls\u001b[39;49m\u001b[43m.\u001b[49m\u001b[43m__pydantic_validator__\u001b[49m\u001b[43m.\u001b[49m\u001b[43mvalidate_python\u001b[49m\u001b[43m(\u001b[49m\n\u001b[32m    706\u001b[39m \u001b[43m    \u001b[49m\u001b[43mobj\u001b[49m\u001b[43m,\u001b[49m\u001b[43m \u001b[49m\u001b[43mstrict\u001b[49m\u001b[43m=\u001b[49m\u001b[43mstrict\u001b[49m\u001b[43m,\u001b[49m\u001b[43m \u001b[49m\u001b[43mfrom_attributes\u001b[49m\u001b[43m=\u001b[49m\u001b[43mfrom_attributes\u001b[49m\u001b[43m,\u001b[49m\u001b[43m \u001b[49m\u001b[43mcontext\u001b[49m\u001b[43m=\u001b[49m\u001b[43mcontext\u001b[49m\u001b[43m,\u001b[49m\u001b[43m \u001b[49m\u001b[43mby_alias\u001b[49m\u001b[43m=\u001b[49m\u001b[43mby_alias\u001b[49m\u001b[43m,\u001b[49m\u001b[43m \u001b[49m\u001b[43mby_name\u001b[49m\u001b[43m=\u001b[49m\u001b[43mby_name\u001b[49m\n\u001b[32m    707\u001b[39m \u001b[43m\u001b[49m\u001b[43m)\u001b[49m\n",
      "\u001b[31mValidationError\u001b[39m: 1 validation error for OutputModel\nresponse\n  Value error, Output too short. [type=value_error, input_value='LLM', input_type=str]\n    For further information visit https://errors.pydantic.dev/2.11/v/value_error",
      "\nThe above exception was the direct cause of the following exception:\n",
      "\u001b[31mOutputParserException\u001b[39m                     Traceback (most recent call last)",
      "\u001b[36mCell\u001b[39m\u001b[36m \u001b[39m\u001b[32mIn[139]\u001b[39m\u001b[32m, line 1\u001b[39m\n\u001b[32m----> \u001b[39m\u001b[32m1\u001b[39m \u001b[43mworkflow\u001b[49m\u001b[43m.\u001b[49m\u001b[43mcompile\u001b[49m\u001b[43m(\u001b[49m\u001b[43m)\u001b[49m\u001b[43m.\u001b[49m\u001b[43minvoke\u001b[49m\u001b[43m(\u001b[49m\u001b[43mstate\u001b[49m\u001b[43m)\u001b[49m\n",
      "\u001b[36mFile \u001b[39m\u001b[32mc:\\Users\\aditi_zg48xl\\Downloads\\Agentic AI\\venv\\Lib\\site-packages\\langgraph\\pregel\\__init__.py:2719\u001b[39m, in \u001b[36mPregel.invoke\u001b[39m\u001b[34m(self, input, config, stream_mode, output_keys, interrupt_before, interrupt_after, checkpoint_during, debug, **kwargs)\u001b[39m\n\u001b[32m   2716\u001b[39m chunks: \u001b[38;5;28mlist\u001b[39m[Union[\u001b[38;5;28mdict\u001b[39m[\u001b[38;5;28mstr\u001b[39m, Any], Any]] = []\n\u001b[32m   2717\u001b[39m interrupts: \u001b[38;5;28mlist\u001b[39m[Interrupt] = []\n\u001b[32m-> \u001b[39m\u001b[32m2719\u001b[39m \u001b[43m\u001b[49m\u001b[38;5;28;43;01mfor\u001b[39;49;00m\u001b[43m \u001b[49m\u001b[43mchunk\u001b[49m\u001b[43m \u001b[49m\u001b[38;5;129;43;01min\u001b[39;49;00m\u001b[43m \u001b[49m\u001b[38;5;28;43mself\u001b[39;49m\u001b[43m.\u001b[49m\u001b[43mstream\u001b[49m\u001b[43m(\u001b[49m\n\u001b[32m   2720\u001b[39m \u001b[43m    \u001b[49m\u001b[38;5;28;43minput\u001b[39;49m\u001b[43m,\u001b[49m\n\u001b[32m   2721\u001b[39m \u001b[43m    \u001b[49m\u001b[43mconfig\u001b[49m\u001b[43m,\u001b[49m\n\u001b[32m   2722\u001b[39m \u001b[43m    \u001b[49m\u001b[43mstream_mode\u001b[49m\u001b[43m=\u001b[49m\u001b[43mstream_mode\u001b[49m\u001b[43m,\u001b[49m\n\u001b[32m   2723\u001b[39m \u001b[43m    \u001b[49m\u001b[43moutput_keys\u001b[49m\u001b[43m=\u001b[49m\u001b[43moutput_keys\u001b[49m\u001b[43m,\u001b[49m\n\u001b[32m   2724\u001b[39m \u001b[43m    \u001b[49m\u001b[43minterrupt_before\u001b[49m\u001b[43m=\u001b[49m\u001b[43minterrupt_before\u001b[49m\u001b[43m,\u001b[49m\n\u001b[32m   2725\u001b[39m \u001b[43m    \u001b[49m\u001b[43minterrupt_after\u001b[49m\u001b[43m=\u001b[49m\u001b[43minterrupt_after\u001b[49m\u001b[43m,\u001b[49m\n\u001b[32m   2726\u001b[39m \u001b[43m    \u001b[49m\u001b[43mcheckpoint_during\u001b[49m\u001b[43m=\u001b[49m\u001b[43mcheckpoint_during\u001b[49m\u001b[43m,\u001b[49m\n\u001b[32m   2727\u001b[39m \u001b[43m    \u001b[49m\u001b[43mdebug\u001b[49m\u001b[43m=\u001b[49m\u001b[43mdebug\u001b[49m\u001b[43m,\u001b[49m\n\u001b[32m   2728\u001b[39m \u001b[43m    \u001b[49m\u001b[43m*\u001b[49m\u001b[43m*\u001b[49m\u001b[43mkwargs\u001b[49m\u001b[43m,\u001b[49m\n\u001b[32m   2729\u001b[39m \u001b[43m\u001b[49m\u001b[43m)\u001b[49m\u001b[43m:\u001b[49m\n\u001b[32m   2730\u001b[39m \u001b[43m    \u001b[49m\u001b[38;5;28;43;01mif\u001b[39;49;00m\u001b[43m \u001b[49m\u001b[43mstream_mode\u001b[49m\u001b[43m \u001b[49m\u001b[43m==\u001b[49m\u001b[43m \u001b[49m\u001b[33;43m\"\u001b[39;49m\u001b[33;43mvalues\u001b[39;49m\u001b[33;43m\"\u001b[39;49m\u001b[43m:\u001b[49m\n\u001b[32m   2731\u001b[39m \u001b[43m        \u001b[49m\u001b[38;5;28;43;01mif\u001b[39;49;00m\u001b[43m \u001b[49m\u001b[43m(\u001b[49m\n\u001b[32m   2732\u001b[39m \u001b[43m            \u001b[49m\u001b[38;5;28;43misinstance\u001b[39;49m\u001b[43m(\u001b[49m\u001b[43mchunk\u001b[49m\u001b[43m,\u001b[49m\u001b[43m \u001b[49m\u001b[38;5;28;43mdict\u001b[39;49m\u001b[43m)\u001b[49m\n\u001b[32m   2733\u001b[39m \u001b[43m            \u001b[49m\u001b[38;5;129;43;01mand\u001b[39;49;00m\u001b[43m \u001b[49m\u001b[43m(\u001b[49m\u001b[43mints\u001b[49m\u001b[43m \u001b[49m\u001b[43m:=\u001b[49m\u001b[43m \u001b[49m\u001b[43mchunk\u001b[49m\u001b[43m.\u001b[49m\u001b[43mget\u001b[49m\u001b[43m(\u001b[49m\u001b[43mINTERRUPT\u001b[49m\u001b[43m)\u001b[49m\u001b[43m)\u001b[49m\u001b[43m \u001b[49m\u001b[38;5;129;43;01mis\u001b[39;49;00m\u001b[43m \u001b[49m\u001b[38;5;129;43;01mnot\u001b[39;49;00m\u001b[43m \u001b[49m\u001b[38;5;28;43;01mNone\u001b[39;49;00m\n\u001b[32m   2734\u001b[39m \u001b[43m        \u001b[49m\u001b[43m)\u001b[49m\u001b[43m:\u001b[49m\n",
      "\u001b[36mFile \u001b[39m\u001b[32mc:\\Users\\aditi_zg48xl\\Downloads\\Agentic AI\\venv\\Lib\\site-packages\\langgraph\\pregel\\__init__.py:2436\u001b[39m, in \u001b[36mPregel.stream\u001b[39m\u001b[34m(self, input, config, stream_mode, output_keys, interrupt_before, interrupt_after, checkpoint_during, debug, subgraphs)\u001b[39m\n\u001b[32m   2434\u001b[39m         \u001b[38;5;28;01mfor\u001b[39;00m task \u001b[38;5;129;01min\u001b[39;00m loop.match_cached_writes():\n\u001b[32m   2435\u001b[39m             loop.output_writes(task.id, task.writes, cached=\u001b[38;5;28;01mTrue\u001b[39;00m)\n\u001b[32m-> \u001b[39m\u001b[32m2436\u001b[39m \u001b[43m        \u001b[49m\u001b[38;5;28;43;01mfor\u001b[39;49;00m\u001b[43m \u001b[49m\u001b[43m_\u001b[49m\u001b[43m \u001b[49m\u001b[38;5;129;43;01min\u001b[39;49;00m\u001b[43m \u001b[49m\u001b[43mrunner\u001b[49m\u001b[43m.\u001b[49m\u001b[43mtick\u001b[49m\u001b[43m(\u001b[49m\n\u001b[32m   2437\u001b[39m \u001b[43m            \u001b[49m\u001b[43m[\u001b[49m\u001b[43mt\u001b[49m\u001b[43m \u001b[49m\u001b[38;5;28;43;01mfor\u001b[39;49;00m\u001b[43m \u001b[49m\u001b[43mt\u001b[49m\u001b[43m \u001b[49m\u001b[38;5;129;43;01min\u001b[39;49;00m\u001b[43m \u001b[49m\u001b[43mloop\u001b[49m\u001b[43m.\u001b[49m\u001b[43mtasks\u001b[49m\u001b[43m.\u001b[49m\u001b[43mvalues\u001b[49m\u001b[43m(\u001b[49m\u001b[43m)\u001b[49m\u001b[43m \u001b[49m\u001b[38;5;28;43;01mif\u001b[39;49;00m\u001b[43m \u001b[49m\u001b[38;5;129;43;01mnot\u001b[39;49;00m\u001b[43m \u001b[49m\u001b[43mt\u001b[49m\u001b[43m.\u001b[49m\u001b[43mwrites\u001b[49m\u001b[43m]\u001b[49m\u001b[43m,\u001b[49m\n\u001b[32m   2438\u001b[39m \u001b[43m            \u001b[49m\u001b[43mtimeout\u001b[49m\u001b[43m=\u001b[49m\u001b[38;5;28;43mself\u001b[39;49m\u001b[43m.\u001b[49m\u001b[43mstep_timeout\u001b[49m\u001b[43m,\u001b[49m\n\u001b[32m   2439\u001b[39m \u001b[43m            \u001b[49m\u001b[43mget_waiter\u001b[49m\u001b[43m=\u001b[49m\u001b[43mget_waiter\u001b[49m\u001b[43m,\u001b[49m\n\u001b[32m   2440\u001b[39m \u001b[43m            \u001b[49m\u001b[43mschedule_task\u001b[49m\u001b[43m=\u001b[49m\u001b[43mloop\u001b[49m\u001b[43m.\u001b[49m\u001b[43maccept_push\u001b[49m\u001b[43m,\u001b[49m\n\u001b[32m   2441\u001b[39m \u001b[43m        \u001b[49m\u001b[43m)\u001b[49m\u001b[43m:\u001b[49m\n\u001b[32m   2442\u001b[39m \u001b[43m            \u001b[49m\u001b[38;5;66;43;03m# emit output\u001b[39;49;00m\n\u001b[32m   2443\u001b[39m \u001b[43m            \u001b[49m\u001b[38;5;28;43;01myield from\u001b[39;49;00m\u001b[43m \u001b[49m\u001b[43moutput\u001b[49m\u001b[43m(\u001b[49m\u001b[43m)\u001b[49m\n\u001b[32m   2444\u001b[39m \u001b[38;5;66;03m# emit output\u001b[39;00m\n",
      "\u001b[36mFile \u001b[39m\u001b[32mc:\\Users\\aditi_zg48xl\\Downloads\\Agentic AI\\venv\\Lib\\site-packages\\langgraph\\pregel\\runner.py:161\u001b[39m, in \u001b[36mPregelRunner.tick\u001b[39m\u001b[34m(self, tasks, reraise, timeout, retry_policy, get_waiter, schedule_task)\u001b[39m\n\u001b[32m    159\u001b[39m t = tasks[\u001b[32m0\u001b[39m]\n\u001b[32m    160\u001b[39m \u001b[38;5;28;01mtry\u001b[39;00m:\n\u001b[32m--> \u001b[39m\u001b[32m161\u001b[39m     \u001b[43mrun_with_retry\u001b[49m\u001b[43m(\u001b[49m\n\u001b[32m    162\u001b[39m \u001b[43m        \u001b[49m\u001b[43mt\u001b[49m\u001b[43m,\u001b[49m\n\u001b[32m    163\u001b[39m \u001b[43m        \u001b[49m\u001b[43mretry_policy\u001b[49m\u001b[43m,\u001b[49m\n\u001b[32m    164\u001b[39m \u001b[43m        \u001b[49m\u001b[43mconfigurable\u001b[49m\u001b[43m=\u001b[49m\u001b[43m{\u001b[49m\n\u001b[32m    165\u001b[39m \u001b[43m            \u001b[49m\u001b[43mCONFIG_KEY_CALL\u001b[49m\u001b[43m:\u001b[49m\u001b[43m \u001b[49m\u001b[43mpartial\u001b[49m\u001b[43m(\u001b[49m\n\u001b[32m    166\u001b[39m \u001b[43m                \u001b[49m\u001b[43m_call\u001b[49m\u001b[43m,\u001b[49m\n\u001b[32m    167\u001b[39m \u001b[43m                \u001b[49m\u001b[43mweakref\u001b[49m\u001b[43m.\u001b[49m\u001b[43mref\u001b[49m\u001b[43m(\u001b[49m\u001b[43mt\u001b[49m\u001b[43m)\u001b[49m\u001b[43m,\u001b[49m\n\u001b[32m    168\u001b[39m \u001b[43m                \u001b[49m\u001b[43mretry\u001b[49m\u001b[43m=\u001b[49m\u001b[43mretry_policy\u001b[49m\u001b[43m,\u001b[49m\n\u001b[32m    169\u001b[39m \u001b[43m                \u001b[49m\u001b[43mfutures\u001b[49m\u001b[43m=\u001b[49m\u001b[43mweakref\u001b[49m\u001b[43m.\u001b[49m\u001b[43mref\u001b[49m\u001b[43m(\u001b[49m\u001b[43mfutures\u001b[49m\u001b[43m)\u001b[49m\u001b[43m,\u001b[49m\n\u001b[32m    170\u001b[39m \u001b[43m                \u001b[49m\u001b[43mschedule_task\u001b[49m\u001b[43m=\u001b[49m\u001b[43mschedule_task\u001b[49m\u001b[43m,\u001b[49m\n\u001b[32m    171\u001b[39m \u001b[43m                \u001b[49m\u001b[43msubmit\u001b[49m\u001b[43m=\u001b[49m\u001b[38;5;28;43mself\u001b[39;49m\u001b[43m.\u001b[49m\u001b[43msubmit\u001b[49m\u001b[43m,\u001b[49m\n\u001b[32m    172\u001b[39m \u001b[43m            \u001b[49m\u001b[43m)\u001b[49m\u001b[43m,\u001b[49m\n\u001b[32m    173\u001b[39m \u001b[43m        \u001b[49m\u001b[43m}\u001b[49m\u001b[43m,\u001b[49m\n\u001b[32m    174\u001b[39m \u001b[43m    \u001b[49m\u001b[43m)\u001b[49m\n\u001b[32m    175\u001b[39m     \u001b[38;5;28mself\u001b[39m.commit(t, \u001b[38;5;28;01mNone\u001b[39;00m)\n\u001b[32m    176\u001b[39m \u001b[38;5;28;01mexcept\u001b[39;00m \u001b[38;5;167;01mException\u001b[39;00m \u001b[38;5;28;01mas\u001b[39;00m exc:\n",
      "\u001b[36mFile \u001b[39m\u001b[32mc:\\Users\\aditi_zg48xl\\Downloads\\Agentic AI\\venv\\Lib\\site-packages\\langgraph\\pregel\\retry.py:40\u001b[39m, in \u001b[36mrun_with_retry\u001b[39m\u001b[34m(task, retry_policy, configurable)\u001b[39m\n\u001b[32m     38\u001b[39m     task.writes.clear()\n\u001b[32m     39\u001b[39m     \u001b[38;5;66;03m# run the task\u001b[39;00m\n\u001b[32m---> \u001b[39m\u001b[32m40\u001b[39m     \u001b[38;5;28;01mreturn\u001b[39;00m \u001b[43mtask\u001b[49m\u001b[43m.\u001b[49m\u001b[43mproc\u001b[49m\u001b[43m.\u001b[49m\u001b[43minvoke\u001b[49m\u001b[43m(\u001b[49m\u001b[43mtask\u001b[49m\u001b[43m.\u001b[49m\u001b[43minput\u001b[49m\u001b[43m,\u001b[49m\u001b[43m \u001b[49m\u001b[43mconfig\u001b[49m\u001b[43m)\u001b[49m\n\u001b[32m     41\u001b[39m \u001b[38;5;28;01mexcept\u001b[39;00m ParentCommand \u001b[38;5;28;01mas\u001b[39;00m exc:\n\u001b[32m     42\u001b[39m     ns: \u001b[38;5;28mstr\u001b[39m = config[CONF][CONFIG_KEY_CHECKPOINT_NS]\n",
      "\u001b[36mFile \u001b[39m\u001b[32mc:\\Users\\aditi_zg48xl\\Downloads\\Agentic AI\\venv\\Lib\\site-packages\\langgraph\\utils\\runnable.py:623\u001b[39m, in \u001b[36mRunnableSeq.invoke\u001b[39m\u001b[34m(self, input, config, **kwargs)\u001b[39m\n\u001b[32m    621\u001b[39m     \u001b[38;5;66;03m# run in context\u001b[39;00m\n\u001b[32m    622\u001b[39m     \u001b[38;5;28;01mwith\u001b[39;00m set_config_context(config, run) \u001b[38;5;28;01mas\u001b[39;00m context:\n\u001b[32m--> \u001b[39m\u001b[32m623\u001b[39m         \u001b[38;5;28minput\u001b[39m = \u001b[43mcontext\u001b[49m\u001b[43m.\u001b[49m\u001b[43mrun\u001b[49m\u001b[43m(\u001b[49m\u001b[43mstep\u001b[49m\u001b[43m.\u001b[49m\u001b[43minvoke\u001b[49m\u001b[43m,\u001b[49m\u001b[43m \u001b[49m\u001b[38;5;28;43minput\u001b[39;49m\u001b[43m,\u001b[49m\u001b[43m \u001b[49m\u001b[43mconfig\u001b[49m\u001b[43m,\u001b[49m\u001b[43m \u001b[49m\u001b[43m*\u001b[49m\u001b[43m*\u001b[49m\u001b[43mkwargs\u001b[49m\u001b[43m)\u001b[49m\n\u001b[32m    624\u001b[39m \u001b[38;5;28;01melse\u001b[39;00m:\n\u001b[32m    625\u001b[39m     \u001b[38;5;28minput\u001b[39m = step.invoke(\u001b[38;5;28minput\u001b[39m, config)\n",
      "\u001b[36mFile \u001b[39m\u001b[32mc:\\Users\\aditi_zg48xl\\Downloads\\Agentic AI\\venv\\Lib\\site-packages\\langgraph\\utils\\runnable.py:377\u001b[39m, in \u001b[36mRunnableCallable.invoke\u001b[39m\u001b[34m(self, input, config, **kwargs)\u001b[39m\n\u001b[32m    375\u001b[39m         run_manager.on_chain_end(ret)\n\u001b[32m    376\u001b[39m \u001b[38;5;28;01melse\u001b[39;00m:\n\u001b[32m--> \u001b[39m\u001b[32m377\u001b[39m     ret = \u001b[38;5;28;43mself\u001b[39;49m\u001b[43m.\u001b[49m\u001b[43mfunc\u001b[49m\u001b[43m(\u001b[49m\u001b[43m*\u001b[49m\u001b[43margs\u001b[49m\u001b[43m,\u001b[49m\u001b[43m \u001b[49m\u001b[43m*\u001b[49m\u001b[43m*\u001b[49m\u001b[43mkwargs\u001b[49m\u001b[43m)\u001b[49m\n\u001b[32m    378\u001b[39m \u001b[38;5;28;01mif\u001b[39;00m \u001b[38;5;28mself\u001b[39m.recurse \u001b[38;5;129;01mand\u001b[39;00m \u001b[38;5;28misinstance\u001b[39m(ret, Runnable):\n\u001b[32m    379\u001b[39m     \u001b[38;5;28;01mreturn\u001b[39;00m ret.invoke(\u001b[38;5;28minput\u001b[39m, config)\n",
      "\u001b[36mCell\u001b[39m\u001b[36m \u001b[39m\u001b[32mIn[76]\u001b[39m\u001b[32m, line 23\u001b[39m, in \u001b[36mfunction_1\u001b[39m\u001b[34m(state)\u001b[39m\n\u001b[32m     15\u001b[39m prompt = PromptTemplate(\n\u001b[32m     16\u001b[39m     template=template,\n\u001b[32m     17\u001b[39m     input_variables=[\u001b[33m\"\u001b[39m\u001b[33mquestion\u001b[39m\u001b[33m\"\u001b[39m],\n\u001b[32m     18\u001b[39m     partial_variables={\u001b[33m\"\u001b[39m\u001b[33mformat_instructions\u001b[39m\u001b[33m\"\u001b[39m: parser.get_format_instructions()}\n\u001b[32m     19\u001b[39m )\n\u001b[32m     21\u001b[39m chain = prompt | model | parser\n\u001b[32m---> \u001b[39m\u001b[32m23\u001b[39m response = \u001b[43mchain\u001b[49m\u001b[43m.\u001b[49m\u001b[43minvoke\u001b[49m\u001b[43m(\u001b[49m\u001b[43m{\u001b[49m\u001b[33;43m\"\u001b[39;49m\u001b[33;43mquestion\u001b[39;49m\u001b[33;43m\"\u001b[39;49m\u001b[43m:\u001b[49m\u001b[43m \u001b[49m\u001b[43mquestion\u001b[49m\u001b[43m}\u001b[49m\u001b[43m)\u001b[49m\n\u001b[32m     24\u001b[39m \u001b[38;5;28mprint\u001b[39m(\u001b[33m\"\u001b[39m\u001b[33mParsed response:\u001b[39m\u001b[33m\"\u001b[39m, response)\n\u001b[32m     26\u001b[39m \u001b[38;5;28;01mreturn\u001b[39;00m {\u001b[33m\"\u001b[39m\u001b[33mmessages\u001b[39m\u001b[33m\"\u001b[39m: [response.Topic]}\n",
      "\u001b[36mFile \u001b[39m\u001b[32mc:\\Users\\aditi_zg48xl\\Downloads\\Agentic AI\\venv\\Lib\\site-packages\\langchain_core\\runnables\\base.py:3047\u001b[39m, in \u001b[36mRunnableSequence.invoke\u001b[39m\u001b[34m(self, input, config, **kwargs)\u001b[39m\n\u001b[32m   3045\u001b[39m                 input_ = context.run(step.invoke, input_, config, **kwargs)\n\u001b[32m   3046\u001b[39m             \u001b[38;5;28;01melse\u001b[39;00m:\n\u001b[32m-> \u001b[39m\u001b[32m3047\u001b[39m                 input_ = \u001b[43mcontext\u001b[49m\u001b[43m.\u001b[49m\u001b[43mrun\u001b[49m\u001b[43m(\u001b[49m\u001b[43mstep\u001b[49m\u001b[43m.\u001b[49m\u001b[43minvoke\u001b[49m\u001b[43m,\u001b[49m\u001b[43m \u001b[49m\u001b[43minput_\u001b[49m\u001b[43m,\u001b[49m\u001b[43m \u001b[49m\u001b[43mconfig\u001b[49m\u001b[43m)\u001b[49m\n\u001b[32m   3048\u001b[39m \u001b[38;5;66;03m# finish the root run\u001b[39;00m\n\u001b[32m   3049\u001b[39m \u001b[38;5;28;01mexcept\u001b[39;00m \u001b[38;5;167;01mBaseException\u001b[39;00m \u001b[38;5;28;01mas\u001b[39;00m e:\n",
      "\u001b[36mFile \u001b[39m\u001b[32mc:\\Users\\aditi_zg48xl\\Downloads\\Agentic AI\\venv\\Lib\\site-packages\\langchain_core\\output_parsers\\base.py:196\u001b[39m, in \u001b[36mBaseOutputParser.invoke\u001b[39m\u001b[34m(self, input, config, **kwargs)\u001b[39m\n\u001b[32m    188\u001b[39m \u001b[38;5;129m@override\u001b[39m\n\u001b[32m    189\u001b[39m \u001b[38;5;28;01mdef\u001b[39;00m\u001b[38;5;250m \u001b[39m\u001b[34minvoke\u001b[39m(\n\u001b[32m    190\u001b[39m     \u001b[38;5;28mself\u001b[39m,\n\u001b[32m   (...)\u001b[39m\u001b[32m    193\u001b[39m     **kwargs: Any,\n\u001b[32m    194\u001b[39m ) -> T:\n\u001b[32m    195\u001b[39m     \u001b[38;5;28;01mif\u001b[39;00m \u001b[38;5;28misinstance\u001b[39m(\u001b[38;5;28minput\u001b[39m, BaseMessage):\n\u001b[32m--> \u001b[39m\u001b[32m196\u001b[39m         \u001b[38;5;28;01mreturn\u001b[39;00m \u001b[38;5;28;43mself\u001b[39;49m\u001b[43m.\u001b[49m\u001b[43m_call_with_config\u001b[49m\u001b[43m(\u001b[49m\n\u001b[32m    197\u001b[39m \u001b[43m            \u001b[49m\u001b[38;5;28;43;01mlambda\u001b[39;49;00m\u001b[43m \u001b[49m\u001b[43minner_input\u001b[49m\u001b[43m:\u001b[49m\u001b[43m \u001b[49m\u001b[38;5;28;43mself\u001b[39;49m\u001b[43m.\u001b[49m\u001b[43mparse_result\u001b[49m\u001b[43m(\u001b[49m\n\u001b[32m    198\u001b[39m \u001b[43m                \u001b[49m\u001b[43m[\u001b[49m\u001b[43mChatGeneration\u001b[49m\u001b[43m(\u001b[49m\u001b[43mmessage\u001b[49m\u001b[43m=\u001b[49m\u001b[43minner_input\u001b[49m\u001b[43m)\u001b[49m\u001b[43m]\u001b[49m\n\u001b[32m    199\u001b[39m \u001b[43m            \u001b[49m\u001b[43m)\u001b[49m\u001b[43m,\u001b[49m\n\u001b[32m    200\u001b[39m \u001b[43m            \u001b[49m\u001b[38;5;28;43minput\u001b[39;49m\u001b[43m,\u001b[49m\n\u001b[32m    201\u001b[39m \u001b[43m            \u001b[49m\u001b[43mconfig\u001b[49m\u001b[43m,\u001b[49m\n\u001b[32m    202\u001b[39m \u001b[43m            \u001b[49m\u001b[43mrun_type\u001b[49m\u001b[43m=\u001b[49m\u001b[33;43m\"\u001b[39;49m\u001b[33;43mparser\u001b[39;49m\u001b[33;43m\"\u001b[39;49m\u001b[43m,\u001b[49m\n\u001b[32m    203\u001b[39m \u001b[43m        \u001b[49m\u001b[43m)\u001b[49m\n\u001b[32m    204\u001b[39m     \u001b[38;5;28;01mreturn\u001b[39;00m \u001b[38;5;28mself\u001b[39m._call_with_config(\n\u001b[32m    205\u001b[39m         \u001b[38;5;28;01mlambda\u001b[39;00m inner_input: \u001b[38;5;28mself\u001b[39m.parse_result([Generation(text=inner_input)]),\n\u001b[32m    206\u001b[39m         \u001b[38;5;28minput\u001b[39m,\n\u001b[32m    207\u001b[39m         config,\n\u001b[32m    208\u001b[39m         run_type=\u001b[33m\"\u001b[39m\u001b[33mparser\u001b[39m\u001b[33m\"\u001b[39m,\n\u001b[32m    209\u001b[39m     )\n",
      "\u001b[36mFile \u001b[39m\u001b[32mc:\\Users\\aditi_zg48xl\\Downloads\\Agentic AI\\venv\\Lib\\site-packages\\langchain_core\\runnables\\base.py:1940\u001b[39m, in \u001b[36mRunnable._call_with_config\u001b[39m\u001b[34m(self, func, input_, config, run_type, serialized, **kwargs)\u001b[39m\n\u001b[32m   1936\u001b[39m     child_config = patch_config(config, callbacks=run_manager.get_child())\n\u001b[32m   1937\u001b[39m     \u001b[38;5;28;01mwith\u001b[39;00m set_config_context(child_config) \u001b[38;5;28;01mas\u001b[39;00m context:\n\u001b[32m   1938\u001b[39m         output = cast(\n\u001b[32m   1939\u001b[39m             \u001b[33m\"\u001b[39m\u001b[33mOutput\u001b[39m\u001b[33m\"\u001b[39m,\n\u001b[32m-> \u001b[39m\u001b[32m1940\u001b[39m             \u001b[43mcontext\u001b[49m\u001b[43m.\u001b[49m\u001b[43mrun\u001b[49m\u001b[43m(\u001b[49m\n\u001b[32m   1941\u001b[39m \u001b[43m                \u001b[49m\u001b[43mcall_func_with_variable_args\u001b[49m\u001b[43m,\u001b[49m\u001b[43m  \u001b[49m\u001b[38;5;66;43;03m# type: ignore[arg-type]\u001b[39;49;00m\n\u001b[32m   1942\u001b[39m \u001b[43m                \u001b[49m\u001b[43mfunc\u001b[49m\u001b[43m,\u001b[49m\n\u001b[32m   1943\u001b[39m \u001b[43m                \u001b[49m\u001b[43minput_\u001b[49m\u001b[43m,\u001b[49m\n\u001b[32m   1944\u001b[39m \u001b[43m                \u001b[49m\u001b[43mconfig\u001b[49m\u001b[43m,\u001b[49m\n\u001b[32m   1945\u001b[39m \u001b[43m                \u001b[49m\u001b[43mrun_manager\u001b[49m\u001b[43m,\u001b[49m\n\u001b[32m   1946\u001b[39m \u001b[43m                \u001b[49m\u001b[43m*\u001b[49m\u001b[43m*\u001b[49m\u001b[43mkwargs\u001b[49m\u001b[43m,\u001b[49m\n\u001b[32m   1947\u001b[39m \u001b[43m            \u001b[49m\u001b[43m)\u001b[49m,\n\u001b[32m   1948\u001b[39m         )\n\u001b[32m   1949\u001b[39m \u001b[38;5;28;01mexcept\u001b[39;00m \u001b[38;5;167;01mBaseException\u001b[39;00m \u001b[38;5;28;01mas\u001b[39;00m e:\n\u001b[32m   1950\u001b[39m     run_manager.on_chain_error(e)\n",
      "\u001b[36mFile \u001b[39m\u001b[32mc:\\Users\\aditi_zg48xl\\Downloads\\Agentic AI\\venv\\Lib\\site-packages\\langchain_core\\runnables\\config.py:428\u001b[39m, in \u001b[36mcall_func_with_variable_args\u001b[39m\u001b[34m(func, input, config, run_manager, **kwargs)\u001b[39m\n\u001b[32m    426\u001b[39m \u001b[38;5;28;01mif\u001b[39;00m run_manager \u001b[38;5;129;01mis\u001b[39;00m \u001b[38;5;129;01mnot\u001b[39;00m \u001b[38;5;28;01mNone\u001b[39;00m \u001b[38;5;129;01mand\u001b[39;00m accepts_run_manager(func):\n\u001b[32m    427\u001b[39m     kwargs[\u001b[33m\"\u001b[39m\u001b[33mrun_manager\u001b[39m\u001b[33m\"\u001b[39m] = run_manager\n\u001b[32m--> \u001b[39m\u001b[32m428\u001b[39m \u001b[38;5;28;01mreturn\u001b[39;00m \u001b[43mfunc\u001b[49m\u001b[43m(\u001b[49m\u001b[38;5;28;43minput\u001b[39;49m\u001b[43m,\u001b[49m\u001b[43m \u001b[49m\u001b[43m*\u001b[49m\u001b[43m*\u001b[49m\u001b[43mkwargs\u001b[49m\u001b[43m)\u001b[49m\n",
      "\u001b[36mFile \u001b[39m\u001b[32mc:\\Users\\aditi_zg48xl\\Downloads\\Agentic AI\\venv\\Lib\\site-packages\\langchain_core\\output_parsers\\base.py:197\u001b[39m, in \u001b[36mBaseOutputParser.invoke.<locals>.<lambda>\u001b[39m\u001b[34m(inner_input)\u001b[39m\n\u001b[32m    188\u001b[39m \u001b[38;5;129m@override\u001b[39m\n\u001b[32m    189\u001b[39m \u001b[38;5;28;01mdef\u001b[39;00m\u001b[38;5;250m \u001b[39m\u001b[34minvoke\u001b[39m(\n\u001b[32m    190\u001b[39m     \u001b[38;5;28mself\u001b[39m,\n\u001b[32m   (...)\u001b[39m\u001b[32m    193\u001b[39m     **kwargs: Any,\n\u001b[32m    194\u001b[39m ) -> T:\n\u001b[32m    195\u001b[39m     \u001b[38;5;28;01mif\u001b[39;00m \u001b[38;5;28misinstance\u001b[39m(\u001b[38;5;28minput\u001b[39m, BaseMessage):\n\u001b[32m    196\u001b[39m         \u001b[38;5;28;01mreturn\u001b[39;00m \u001b[38;5;28mself\u001b[39m._call_with_config(\n\u001b[32m--> \u001b[39m\u001b[32m197\u001b[39m             \u001b[38;5;28;01mlambda\u001b[39;00m inner_input: \u001b[38;5;28;43mself\u001b[39;49m\u001b[43m.\u001b[49m\u001b[43mparse_result\u001b[49m\u001b[43m(\u001b[49m\n\u001b[32m    198\u001b[39m \u001b[43m                \u001b[49m\u001b[43m[\u001b[49m\u001b[43mChatGeneration\u001b[49m\u001b[43m(\u001b[49m\u001b[43mmessage\u001b[49m\u001b[43m=\u001b[49m\u001b[43minner_input\u001b[49m\u001b[43m)\u001b[49m\u001b[43m]\u001b[49m\n\u001b[32m    199\u001b[39m \u001b[43m            \u001b[49m\u001b[43m)\u001b[49m,\n\u001b[32m    200\u001b[39m             \u001b[38;5;28minput\u001b[39m,\n\u001b[32m    201\u001b[39m             config,\n\u001b[32m    202\u001b[39m             run_type=\u001b[33m\"\u001b[39m\u001b[33mparser\u001b[39m\u001b[33m\"\u001b[39m,\n\u001b[32m    203\u001b[39m         )\n\u001b[32m    204\u001b[39m     \u001b[38;5;28;01mreturn\u001b[39;00m \u001b[38;5;28mself\u001b[39m._call_with_config(\n\u001b[32m    205\u001b[39m         \u001b[38;5;28;01mlambda\u001b[39;00m inner_input: \u001b[38;5;28mself\u001b[39m.parse_result([Generation(text=inner_input)]),\n\u001b[32m    206\u001b[39m         \u001b[38;5;28minput\u001b[39m,\n\u001b[32m    207\u001b[39m         config,\n\u001b[32m    208\u001b[39m         run_type=\u001b[33m\"\u001b[39m\u001b[33mparser\u001b[39m\u001b[33m\"\u001b[39m,\n\u001b[32m    209\u001b[39m     )\n",
      "\u001b[36mFile \u001b[39m\u001b[32mc:\\Users\\aditi_zg48xl\\Downloads\\Agentic AI\\venv\\Lib\\site-packages\\langchain_core\\output_parsers\\pydantic.py:69\u001b[39m, in \u001b[36mPydanticOutputParser.parse_result\u001b[39m\u001b[34m(self, result, partial)\u001b[39m\n\u001b[32m     67\u001b[39m \u001b[38;5;28;01mtry\u001b[39;00m:\n\u001b[32m     68\u001b[39m     json_object = \u001b[38;5;28msuper\u001b[39m().parse_result(result)\n\u001b[32m---> \u001b[39m\u001b[32m69\u001b[39m     \u001b[38;5;28;01mreturn\u001b[39;00m \u001b[38;5;28;43mself\u001b[39;49m\u001b[43m.\u001b[49m\u001b[43m_parse_obj\u001b[49m\u001b[43m(\u001b[49m\u001b[43mjson_object\u001b[49m\u001b[43m)\u001b[49m\n\u001b[32m     70\u001b[39m \u001b[38;5;28;01mexcept\u001b[39;00m OutputParserException:\n\u001b[32m     71\u001b[39m     \u001b[38;5;28;01mif\u001b[39;00m partial:\n",
      "\u001b[36mFile \u001b[39m\u001b[32mc:\\Users\\aditi_zg48xl\\Downloads\\Agentic AI\\venv\\Lib\\site-packages\\langchain_core\\output_parsers\\pydantic.py:37\u001b[39m, in \u001b[36mPydanticOutputParser._parse_obj\u001b[39m\u001b[34m(self, obj)\u001b[39m\n\u001b[32m     35\u001b[39m         \u001b[38;5;28;01mraise\u001b[39;00m OutputParserException(msg)\n\u001b[32m     36\u001b[39m     \u001b[38;5;28;01mexcept\u001b[39;00m (pydantic.ValidationError, pydantic.v1.ValidationError) \u001b[38;5;28;01mas\u001b[39;00m e:\n\u001b[32m---> \u001b[39m\u001b[32m37\u001b[39m         \u001b[38;5;28;01mraise\u001b[39;00m \u001b[38;5;28mself\u001b[39m._parser_exception(e, obj) \u001b[38;5;28;01mfrom\u001b[39;00m\u001b[38;5;250m \u001b[39m\u001b[34;01me\u001b[39;00m\n\u001b[32m     38\u001b[39m \u001b[38;5;28;01melse\u001b[39;00m:  \u001b[38;5;66;03m# pydantic v1\u001b[39;00m\n\u001b[32m     39\u001b[39m     \u001b[38;5;28;01mtry\u001b[39;00m:\n",
      "\u001b[31mOutputParserException\u001b[39m: Failed to parse OutputModel from completion {\"response\": \"LLM\"}. Got: 1 validation error for OutputModel\nresponse\n  Value error, Output too short. [type=value_error, input_value='LLM', input_type=str]\n    For further information visit https://errors.pydantic.dev/2.11/v/value_error\nFor troubleshooting, visit: https://python.langchain.com/docs/troubleshooting/errors/OUTPUT_PARSING_FAILURE ",
      "During task with name 'Supervisor' and id '1069b18f-cea6-a6bd-eb0e-bebccdae0141'"
     ]
    }
   ],
   "source": [
    "workflow.compile().invoke(state)"
   ]
  },
  {
   "cell_type": "code",
   "execution_count": null,
   "id": "9962d918",
   "metadata": {},
   "outputs": [],
   "source": []
  }
 ],
 "metadata": {
  "kernelspec": {
   "display_name": "venv",
   "language": "python",
   "name": "python3"
  },
  "language_info": {
   "codemirror_mode": {
    "name": "ipython",
    "version": 3
   },
   "file_extension": ".py",
   "mimetype": "text/x-python",
   "name": "python",
   "nbconvert_exporter": "python",
   "pygments_lexer": "ipython3",
   "version": "3.13.2"
  }
 },
 "nbformat": 4,
 "nbformat_minor": 5
}
