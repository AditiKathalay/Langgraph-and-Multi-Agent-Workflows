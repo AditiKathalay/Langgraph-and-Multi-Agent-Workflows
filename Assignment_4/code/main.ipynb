{
 "cells": [
  {
   "cell_type": "markdown",
   "id": "cf59dbd2",
   "metadata": {},
   "source": [
    "Assignment:4\n",
    "1. you have to create one supervisor node.\n",
    "2. create one router function\n",
    "3. create three more node\n",
    "3.1 llm call (llm node)\n",
    "3.2 RAG (rag node)\n",
    "3.3 web crawler(fetch the info in realtime from internet)\n",
    "4. created one more node after this for validation for generated output --> explore the validation part how to do that\n",
    "5. if validation going to be failed in that case again go to supervioser node and then supervisor node will again decide what needs to be call next\n",
    "6. once the validation will pass then only generate the final output\n",
    "\n",
    "Supervisor ➝ Router ➝ (LLM / RAG / Web) ➝ ✅ Pydantic Validation ➝ Post-Validation Router ➝ (Final Output / Supervisor Retry)\n"
   ]
  },
  {
   "cell_type": "markdown",
   "id": "614b50e0",
   "metadata": {},
   "source": [
    "#### Step 1. Import Libraries"
   ]
  },
  {
   "cell_type": "code",
   "execution_count": null,
   "id": "2d30c36d",
   "metadata": {},
   "outputs": [],
   "source": [
    "import operator\n",
    "from typing import List\n",
    "from pydantic import BaseModel , Field\n",
    "from langchain.prompts import PromptTemplate\n",
    "from typing import TypedDict, Annotated, Sequence\n",
    "from langchain_core.messages import BaseMessage\n",
    "from langchain_core.output_parsers import StrOutputParser\n",
    "from langchain_core.prompts import ChatPromptTemplate, PromptTemplate\n",
    "from langchain_core.runnables import RunnablePassthrough\n",
    "from langchain_core.messages import HumanMessage, AIMessage\n",
    "from langgraph.graph import StateGraph, END"
   ]
  },
  {
   "cell_type": "markdown",
   "id": "5ec514a1",
   "metadata": {},
   "source": [
    "#### Step 2. Load env"
   ]
  },
  {
   "cell_type": "code",
   "execution_count": 2,
   "id": "c492defd",
   "metadata": {},
   "outputs": [
    {
     "data": {
      "text/plain": [
       "True"
      ]
     },
     "execution_count": 2,
     "metadata": {},
     "output_type": "execute_result"
    }
   ],
   "source": [
    "import os\n",
    "from dotenv import load_dotenv\n",
    "load_dotenv()"
   ]
  },
  {
   "cell_type": "code",
   "execution_count": 3,
   "id": "8098be82",
   "metadata": {},
   "outputs": [],
   "source": [
    "os.environ[\"OPENAI_API_KEY\"]=os.getenv(\"OPENAI_API_KEY\")"
   ]
  },
  {
   "cell_type": "markdown",
   "id": "1ec5bb5b",
   "metadata": {},
   "source": [
    "#### Step 4. Init o1-mini Model"
   ]
  },
  {
   "cell_type": "code",
   "execution_count": 4,
   "id": "5ec83342",
   "metadata": {},
   "outputs": [
    {
     "name": "stdout",
     "output_type": "stream",
     "text": [
      "content='Hello! How can I assist you today?' additional_kwargs={'refusal': None} response_metadata={'token_usage': {'completion_tokens': 212, 'prompt_tokens': 9, 'total_tokens': 221, 'completion_tokens_details': {'accepted_prediction_tokens': 0, 'audio_tokens': 0, 'reasoning_tokens': 192, 'rejected_prediction_tokens': 0}, 'prompt_tokens_details': {'audio_tokens': 0, 'cached_tokens': 0}}, 'model_name': 'o1-mini-2024-09-12', 'system_fingerprint': 'fp_3da8b0b088', 'id': 'chatcmpl-BheuX9O4uOod5109Spes342bAIHPt', 'service_tier': 'default', 'finish_reason': 'stop', 'logprobs': None} id='run--d4b859b8-1ef0-4a01-b545-d5f2940d4316-0' usage_metadata={'input_tokens': 9, 'output_tokens': 212, 'total_tokens': 221, 'input_token_details': {'audio': 0, 'cache_read': 0}, 'output_token_details': {'audio': 0, 'reasoning': 192}}\n"
     ]
    }
   ],
   "source": [
    "from langchain_openai import ChatOpenAI\n",
    "model = ChatOpenAI(model=\"o1-mini\")\n",
    "result = model.invoke(\"Hi\")\n",
    "print(result)"
   ]
  },
  {
   "cell_type": "markdown",
   "id": "c58359c8",
   "metadata": {},
   "source": [
    "#### Step 5. Embeddings"
   ]
  },
  {
   "cell_type": "code",
   "execution_count": 631,
   "id": "67408839",
   "metadata": {},
   "outputs": [
    {
     "data": {
      "text/plain": [
       "384"
      ]
     },
     "execution_count": 631,
     "metadata": {},
     "output_type": "execute_result"
    }
   ],
   "source": [
    "from langchain_huggingface import HuggingFaceEmbeddings\n",
    "embeddings = HuggingFaceEmbeddings(model_name=\"BAAI/bge-small-en\")\n",
    "len(embeddings.embed_query(\"Elo, mate\"))"
   ]
  },
  {
   "cell_type": "code",
   "execution_count": 6,
   "id": "a68f717e",
   "metadata": {},
   "outputs": [],
   "source": [
    "from langchain_community.document_loaders import TextLoader, DirectoryLoader\n",
    "from langchain_community.vectorstores import FAISS\n",
    "from langchain.text_splitter import RecursiveCharacterTextSplitter"
   ]
  },
  {
   "cell_type": "code",
   "execution_count": 7,
   "id": "c90d41ca",
   "metadata": {},
   "outputs": [],
   "source": [
    "loader = TextLoader(r\"C:\\Users\\aditi_zg48xl\\Downloads\\Agentic AI\\Assignment_4\\Data\\genetic_diseases.txt\")\n",
    "docs = loader.load()"
   ]
  },
  {
   "cell_type": "code",
   "execution_count": 8,
   "id": "8aa10b63",
   "metadata": {},
   "outputs": [
    {
     "data": {
      "text/plain": [
       "[Document(metadata={'source': 'C:\\\\Users\\\\aditi_zg48xl\\\\Downloads\\\\Agentic AI\\\\Assignment_4\\\\Data\\\\genetic_diseases.txt'}, page_content=\"Genetic diseases are medical conditions caused by anomalies in the genome, either inherited from one's parents or acquired through spontaneous mutations. These diseases can be categorized based on the type and location of the genetic defect: single-gene disorders, multifactorial disorders, chromosomal abnormalities, and mitochondrial genetic diseases.\\n\\nSingle-gene disorders, or monogenic diseases, result from mutations in a single gene. These include well-known conditions such as cystic fibrosis (CF), sickle cell anemia, Tay-Sachs disease, and Huntingtonâ€™s disease. In CF, mutations in the CFTR gene cause defective chloride ion transport, leading to thickened mucus in the lungs and digestive system. Sickle cell anemia, on the other hand, arises from a point mutation in the HBB gene, causing abnormal hemoglobin structure and leading to hemolytic anemia and painful vaso-occlusive episodes.\\n\\nMultifactorial or polygenic disorders are caused by interactions between multiple genes and environmental factors. Conditions such as diabetes mellitus, heart disease, and certain cancers fall into this category. Genome-Wide Association Studies (GWAS) have identified numerous loci associated with increased susceptibility to these diseases, although individual genetic contributions are often modest. Understanding gene-environment interactions remains a central challenge in predicting and managing these disorders.\\n\\nChromosomal disorders involve structural changes or numerical abnormalities in chromosomes. Down syndrome is the most common trisomy, caused by an extra copy of chromosome 21. Turner syndrome (monosomy X) and Klinefelter syndrome (XXY) are examples of sex chromosome abnormalities. These disorders often affect development, fertility, cognition, and physical traits. Advanced prenatal screening and karyotyping have improved early diagnosis and management.\\n\\nMitochondrial diseases result from mutations in mitochondrial DNA (mtDNA), which is inherited maternally. These disorders typically affect organs with high energy demands, such as the brain and muscles. Examples include Leberâ€™s hereditary optic neuropathy (LHON) and mitochondrial encephalomyopathy. Since mitochondria operate under dual genomic control (nuclear and mitochondrial), therapeutic targeting remains complex.\\n\\nRecent advances in molecular biology and genomic technology have transformed the landscape of genetic disease research. Next-generation sequencing (NGS) allows rapid and affordable whole-genome and exome sequencing, facilitating the discovery of disease-causing mutations in rare and previously undiagnosed conditions. Precision medicine, which tailors treatment based on an individual's genetic profile, is increasingly used in oncology and rare disease treatment.\\n\\nGene therapy has emerged as a promising strategy to treat genetic diseases at the molecular level. Approved therapies like Luxturna for retinal dystrophy and Zolgensma for spinal muscular atrophy demonstrate the potential of adeno-associated virus (AAV)-based delivery systems. Additionally, CRISPR-Cas9 genome editing offers the potential to correct mutations in vivo. However, concerns about off-target effects, immune responses, and germline editing have sparked ethical debates in the scientific community.\\n\\nGenetic counseling plays a crucial role in helping patients and families understand the implications of genetic testing. It enables informed decision-making and helps assess the risk of recurrence in future generations. The integration of clinical genetics into general medicine has made it possible to provide targeted interventions, prevent disease progression, and personalize patient care.\\n\\nAs we move forward, the biggest challenges in tackling genetic diseases include equitable access to genetic technologies, regulation of gene editing, interpretation of variants of unknown significance (VUS), and protection of genomic privacy. Nevertheless, the potential to alleviate suffering and improve human health through genetics is unprecedented, and continued interdisciplinary research will be essential to unlock it fully.\\n\")]"
      ]
     },
     "execution_count": 8,
     "metadata": {},
     "output_type": "execute_result"
    }
   ],
   "source": [
    "docs "
   ]
  },
  {
   "cell_type": "code",
   "execution_count": 9,
   "id": "45fa345c",
   "metadata": {},
   "outputs": [],
   "source": [
    "text_splitter = RecursiveCharacterTextSplitter(\n",
    "    chunk_size = 200,\n",
    "    chunk_overlap = 50\n",
    ")"
   ]
  },
  {
   "cell_type": "code",
   "execution_count": 10,
   "id": "66d7da67",
   "metadata": {},
   "outputs": [
    {
     "data": {
      "text/plain": [
       "[Document(metadata={'source': 'C:\\\\Users\\\\aditi_zg48xl\\\\Downloads\\\\Agentic AI\\\\Assignment_4\\\\Data\\\\genetic_diseases.txt'}, page_content=\"Genetic diseases are medical conditions caused by anomalies in the genome, either inherited from one's parents or acquired through spontaneous mutations. These diseases can be categorized based on the\"),\n",
       " Document(metadata={'source': 'C:\\\\Users\\\\aditi_zg48xl\\\\Downloads\\\\Agentic AI\\\\Assignment_4\\\\Data\\\\genetic_diseases.txt'}, page_content='These diseases can be categorized based on the type and location of the genetic defect: single-gene disorders, multifactorial disorders, chromosomal abnormalities, and mitochondrial genetic diseases.'),\n",
       " Document(metadata={'source': 'C:\\\\Users\\\\aditi_zg48xl\\\\Downloads\\\\Agentic AI\\\\Assignment_4\\\\Data\\\\genetic_diseases.txt'}, page_content='Single-gene disorders, or monogenic diseases, result from mutations in a single gene. These include well-known conditions such as cystic fibrosis (CF), sickle cell anemia, Tay-Sachs disease, and'),\n",
       " Document(metadata={'source': 'C:\\\\Users\\\\aditi_zg48xl\\\\Downloads\\\\Agentic AI\\\\Assignment_4\\\\Data\\\\genetic_diseases.txt'}, page_content='(CF), sickle cell anemia, Tay-Sachs disease, and Huntingtonâ€™s disease. In CF, mutations in the CFTR gene cause defective chloride ion transport, leading to thickened mucus in the lungs and'),\n",
       " Document(metadata={'source': 'C:\\\\Users\\\\aditi_zg48xl\\\\Downloads\\\\Agentic AI\\\\Assignment_4\\\\Data\\\\genetic_diseases.txt'}, page_content='leading to thickened mucus in the lungs and digestive system. Sickle cell anemia, on the other hand, arises from a point mutation in the HBB gene, causing abnormal hemoglobin structure and leading to'),\n",
       " Document(metadata={'source': 'C:\\\\Users\\\\aditi_zg48xl\\\\Downloads\\\\Agentic AI\\\\Assignment_4\\\\Data\\\\genetic_diseases.txt'}, page_content='abnormal hemoglobin structure and leading to hemolytic anemia and painful vaso-occlusive episodes.'),\n",
       " Document(metadata={'source': 'C:\\\\Users\\\\aditi_zg48xl\\\\Downloads\\\\Agentic AI\\\\Assignment_4\\\\Data\\\\genetic_diseases.txt'}, page_content='Multifactorial or polygenic disorders are caused by interactions between multiple genes and environmental factors. Conditions such as diabetes mellitus, heart disease, and certain cancers fall into'),\n",
       " Document(metadata={'source': 'C:\\\\Users\\\\aditi_zg48xl\\\\Downloads\\\\Agentic AI\\\\Assignment_4\\\\Data\\\\genetic_diseases.txt'}, page_content='heart disease, and certain cancers fall into this category. Genome-Wide Association Studies (GWAS) have identified numerous loci associated with increased susceptibility to these diseases, although'),\n",
       " Document(metadata={'source': 'C:\\\\Users\\\\aditi_zg48xl\\\\Downloads\\\\Agentic AI\\\\Assignment_4\\\\Data\\\\genetic_diseases.txt'}, page_content='susceptibility to these diseases, although individual genetic contributions are often modest. Understanding gene-environment interactions remains a central challenge in predicting and managing these'),\n",
       " Document(metadata={'source': 'C:\\\\Users\\\\aditi_zg48xl\\\\Downloads\\\\Agentic AI\\\\Assignment_4\\\\Data\\\\genetic_diseases.txt'}, page_content='challenge in predicting and managing these disorders.'),\n",
       " Document(metadata={'source': 'C:\\\\Users\\\\aditi_zg48xl\\\\Downloads\\\\Agentic AI\\\\Assignment_4\\\\Data\\\\genetic_diseases.txt'}, page_content='Chromosomal disorders involve structural changes or numerical abnormalities in chromosomes. Down syndrome is the most common trisomy, caused by an extra copy of chromosome 21. Turner syndrome'),\n",
       " Document(metadata={'source': 'C:\\\\Users\\\\aditi_zg48xl\\\\Downloads\\\\Agentic AI\\\\Assignment_4\\\\Data\\\\genetic_diseases.txt'}, page_content='an extra copy of chromosome 21. Turner syndrome (monosomy X) and Klinefelter syndrome (XXY) are examples of sex chromosome abnormalities. These disorders often affect development, fertility,'),\n",
       " Document(metadata={'source': 'C:\\\\Users\\\\aditi_zg48xl\\\\Downloads\\\\Agentic AI\\\\Assignment_4\\\\Data\\\\genetic_diseases.txt'}, page_content='disorders often affect development, fertility, cognition, and physical traits. Advanced prenatal screening and karyotyping have improved early diagnosis and management.'),\n",
       " Document(metadata={'source': 'C:\\\\Users\\\\aditi_zg48xl\\\\Downloads\\\\Agentic AI\\\\Assignment_4\\\\Data\\\\genetic_diseases.txt'}, page_content='Mitochondrial diseases result from mutations in mitochondrial DNA (mtDNA), which is inherited maternally. These disorders typically affect organs with high energy demands, such as the brain and'),\n",
       " Document(metadata={'source': 'C:\\\\Users\\\\aditi_zg48xl\\\\Downloads\\\\Agentic AI\\\\Assignment_4\\\\Data\\\\genetic_diseases.txt'}, page_content='with high energy demands, such as the brain and muscles. Examples include Leberâ€™s hereditary optic neuropathy (LHON) and mitochondrial encephalomyopathy. Since mitochondria operate under dual'),\n",
       " Document(metadata={'source': 'C:\\\\Users\\\\aditi_zg48xl\\\\Downloads\\\\Agentic AI\\\\Assignment_4\\\\Data\\\\genetic_diseases.txt'}, page_content='Since mitochondria operate under dual genomic control (nuclear and mitochondrial), therapeutic targeting remains complex.'),\n",
       " Document(metadata={'source': 'C:\\\\Users\\\\aditi_zg48xl\\\\Downloads\\\\Agentic AI\\\\Assignment_4\\\\Data\\\\genetic_diseases.txt'}, page_content='Recent advances in molecular biology and genomic technology have transformed the landscape of genetic disease research. Next-generation sequencing (NGS) allows rapid and affordable whole-genome and'),\n",
       " Document(metadata={'source': 'C:\\\\Users\\\\aditi_zg48xl\\\\Downloads\\\\Agentic AI\\\\Assignment_4\\\\Data\\\\genetic_diseases.txt'}, page_content='allows rapid and affordable whole-genome and exome sequencing, facilitating the discovery of disease-causing mutations in rare and previously undiagnosed conditions. Precision medicine, which tailors'),\n",
       " Document(metadata={'source': 'C:\\\\Users\\\\aditi_zg48xl\\\\Downloads\\\\Agentic AI\\\\Assignment_4\\\\Data\\\\genetic_diseases.txt'}, page_content=\"conditions. Precision medicine, which tailors treatment based on an individual's genetic profile, is increasingly used in oncology and rare disease treatment.\"),\n",
       " Document(metadata={'source': 'C:\\\\Users\\\\aditi_zg48xl\\\\Downloads\\\\Agentic AI\\\\Assignment_4\\\\Data\\\\genetic_diseases.txt'}, page_content='Gene therapy has emerged as a promising strategy to treat genetic diseases at the molecular level. Approved therapies like Luxturna for retinal dystrophy and Zolgensma for spinal muscular atrophy'),\n",
       " Document(metadata={'source': 'C:\\\\Users\\\\aditi_zg48xl\\\\Downloads\\\\Agentic AI\\\\Assignment_4\\\\Data\\\\genetic_diseases.txt'}, page_content='and Zolgensma for spinal muscular atrophy demonstrate the potential of adeno-associated virus (AAV)-based delivery systems. Additionally, CRISPR-Cas9 genome editing offers the potential to correct'),\n",
       " Document(metadata={'source': 'C:\\\\Users\\\\aditi_zg48xl\\\\Downloads\\\\Agentic AI\\\\Assignment_4\\\\Data\\\\genetic_diseases.txt'}, page_content='genome editing offers the potential to correct mutations in vivo. However, concerns about off-target effects, immune responses, and germline editing have sparked ethical debates in the scientific'),\n",
       " Document(metadata={'source': 'C:\\\\Users\\\\aditi_zg48xl\\\\Downloads\\\\Agentic AI\\\\Assignment_4\\\\Data\\\\genetic_diseases.txt'}, page_content='have sparked ethical debates in the scientific community.'),\n",
       " Document(metadata={'source': 'C:\\\\Users\\\\aditi_zg48xl\\\\Downloads\\\\Agentic AI\\\\Assignment_4\\\\Data\\\\genetic_diseases.txt'}, page_content='Genetic counseling plays a crucial role in helping patients and families understand the implications of genetic testing. It enables informed decision-making and helps assess the risk of recurrence in'),\n",
       " Document(metadata={'source': 'C:\\\\Users\\\\aditi_zg48xl\\\\Downloads\\\\Agentic AI\\\\Assignment_4\\\\Data\\\\genetic_diseases.txt'}, page_content='and helps assess the risk of recurrence in future generations. The integration of clinical genetics into general medicine has made it possible to provide targeted interventions, prevent disease'),\n",
       " Document(metadata={'source': 'C:\\\\Users\\\\aditi_zg48xl\\\\Downloads\\\\Agentic AI\\\\Assignment_4\\\\Data\\\\genetic_diseases.txt'}, page_content='provide targeted interventions, prevent disease progression, and personalize patient care.'),\n",
       " Document(metadata={'source': 'C:\\\\Users\\\\aditi_zg48xl\\\\Downloads\\\\Agentic AI\\\\Assignment_4\\\\Data\\\\genetic_diseases.txt'}, page_content='As we move forward, the biggest challenges in tackling genetic diseases include equitable access to genetic technologies, regulation of gene editing, interpretation of variants of unknown'),\n",
       " Document(metadata={'source': 'C:\\\\Users\\\\aditi_zg48xl\\\\Downloads\\\\Agentic AI\\\\Assignment_4\\\\Data\\\\genetic_diseases.txt'}, page_content='editing, interpretation of variants of unknown significance (VUS), and protection of genomic privacy. Nevertheless, the potential to alleviate suffering and improve human health through genetics is'),\n",
       " Document(metadata={'source': 'C:\\\\Users\\\\aditi_zg48xl\\\\Downloads\\\\Agentic AI\\\\Assignment_4\\\\Data\\\\genetic_diseases.txt'}, page_content='and improve human health through genetics is unprecedented, and continued interdisciplinary research will be essential to unlock it fully.')]"
      ]
     },
     "execution_count": 10,
     "metadata": {},
     "output_type": "execute_result"
    }
   ],
   "source": [
    "new_docs = text_splitter.split_documents(documents = docs)\n",
    "new_docs"
   ]
  },
  {
   "cell_type": "markdown",
   "id": "025ac3db",
   "metadata": {},
   "source": [
    "#### Step 6: Create Vector Database"
   ]
  },
  {
   "cell_type": "code",
   "execution_count": 11,
   "id": "1f79561f",
   "metadata": {},
   "outputs": [],
   "source": [
    "vector_db = FAISS.from_documents(new_docs, embeddings)"
   ]
  },
  {
   "cell_type": "code",
   "execution_count": 12,
   "id": "c7c53533",
   "metadata": {},
   "outputs": [],
   "source": [
    "retriever = vector_db.as_retriever(search_kwargs={\"k\" : 5})"
   ]
  },
  {
   "cell_type": "code",
   "execution_count": 13,
   "id": "8b09c6ae",
   "metadata": {},
   "outputs": [
    {
     "data": {
      "text/plain": [
       "[Document(id='b75e7148-5eec-408d-99ac-c43d014c7ec2', metadata={'source': 'C:\\\\Users\\\\aditi_zg48xl\\\\Downloads\\\\Agentic AI\\\\Assignment_4\\\\Data\\\\genetic_diseases.txt'}, page_content='Single-gene disorders, or monogenic diseases, result from mutations in a single gene. These include well-known conditions such as cystic fibrosis (CF), sickle cell anemia, Tay-Sachs disease, and'),\n",
       " Document(id='cd81d90e-1b60-40df-8fdc-6084287dd584', metadata={'source': 'C:\\\\Users\\\\aditi_zg48xl\\\\Downloads\\\\Agentic AI\\\\Assignment_4\\\\Data\\\\genetic_diseases.txt'}, page_content='challenge in predicting and managing these disorders.'),\n",
       " Document(id='0a80d25b-428f-4155-9d70-14ed0624d33a', metadata={'source': 'C:\\\\Users\\\\aditi_zg48xl\\\\Downloads\\\\Agentic AI\\\\Assignment_4\\\\Data\\\\genetic_diseases.txt'}, page_content=\"Genetic diseases are medical conditions caused by anomalies in the genome, either inherited from one's parents or acquired through spontaneous mutations. These diseases can be categorized based on the\"),\n",
       " Document(id='4db02a5e-4f04-4c74-bf16-f26e10df6671', metadata={'source': 'C:\\\\Users\\\\aditi_zg48xl\\\\Downloads\\\\Agentic AI\\\\Assignment_4\\\\Data\\\\genetic_diseases.txt'}, page_content='These diseases can be categorized based on the type and location of the genetic defect: single-gene disorders, multifactorial disorders, chromosomal abnormalities, and mitochondrial genetic diseases.'),\n",
       " Document(id='910bb4d9-0154-40ad-999b-591ebe0c7141', metadata={'source': 'C:\\\\Users\\\\aditi_zg48xl\\\\Downloads\\\\Agentic AI\\\\Assignment_4\\\\Data\\\\genetic_diseases.txt'}, page_content='Multifactorial or polygenic disorders are caused by interactions between multiple genes and environmental factors. Conditions such as diabetes mellitus, heart disease, and certain cancers fall into')]"
      ]
     },
     "execution_count": 13,
     "metadata": {},
     "output_type": "execute_result"
    }
   ],
   "source": [
    "retriever.invoke(\"What are simple-gene disorders\")"
   ]
  },
  {
   "cell_type": "code",
   "execution_count": 661,
   "id": "a53e3d6d",
   "metadata": {},
   "outputs": [],
   "source": [
    "from pydantic import BaseModel, Field\n",
    "\n",
    "class RoutingOutput(BaseModel):\n",
    "    Topic: str = Field(description=\"Must be one of 'RAG Call', 'LLM Call', or 'Web Crawler'\")"
   ]
  },
  {
   "cell_type": "code",
   "execution_count": 662,
   "id": "8a8e8d1b",
   "metadata": {},
   "outputs": [],
   "source": [
    "from langchain.output_parsers import PydanticOutputParser"
   ]
  },
  {
   "cell_type": "code",
   "execution_count": 663,
   "id": "573ea42a",
   "metadata": {},
   "outputs": [],
   "source": [
    "parser = PydanticOutputParser(pydantic_object=RoutingOutput)"
   ]
  },
  {
   "cell_type": "code",
   "execution_count": 664,
   "id": "b47b038f",
   "metadata": {},
   "outputs": [
    {
     "data": {
      "text/plain": [
       "<bound method PydanticOutputParser.get_format_instructions of PydanticOutputParser(pydantic_object=<class '__main__.RoutingOutput'>)>"
      ]
     },
     "execution_count": 664,
     "metadata": {},
     "output_type": "execute_result"
    }
   ],
   "source": [
    "parser.get_format_instructions"
   ]
  },
  {
   "cell_type": "markdown",
   "id": "dcaa9518",
   "metadata": {},
   "source": [
    "#### Step 7 Define AgentState"
   ]
  },
  {
   "cell_type": "code",
   "execution_count": 665,
   "id": "55ecb1ab",
   "metadata": {},
   "outputs": [],
   "source": [
    "class AgentState(TypedDict):\n",
    "    message: Annotated[Sequence[BaseModel],operator.add]"
   ]
  },
  {
   "cell_type": "code",
   "execution_count": 666,
   "id": "4126fe4f",
   "metadata": {},
   "outputs": [],
   "source": [
    "AgentState = {}"
   ]
  },
  {
   "cell_type": "code",
   "execution_count": 667,
   "id": "83820e1b",
   "metadata": {},
   "outputs": [
    {
     "data": {
      "text/plain": [
       "{'messages': []}"
      ]
     },
     "execution_count": 667,
     "metadata": {},
     "output_type": "execute_result"
    }
   ],
   "source": [
    "AgentState[\"messages\"]=[]\n",
    "AgentState"
   ]
  },
  {
   "cell_type": "code",
   "execution_count": 668,
   "id": "dff32398",
   "metadata": {},
   "outputs": [],
   "source": [
    "AgentState[\"messages\"].append(\"Hi, how are you?\")"
   ]
  },
  {
   "cell_type": "code",
   "execution_count": 669,
   "id": "e4ceb8d6",
   "metadata": {},
   "outputs": [],
   "source": [
    "AgentState[\"messages\"].append(\"Supp\")"
   ]
  },
  {
   "cell_type": "code",
   "execution_count": 670,
   "id": "98cae2f2",
   "metadata": {},
   "outputs": [],
   "source": [
    "AgentState[\"messages\"].append(\"Reply to me\")"
   ]
  },
  {
   "cell_type": "code",
   "execution_count": 671,
   "id": "eb772bc5",
   "metadata": {},
   "outputs": [],
   "source": [
    "class AgentState(TypedDict):\n",
    "    messages: Annotated[Sequence[BaseMessage], operator.add]"
   ]
  },
  {
   "cell_type": "markdown",
   "id": "a8267d0e",
   "metadata": {},
   "source": [
    "#### Step 8 Pydantic"
   ]
  },
  {
   "cell_type": "code",
   "execution_count": 672,
   "id": "40084352",
   "metadata": {},
   "outputs": [],
   "source": [
    "class TopicSelectionParser(BaseModel):\n",
    "    Topic:str=Field(description=\"selected topic\")\n",
    "    Reasoning:str=Field(description='Reasoning behind topic selection')\n"
   ]
  },
  {
   "cell_type": "code",
   "execution_count": 673,
   "id": "fcfed68f",
   "metadata": {},
   "outputs": [
    {
     "data": {
      "text/plain": [
       "'The output should be formatted as a JSON instance that conforms to the JSON schema below.\\n\\nAs an example, for the schema {\"properties\": {\"foo\": {\"title\": \"Foo\", \"description\": \"a list of strings\", \"type\": \"array\", \"items\": {\"type\": \"string\"}}}, \"required\": [\"foo\"]}\\nthe object {\"foo\": [\"bar\", \"baz\"]} is a well-formatted instance of the schema. The object {\"properties\": {\"foo\": [\"bar\", \"baz\"]}} is not well-formatted.\\n\\nHere is the output schema:\\n```\\n{\"properties\": {\"Topic\": {\"description\": \"selected topic\", \"title\": \"Topic\", \"type\": \"string\"}, \"Reasoning\": {\"description\": \"Reasoning behind topic selection\", \"title\": \"Reasoning\", \"type\": \"string\"}}, \"required\": [\"Topic\", \"Reasoning\"]}\\n```'"
      ]
     },
     "execution_count": 673,
     "metadata": {},
     "output_type": "execute_result"
    }
   ],
   "source": [
    "parser=PydanticOutputParser(pydantic_object=TopicSelectionParser)\n",
    "parser.get_format_instructions()"
   ]
  },
  {
   "cell_type": "markdown",
   "id": "e3c2f872",
   "metadata": {},
   "source": [
    "#### Step 9 Define Supervisor that tells which call is required"
   ]
  },
  {
   "cell_type": "code",
   "execution_count": 674,
   "id": "b90acbdc",
   "metadata": {},
   "outputs": [],
   "source": [
    "def function_1(state: AgentState):\n",
    "    question = state[\"messages\"][-1]\n",
    "    print(\"Question:\", question)\n",
    "\n",
    "    template = \"\"\"\n",
    "    Your job is to identify and classify the user question into one of the following categories:\n",
    "    1. RAG Call — if the question is related to genetic diseases.\n",
    "    2. Web Crawler — if the question is about something that requires current or real-time information (news, today)\n",
    "    3. LLM Call — if the question is general, like programming questions\n",
    "\n",
    "    Respond with only one of the following labels: \"RAG Call\", \"Web Crawler\", or \"LLM Call\".\n",
    "\n",
    "    User query: {question}\n",
    "    {format_instructions}\n",
    "    \"\"\"\n",
    "\n",
    "    prompt = PromptTemplate(\n",
    "        template=template,\n",
    "        input_variables=[\"question\"],\n",
    "        partial_variables={\"format_instructions\": parser.get_format_instructions()}\n",
    "    )\n",
    "\n",
    "    chain = prompt | model | parser\n",
    "    response = chain.invoke({\"question\": question})\n",
    "\n",
    "    print(\"Parsed response:\", response)\n",
    "    \n",
    "    return {\"messages\": [response.Topic]}\n",
    "\n",
    "    # raw_label = response.Topic.strip()\n",
    "    # print(\"Raw route:\", raw_label)\n",
    "\n",
    "    # label_map = {\n",
    "    #     \"LLM\": \"LLM Call\",\n",
    "    #     \"WEB CRAWLER\": \"Web Crawler\",\n",
    "    #     \"RAG\": \"RAG Call\"\n",
    "    # }\n",
    "\n",
    "    # route = label_map.get(raw_label.upper(), raw_label)\n",
    "    # print(\"Final route:\", route)\n",
    "\n",
    "    # # ✅ MERGE with incoming state\n",
    "    # return {**state, \"route\": route}\n"
   ]
  },
  {
   "cell_type": "markdown",
   "id": "b171624d",
   "metadata": {},
   "source": [
    "#### Step 10 Define router to route to that code"
   ]
  },
  {
   "cell_type": "code",
   "execution_count": 675,
   "id": "45e1d14f",
   "metadata": {},
   "outputs": [],
   "source": [
    "def router(state:AgentState):\n",
    "    print(\"-> ROUTER ->\")\n",
    "    \n",
    "    last_message=state[\"messages\"][-1]\n",
    "    print(\"last_message:\", last_message)\n",
    "    \n",
    "    if \"genetic diseases\" in last_message.lower():\n",
    "        return \"RAG Call\"\n",
    "    \n",
    "    elif any(keyword in last_message.lower() for keyword in [\"web_crawl\", \"today\", \"news\"]):\n",
    "        return \"Web Crawler\"\n",
    "    \n",
    "    else:       \n",
    "        return \"LLM Call\""
   ]
  },
  {
   "cell_type": "code",
   "execution_count": 676,
   "id": "7c79c478",
   "metadata": {},
   "outputs": [],
   "source": [
    "def format_docs(docs):\n",
    "    return \"\\n\\n\".join(doc.page_content for doc in docs)"
   ]
  },
  {
   "cell_type": "markdown",
   "id": "8662ec66",
   "metadata": {},
   "source": [
    "#### Step 11 RAG Call"
   ]
  },
  {
   "cell_type": "code",
   "execution_count": 677,
   "id": "2f870670",
   "metadata": {},
   "outputs": [],
   "source": [
    "# RAG Function\n",
    "def function_2(state:AgentState):\n",
    "    print(\"-> RAG Call ->\")\n",
    "    \n",
    "    question = state[\"messages\"][0]\n",
    "    \n",
    "    prompt=PromptTemplate(\n",
    "        template=\"\"\"You are an assistant for question-answering tasks. Use the following pieces of retrieved context to answer the question. If you don't know the answer, just say that you don't know. Use three sentences maximum and keep the answer concise.\\nQuestion: {question} \\nContext: {context} \\nAnswer:\"\"\",\n",
    "        \n",
    "        input_variables=['context', 'question']\n",
    "    )\n",
    "    \n",
    "    rag_chain = (\n",
    "        {\"context\": retriever | format_docs, \"question\": RunnablePassthrough()}\n",
    "        | prompt\n",
    "        | model\n",
    "        | StrOutputParser()\n",
    "    )\n",
    "    result = rag_chain.invoke(question)\n",
    "    return  {\"messages\": [result]}"
   ]
  },
  {
   "cell_type": "markdown",
   "id": "0b39b467",
   "metadata": {},
   "source": [
    "#### Step 12 LLM Call"
   ]
  },
  {
   "cell_type": "code",
   "execution_count": null,
   "id": "23408609",
   "metadata": {},
   "outputs": [],
   "source": [
    "def function_3(state:AgentState):\n",
    "    print(\"->->LLM Call->->\")\n",
    "\n",
    "    question = state[\"messages\"][0]\n",
    "\n",
    "    # Normal LLM call\n",
    "    complete_query = \"Answer the follow question with you knowledge of the real world. Following is the user question: \" + question\n",
    "    response = model.invoke(complete_query)\n",
    "    return {\"messages\": [response.content]}"
   ]
  },
  {
   "cell_type": "markdown",
   "id": "64551978",
   "metadata": {},
   "source": [
    "#### Step 13 Duck Duck Go Search Web Crawling"
   ]
  },
  {
   "cell_type": "code",
   "execution_count": 679,
   "id": "f1ebe19b",
   "metadata": {},
   "outputs": [],
   "source": [
    "from langchain_community.tools import DuckDuckGoSearchRun"
   ]
  },
  {
   "cell_type": "code",
   "execution_count": 680,
   "id": "b0da12b0",
   "metadata": {},
   "outputs": [],
   "source": [
    "search = DuckDuckGoSearchRun()"
   ]
  },
  {
   "cell_type": "code",
   "execution_count": 681,
   "id": "9f11f4cc",
   "metadata": {},
   "outputs": [],
   "source": [
    "\n",
    "def function_4(state: AgentState):\n",
    "    print(\"-> Web Crawler ->\")\n",
    "    question = state[\"messages\"][0]\n",
    "\n",
    "    answer = search.run(question)\n",
    "\n",
    "    return {\"messages\": [answer]}"
   ]
  },
  {
   "cell_type": "markdown",
   "id": "f80c5418",
   "metadata": {},
   "source": [
    "#### Step 14 Validation"
   ]
  },
  {
   "cell_type": "code",
   "execution_count": 682,
   "id": "8ac93fc8",
   "metadata": {},
   "outputs": [],
   "source": [
    "def function_5(state: AgentState):\n",
    "    print(\"-> VALIDATION ->\")\n",
    "    last_response = state[\"messages\"][-1]\n",
    "\n",
    "    if \"don't know\" in last_response.lower() or \"error\" in last_response.lower():\n",
    "        validated = False\n",
    "    else:\n",
    "        validated = True\n",
    "\n",
    "    print(\"Validation result:\", validated)\n",
    "    state[\"validated\"] = validated\n",
    "    return state"
   ]
  },
  {
   "cell_type": "code",
   "execution_count": 695,
   "id": "0694824f",
   "metadata": {},
   "outputs": [],
   "source": [
    "workflow=StateGraph(AgentState)"
   ]
  },
  {
   "cell_type": "markdown",
   "id": "e6560c06",
   "metadata": {},
   "source": [
    "#### Step 15 Add Nodes"
   ]
  },
  {
   "cell_type": "code",
   "execution_count": 696,
   "id": "27fb1ab1",
   "metadata": {},
   "outputs": [
    {
     "data": {
      "text/plain": [
       "<langgraph.graph.state.StateGraph at 0x1194e6eda90>"
      ]
     },
     "execution_count": 696,
     "metadata": {},
     "output_type": "execute_result"
    }
   ],
   "source": [
    "workflow.add_node(\"Supervisor\",function_1)\n",
    "workflow.add_node(\"RAG Call\",function_2)\n",
    "workflow.add_node(\"LLM Call\",function_3)\n",
    "workflow.add_node(\"Web Crawler\",function_4)\n",
    "workflow.add_node(\"Validate\", function_5)"
   ]
  },
  {
   "cell_type": "code",
   "execution_count": 697,
   "id": "675bf9ae",
   "metadata": {},
   "outputs": [
    {
     "data": {
      "text/plain": [
       "<langgraph.graph.state.StateGraph at 0x1194e6eda90>"
      ]
     },
     "execution_count": 697,
     "metadata": {},
     "output_type": "execute_result"
    }
   ],
   "source": [
    "workflow.set_entry_point(\"Supervisor\")"
   ]
  },
  {
   "cell_type": "markdown",
   "id": "9a6843ff",
   "metadata": {},
   "source": [
    "#### Step 16 Add Edges"
   ]
  },
  {
   "cell_type": "code",
   "execution_count": 698,
   "id": "f70bb7a9",
   "metadata": {},
   "outputs": [
    {
     "data": {
      "text/plain": [
       "<langgraph.graph.state.StateGraph at 0x1194e6eda90>"
      ]
     },
     "execution_count": 698,
     "metadata": {},
     "output_type": "execute_result"
    }
   ],
   "source": [
    "workflow.add_edge(\"RAG Call\", \"Validate\")\n",
    "workflow.add_edge(\"LLM Call\", \"Validate\")\n",
    "workflow.add_edge(\"Web Crawler\", \"Validate\")"
   ]
  },
  {
   "cell_type": "code",
   "execution_count": 699,
   "id": "191e737a",
   "metadata": {},
   "outputs": [
    {
     "data": {
      "text/plain": [
       "<langgraph.graph.state.StateGraph at 0x1194e6eda90>"
      ]
     },
     "execution_count": 699,
     "metadata": {},
     "output_type": "execute_result"
    }
   ],
   "source": [
    "workflow.add_conditional_edges(\n",
    "    \"Supervisor\",\n",
    "    router,\n",
    "    {\n",
    "        \"RAG Call\": \"RAG Call\",\n",
    "        \"LLM Call\": \"LLM Call\",\n",
    "        \"Web Crawler\": \"Web Crawler\"\n",
    "    }\n",
    ")\n",
    "\n",
    "workflow.add_conditional_edges(\n",
    "    \"Validate\",\n",
    "    lambda state: \"Supervisor\" if not state[\"validated\"] else END\n",
    ")"
   ]
  },
  {
   "cell_type": "code",
   "execution_count": 700,
   "id": "da856e26",
   "metadata": {},
   "outputs": [],
   "source": [
    "app=workflow.compile()"
   ]
  },
  {
   "cell_type": "code",
   "execution_count": 701,
   "id": "2c78af09",
   "metadata": {},
   "outputs": [
    {
     "data": {
      "image/png": "[encoded data removed]",
      "text/plain": [
       "<IPython.core.display.Image object>"
      ]
     },
     "metadata": {},
     "output_type": "display_data"
    }
   ],
   "source": [
    "from IPython.display import Image,display\n",
    "display(Image(app.get_graph().draw_mermaid_png()))"
   ]
  },
  {
   "cell_type": "code",
   "execution_count": 713,
   "id": "e65c385b",
   "metadata": {},
   "outputs": [],
   "source": [
    "state1={\"messages\":[\"Tell me about Vietnam\",], \n",
    "        \"validated\": False\n",
    "        }"
   ]
  },
  {
   "cell_type": "code",
   "execution_count": 716,
   "id": "a3a50fbd",
   "metadata": {},
   "outputs": [
    {
     "name": "stdout",
     "output_type": "stream",
     "text": [
      "Question: Tell me about Vietnam\n",
      "Parsed response: Topic='LLM Call' Reasoning='The user is requesting general information about Vietnam, which is a general knowledge question suitable for an LLM. It does not pertain to genetic diseases or require real-time information.'\n",
      "-> ROUTER ->\n",
      "last_message: LLM Call\n",
      "->->LLM Call->->\n",
      "-> VALIDATION ->\n",
      "Validation result: True\n"
     ]
    },
    {
     "data": {
      "text/plain": [
       "'Vietnam is a vibrant Southeast Asian country known for its rich history, diverse culture, stunning landscapes, and dynamic economic growth. Here\\'s an overview of various aspects of Vietnam:\\n\\n### **Geography**\\n- **Location:** Vietnam is located on the eastern edge of the Indochinese Peninsula in Southeast Asia. It shares borders with China to the north, Laos and Cambodia to the west, and the South China Sea (also known as the East Sea) to the east and south.\\n- **Size:** The country spans approximately 331,212 square kilometers (127,880 square miles), making it slightly larger than Germany.\\n- **Topography:** Vietnam features diverse landscapes, including the mountainous regions of the north (such as the Hoàng Liên Son range and Fansipan, the highest peak in Indochina), the fertile deltas of the Red River and Mekong River in the north and south respectively, extensive coastlines, and bustling urban centers.\\n\\n### **History**\\n- **Ancient to Colonial Period:** Vietnam has a long history influenced by Chinese rule, lasting over a millennium until the 10th century. It later experienced periods of independence, internal conflicts, and French colonization in the 19th and early 20th centuries.\\n- **20th Century:** The country was divided into North Vietnam and South Vietnam after World War II, leading to the Vietnam War (1955-1975), a significant conflict involving major global powers. The war ended with the reunification of the country under communist leadership.\\n- **Recent History:** Post-war Vietnam focused on rebuilding and initiated economic reforms known as \"Đổi Mới\" in 1986, transitioning from a centrally planned economy to a socialist-oriented market economy. This shift has spurred significant economic growth and development.\\n\\n### **Government and Politics**\\n- **Political System:** Vietnam is a single-party socialist republic governed by the Communist Party of Vietnam (CPV). The President serves as the head of state, while the Prime Minister is the head of government.\\n- **Administrative Divisions:** The country is divided into 58 provinces and 5 centrally-controlled municipalities, including Hanoi (the capital) and Ho Chi Minh City (the largest city).\\n\\n### **Economy**\\n- **Growth:** Vietnam has experienced robust economic growth over the past few decades, becoming one of the fastest-growing economies in the world. Its GDP growth rate has consistently been above 6% annually, although it faced challenges due to the global COVID-19 pandemic.\\n- **Key Sectors:** Major industries include manufacturing (especially electronics, textiles, and footwear), agriculture (rice, coffee, seafood), information technology, and services.\\n- **Trade:** Vietnam is a significant exporter of goods and has numerous free trade agreements, including those with the European Union (EVFTA), the Comprehensive and Progressive Agreement for Trans-Pacific Partnership (CPTPP), and the United States (after the US-Vietnam Bilateral Trade Agreement took effect in 2001).\\n\\n### **Demographics**\\n- **Population:** As of 2023, Vietnam has a population of approximately 100 million people, making it the 15th most populous country in the world.\\n- **Ethnic Groups:** The majority of the population (around 85%) are ethnic Kinh (Viet), with 53 recognized ethnic minority groups making up the remaining 15%.\\n- **Languages:** Vietnamese is the official language, utilizing a Latin-based script called Quốc Ngữ. Numerous ethnic minorities speak their own languages and dialects.\\n- **Religion:** Vietnam is religiously diverse, with Buddhism being the largest religion, followed by Christianity (mainly Catholicism), and various indigenous beliefs. The government officially recognizes five religions: Buddhism, Catholicism, Protestantism, Islam, and Caodaism.\\n\\n### **Culture**\\n- **Traditions:** Vietnamese culture is a blend of indigenous traditions and influences from China and France. Key cultural elements include Confucianism, Taoism, and Buddhism, collectively known as the \"Triple Religion.\"\\n- **Festivals:** Major festivals include Tết Nguyên Đán (Lunar New Year), Mid-Autumn Festival, and various local religious and cultural celebrations.\\n- **Cuisine:** Vietnamese cuisine is renowned for its balance of flavors—sweet, sour, salty, bitter, and umami. Popular dishes include phở (noodle soup), bánh mì (baguette sandwich), gỏi cuốn (fresh spring rolls), and bún chả (grilled pork with noodles). The cuisine emphasizes fresh herbs, rice, and seafood.\\n- **Arts:** Traditional arts encompass various forms of literature, music, dance, and theater, such as water puppetry and cải lương (Vietnamese modern folk opera). Contemporary Vietnamese art is vibrant and expanding internationally.\\n\\n### **Tourism**\\nVietnam attracts millions of tourists each year, drawn by its natural beauty, historical sites, and cultural experiences. Key attractions include:\\n- **Hanoi:** The capital city, known for its centuries-old architecture, bustling Old Quarter, and cultural landmarks.\\n- **Ho Chi Minh City:** The economic hub with vibrant nightlife, historical sites like the Cu Chi Tunnels, and modern skyscrapers.\\n- **Ha Long Bay:** Famous for its emerald waters and thousands of limestone karsts and isles.\\n- **Hoi An:** A UNESCO World Heritage Site known for its well-preserved Ancient Town, lantern-lit streets, and traditional architecture.\\n- **Hue:** The former imperial capital with historic temples, palaces, and the Perfume River.\\n- **Sapa:** Renowned for its terraced rice fields and ethnic minority communities in the northern highlands.\\n\\n### **Challenges**\\nDespite significant progress, Vietnam faces several challenges:\\n- **Environmental Issues:** Rapid industrialization has led to pollution, deforestation, and challenges related to climate change, such as rising sea levels affecting the Mekong Delta.\\n- **Economic Disparities:** Income inequality and regional disparities between urban and rural areas persist.\\n- **Political Freedom:** As a single-party state, Vietnam has limited political pluralism and faces criticism regarding human rights and freedom of expression.\\n\\n### **Future Outlook**\\nVietnam continues to position itself as a key player in the global economy, leveraging its young workforce, strategic location, and improving infrastructure. Ongoing efforts to enhance education, innovation, and sustainable development aim to ensure continued growth and prosperity.\\n\\n---\\n\\nVietnam\\'s unique blend of tradition and modernity, coupled with its natural beauty and resilient spirit, make it a fascinating country with a bright future on the global stage.'"
      ]
     },
     "execution_count": 716,
     "metadata": {},
     "output_type": "execute_result"
    }
   ],
   "source": [
    "result = app.invoke(state1)\n",
    "result[\"messages\"][-1]"
   ]
  },
  {
   "cell_type": "code",
   "execution_count": null,
   "id": "934bb19e",
   "metadata": {},
   "outputs": [],
   "source": []
  }
 ],
 "metadata": {
  "kernelspec": {
   "display_name": "venv",
   "language": "python",
   "name": "python3"
  },
  "language_info": {
   "codemirror_mode": {
    "name": "ipython",
    "version": 3
   },
   "file_extension": ".py",
   "mimetype": "text/x-python",
   "name": "python",
   "nbconvert_exporter": "python",
   "pygments_lexer": "ipython3",
   "version": "3.13.2"
  }
 },
 "nbformat": 4,
 "nbformat_minor": 5
}
