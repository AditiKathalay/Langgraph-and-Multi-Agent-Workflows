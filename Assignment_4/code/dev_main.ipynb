{
 "cells": [
  {
   "cell_type": "code",
   "execution_count": 125,
   "id": "63402a30",
   "metadata": {},
   "outputs": [
    {
     "ename": "SyntaxError",
     "evalue": "invalid character '➝' (U+279D) (1599413519.py, line 12)",
     "output_type": "error",
     "traceback": [
      "  \u001b[36mCell\u001b[39m\u001b[36m \u001b[39m\u001b[32mIn[125]\u001b[39m\u001b[32m, line 12\u001b[39m\n\u001b[31m    \u001b[39m\u001b[31mSupervisor ➝ Router ➝ (LLM / RAG / Web) ➝ ✅ Pydantic Validation ➝ Post-Validation Router ➝ (Final Output / Supervisor Retry)\u001b[39m\n               ^\n\u001b[31mSyntaxError\u001b[39m\u001b[31m:\u001b[39m invalid character '➝' (U+279D)\n"
     ]
    }
   ],
   "source": [
    "Assignment:4\n",
    "1. you have to create one supervisor node.\n",
    "2. create one router function\n",
    "3. create three more node\n",
    "3.1 llm call (llm node)\n",
    "3.2 RAG (rag node)\n",
    "3.3 web crawler(fetch the info in realtime from internet)\n",
    "4. created one more node after this for validation for generated output --> explore the validation part how to do that\n",
    "5. if validation going to be failed in that case again go to supervioser node and then supervisor node will again decide what needs to be call next\n",
    "6. once the validation will pass then only generate the final output\n",
    "\n",
    "Supervisor ➝ Router ➝ (LLM / RAG / Web) ➝ ✅ Pydantic Validation ➝ Post-Validation Router ➝ (Final Output / Supervisor Retry)\n"
   ]
  },
  {
   "cell_type": "markdown",
   "id": "6c29b33e",
   "metadata": {},
   "source": [
    "#### Step 1. Import Libraries"
   ]
  },
  {
   "cell_type": "code",
   "execution_count": 1,
   "id": "18c7e9e9",
   "metadata": {},
   "outputs": [],
   "source": [
    "import operator\n",
    "from typing import List\n",
    "from pydantic import BaseModel , Field\n",
    "from langchain.prompts import PromptTemplate\n",
    "from typing import TypedDict, Annotated, Sequence\n",
    "from langchain_core.messages import BaseMessage\n",
    "from langchain_core.output_parsers import StrOutputParser\n",
    "from langchain_core.prompts import ChatPromptTemplate, PromptTemplate\n",
    "from langchain_core.runnables import RunnablePassthrough\n",
    "from langchain_core.messages import HumanMessage, AIMessage\n",
    "from langgraph.graph import StateGraph,END"
   ]
  },
  {
   "cell_type": "markdown",
   "id": "f59d4db5",
   "metadata": {},
   "source": [
    "#### Step 2. Load env"
   ]
  },
  {
   "cell_type": "code",
   "execution_count": 2,
   "id": "47666cbb",
   "metadata": {},
   "outputs": [
    {
     "data": {
      "text/plain": [
       "True"
      ]
     },
     "execution_count": 2,
     "metadata": {},
     "output_type": "execute_result"
    }
   ],
   "source": [
    "import os\n",
    "from dotenv import load_dotenv\n",
    "load_dotenv()"
   ]
  },
  {
   "cell_type": "code",
   "execution_count": 3,
   "id": "a015fb03",
   "metadata": {},
   "outputs": [],
   "source": [
    "os.environ[\"OPENAI_API_KEY\"]=os.getenv(\"OPENAI_API_KEY\")"
   ]
  },
  {
   "cell_type": "markdown",
   "id": "0aae66a6",
   "metadata": {},
   "source": [
    "#### Step 4. Init o1-mini Model"
   ]
  },
  {
   "cell_type": "code",
   "execution_count": 4,
   "id": "cb5a35ec",
   "metadata": {},
   "outputs": [
    {
     "name": "stdout",
     "output_type": "stream",
     "text": [
      "content='Hello! How can I assist you today?' additional_kwargs={'refusal': None} response_metadata={'token_usage': {'completion_tokens': 340, 'prompt_tokens': 9, 'total_tokens': 349, 'completion_tokens_details': {'accepted_prediction_tokens': 0, 'audio_tokens': 0, 'reasoning_tokens': 320, 'rejected_prediction_tokens': 0}, 'prompt_tokens_details': {'audio_tokens': 0, 'cached_tokens': 0}}, 'model_name': 'o1-mini-2024-09-12', 'system_fingerprint': 'fp_3da8b0b088', 'id': 'chatcmpl-BhIzeZMtVEntidgA2bR7fpCzxhjah', 'service_tier': 'default', 'finish_reason': 'stop', 'logprobs': None} id='run--a9297e3c-5c47-46b9-9467-53603a9b7a6d-0' usage_metadata={'input_tokens': 9, 'output_tokens': 340, 'total_tokens': 349, 'input_token_details': {'audio': 0, 'cache_read': 0}, 'output_token_details': {'audio': 0, 'reasoning': 320}}\n"
     ]
    }
   ],
   "source": [
    "from langchain_openai import ChatOpenAI\n",
    "model = ChatOpenAI(model=\"o1-mini\")\n",
    "result = model.invoke(\"Hi\")\n",
    "print(result)"
   ]
  },
  {
   "cell_type": "markdown",
   "id": "33690b3b",
   "metadata": {},
   "source": [
    "#### Step 5. Embeddings"
   ]
  },
  {
   "cell_type": "code",
   "execution_count": 9,
   "id": "9a23cff4",
   "metadata": {},
   "outputs": [
    {
     "data": {
      "text/plain": [
       "384"
      ]
     },
     "execution_count": 9,
     "metadata": {},
     "output_type": "execute_result"
    }
   ],
   "source": [
    "from langchain_huggingface import HuggingFaceEmbeddings\n",
    "embeddings = HuggingFaceEmbeddings(model_name=\"BAAI/bge-small-en\")\n",
    "len(embeddings.embed_query(\"Elo, mate\"))"
   ]
  },
  {
   "cell_type": "markdown",
   "id": "ce1a1c57",
   "metadata": {},
   "source": [
    "#### Step 6: Create Vector Database"
   ]
  },
  {
   "cell_type": "code",
   "execution_count": 10,
   "id": "35c741c7",
   "metadata": {},
   "outputs": [],
   "source": [
    "from langchain_community.document_loaders import TextLoader, DirectoryLoader\n",
    "from langchain_community.vectorstores import Chroma \n",
    "from langchain.text_splitter import RecursiveCharacterTextSplitter"
   ]
  },
  {
   "cell_type": "code",
   "execution_count": 11,
   "id": "abf184e2",
   "metadata": {},
   "outputs": [],
   "source": [
    "loader = TextLoader(r\"C:\\Users\\aditi_zg48xl\\Downloads\\Agentic AI\\Assignment_4\\Data\\genetic_diseases.txt\")\n",
    "docs = loader.load()"
   ]
  },
  {
   "cell_type": "code",
   "execution_count": 12,
   "id": "c6867ff4",
   "metadata": {},
   "outputs": [
    {
     "data": {
      "text/plain": [
       "[Document(metadata={'source': 'C:\\\\Users\\\\aditi_zg48xl\\\\Downloads\\\\Agentic AI\\\\Assignment_4\\\\Data\\\\genetic_diseases.txt'}, page_content=\"Genetic diseases are medical conditions caused by anomalies in the genome, either inherited from one's parents or acquired through spontaneous mutations. These diseases can be categorized based on the type and location of the genetic defect: single-gene disorders, multifactorial disorders, chromosomal abnormalities, and mitochondrial genetic diseases.\\n\\nSingle-gene disorders, or monogenic diseases, result from mutations in a single gene. These include well-known conditions such as cystic fibrosis (CF), sickle cell anemia, Tay-Sachs disease, and Huntingtonâ€™s disease. In CF, mutations in the CFTR gene cause defective chloride ion transport, leading to thickened mucus in the lungs and digestive system. Sickle cell anemia, on the other hand, arises from a point mutation in the HBB gene, causing abnormal hemoglobin structure and leading to hemolytic anemia and painful vaso-occlusive episodes.\\n\\nMultifactorial or polygenic disorders are caused by interactions between multiple genes and environmental factors. Conditions such as diabetes mellitus, heart disease, and certain cancers fall into this category. Genome-Wide Association Studies (GWAS) have identified numerous loci associated with increased susceptibility to these diseases, although individual genetic contributions are often modest. Understanding gene-environment interactions remains a central challenge in predicting and managing these disorders.\\n\\nChromosomal disorders involve structural changes or numerical abnormalities in chromosomes. Down syndrome is the most common trisomy, caused by an extra copy of chromosome 21. Turner syndrome (monosomy X) and Klinefelter syndrome (XXY) are examples of sex chromosome abnormalities. These disorders often affect development, fertility, cognition, and physical traits. Advanced prenatal screening and karyotyping have improved early diagnosis and management.\\n\\nMitochondrial diseases result from mutations in mitochondrial DNA (mtDNA), which is inherited maternally. These disorders typically affect organs with high energy demands, such as the brain and muscles. Examples include Leberâ€™s hereditary optic neuropathy (LHON) and mitochondrial encephalomyopathy. Since mitochondria operate under dual genomic control (nuclear and mitochondrial), therapeutic targeting remains complex.\\n\\nRecent advances in molecular biology and genomic technology have transformed the landscape of genetic disease research. Next-generation sequencing (NGS) allows rapid and affordable whole-genome and exome sequencing, facilitating the discovery of disease-causing mutations in rare and previously undiagnosed conditions. Precision medicine, which tailors treatment based on an individual's genetic profile, is increasingly used in oncology and rare disease treatment.\\n\\nGene therapy has emerged as a promising strategy to treat genetic diseases at the molecular level. Approved therapies like Luxturna for retinal dystrophy and Zolgensma for spinal muscular atrophy demonstrate the potential of adeno-associated virus (AAV)-based delivery systems. Additionally, CRISPR-Cas9 genome editing offers the potential to correct mutations in vivo. However, concerns about off-target effects, immune responses, and germline editing have sparked ethical debates in the scientific community.\\n\\nGenetic counseling plays a crucial role in helping patients and families understand the implications of genetic testing. It enables informed decision-making and helps assess the risk of recurrence in future generations. The integration of clinical genetics into general medicine has made it possible to provide targeted interventions, prevent disease progression, and personalize patient care.\\n\\nAs we move forward, the biggest challenges in tackling genetic diseases include equitable access to genetic technologies, regulation of gene editing, interpretation of variants of unknown significance (VUS), and protection of genomic privacy. Nevertheless, the potential to alleviate suffering and improve human health through genetics is unprecedented, and continued interdisciplinary research will be essential to unlock it fully.\\n\")]"
      ]
     },
     "execution_count": 12,
     "metadata": {},
     "output_type": "execute_result"
    }
   ],
   "source": [
    "docs "
   ]
  },
  {
   "cell_type": "markdown",
   "id": "c53b48be",
   "metadata": {},
   "source": [
    "#### Step 7.1 Using recursive text splitter divide into chunks"
   ]
  },
  {
   "cell_type": "code",
   "execution_count": 13,
   "id": "fd1fb0e0",
   "metadata": {},
   "outputs": [],
   "source": [
    "text_splitter = RecursiveCharacterTextSplitter(\n",
    "    chunk_size = 200,\n",
    "    chunk_overlap = 50\n",
    ")"
   ]
  },
  {
   "cell_type": "code",
   "execution_count": 14,
   "id": "bbc29426",
   "metadata": {},
   "outputs": [],
   "source": [
    "new_docs = text_splitter.split_documents(documents = docs)"
   ]
  },
  {
   "cell_type": "code",
   "execution_count": 15,
   "id": "b52b1c34",
   "metadata": {},
   "outputs": [
    {
     "data": {
      "text/plain": [
       "[Document(metadata={'source': 'C:\\\\Users\\\\aditi_zg48xl\\\\Downloads\\\\Agentic AI\\\\Assignment_4\\\\Data\\\\genetic_diseases.txt'}, page_content=\"Genetic diseases are medical conditions caused by anomalies in the genome, either inherited from one's parents or acquired through spontaneous mutations. These diseases can be categorized based on the\"),\n",
       " Document(metadata={'source': 'C:\\\\Users\\\\aditi_zg48xl\\\\Downloads\\\\Agentic AI\\\\Assignment_4\\\\Data\\\\genetic_diseases.txt'}, page_content='These diseases can be categorized based on the type and location of the genetic defect: single-gene disorders, multifactorial disorders, chromosomal abnormalities, and mitochondrial genetic diseases.'),\n",
       " Document(metadata={'source': 'C:\\\\Users\\\\aditi_zg48xl\\\\Downloads\\\\Agentic AI\\\\Assignment_4\\\\Data\\\\genetic_diseases.txt'}, page_content='Single-gene disorders, or monogenic diseases, result from mutations in a single gene. These include well-known conditions such as cystic fibrosis (CF), sickle cell anemia, Tay-Sachs disease, and'),\n",
       " Document(metadata={'source': 'C:\\\\Users\\\\aditi_zg48xl\\\\Downloads\\\\Agentic AI\\\\Assignment_4\\\\Data\\\\genetic_diseases.txt'}, page_content='(CF), sickle cell anemia, Tay-Sachs disease, and Huntingtonâ€™s disease. In CF, mutations in the CFTR gene cause defective chloride ion transport, leading to thickened mucus in the lungs and'),\n",
       " Document(metadata={'source': 'C:\\\\Users\\\\aditi_zg48xl\\\\Downloads\\\\Agentic AI\\\\Assignment_4\\\\Data\\\\genetic_diseases.txt'}, page_content='leading to thickened mucus in the lungs and digestive system. Sickle cell anemia, on the other hand, arises from a point mutation in the HBB gene, causing abnormal hemoglobin structure and leading to'),\n",
       " Document(metadata={'source': 'C:\\\\Users\\\\aditi_zg48xl\\\\Downloads\\\\Agentic AI\\\\Assignment_4\\\\Data\\\\genetic_diseases.txt'}, page_content='abnormal hemoglobin structure and leading to hemolytic anemia and painful vaso-occlusive episodes.'),\n",
       " Document(metadata={'source': 'C:\\\\Users\\\\aditi_zg48xl\\\\Downloads\\\\Agentic AI\\\\Assignment_4\\\\Data\\\\genetic_diseases.txt'}, page_content='Multifactorial or polygenic disorders are caused by interactions between multiple genes and environmental factors. Conditions such as diabetes mellitus, heart disease, and certain cancers fall into'),\n",
       " Document(metadata={'source': 'C:\\\\Users\\\\aditi_zg48xl\\\\Downloads\\\\Agentic AI\\\\Assignment_4\\\\Data\\\\genetic_diseases.txt'}, page_content='heart disease, and certain cancers fall into this category. Genome-Wide Association Studies (GWAS) have identified numerous loci associated with increased susceptibility to these diseases, although'),\n",
       " Document(metadata={'source': 'C:\\\\Users\\\\aditi_zg48xl\\\\Downloads\\\\Agentic AI\\\\Assignment_4\\\\Data\\\\genetic_diseases.txt'}, page_content='susceptibility to these diseases, although individual genetic contributions are often modest. Understanding gene-environment interactions remains a central challenge in predicting and managing these'),\n",
       " Document(metadata={'source': 'C:\\\\Users\\\\aditi_zg48xl\\\\Downloads\\\\Agentic AI\\\\Assignment_4\\\\Data\\\\genetic_diseases.txt'}, page_content='challenge in predicting and managing these disorders.'),\n",
       " Document(metadata={'source': 'C:\\\\Users\\\\aditi_zg48xl\\\\Downloads\\\\Agentic AI\\\\Assignment_4\\\\Data\\\\genetic_diseases.txt'}, page_content='Chromosomal disorders involve structural changes or numerical abnormalities in chromosomes. Down syndrome is the most common trisomy, caused by an extra copy of chromosome 21. Turner syndrome'),\n",
       " Document(metadata={'source': 'C:\\\\Users\\\\aditi_zg48xl\\\\Downloads\\\\Agentic AI\\\\Assignment_4\\\\Data\\\\genetic_diseases.txt'}, page_content='an extra copy of chromosome 21. Turner syndrome (monosomy X) and Klinefelter syndrome (XXY) are examples of sex chromosome abnormalities. These disorders often affect development, fertility,'),\n",
       " Document(metadata={'source': 'C:\\\\Users\\\\aditi_zg48xl\\\\Downloads\\\\Agentic AI\\\\Assignment_4\\\\Data\\\\genetic_diseases.txt'}, page_content='disorders often affect development, fertility, cognition, and physical traits. Advanced prenatal screening and karyotyping have improved early diagnosis and management.'),\n",
       " Document(metadata={'source': 'C:\\\\Users\\\\aditi_zg48xl\\\\Downloads\\\\Agentic AI\\\\Assignment_4\\\\Data\\\\genetic_diseases.txt'}, page_content='Mitochondrial diseases result from mutations in mitochondrial DNA (mtDNA), which is inherited maternally. These disorders typically affect organs with high energy demands, such as the brain and'),\n",
       " Document(metadata={'source': 'C:\\\\Users\\\\aditi_zg48xl\\\\Downloads\\\\Agentic AI\\\\Assignment_4\\\\Data\\\\genetic_diseases.txt'}, page_content='with high energy demands, such as the brain and muscles. Examples include Leberâ€™s hereditary optic neuropathy (LHON) and mitochondrial encephalomyopathy. Since mitochondria operate under dual'),\n",
       " Document(metadata={'source': 'C:\\\\Users\\\\aditi_zg48xl\\\\Downloads\\\\Agentic AI\\\\Assignment_4\\\\Data\\\\genetic_diseases.txt'}, page_content='Since mitochondria operate under dual genomic control (nuclear and mitochondrial), therapeutic targeting remains complex.'),\n",
       " Document(metadata={'source': 'C:\\\\Users\\\\aditi_zg48xl\\\\Downloads\\\\Agentic AI\\\\Assignment_4\\\\Data\\\\genetic_diseases.txt'}, page_content='Recent advances in molecular biology and genomic technology have transformed the landscape of genetic disease research. Next-generation sequencing (NGS) allows rapid and affordable whole-genome and'),\n",
       " Document(metadata={'source': 'C:\\\\Users\\\\aditi_zg48xl\\\\Downloads\\\\Agentic AI\\\\Assignment_4\\\\Data\\\\genetic_diseases.txt'}, page_content='allows rapid and affordable whole-genome and exome sequencing, facilitating the discovery of disease-causing mutations in rare and previously undiagnosed conditions. Precision medicine, which tailors'),\n",
       " Document(metadata={'source': 'C:\\\\Users\\\\aditi_zg48xl\\\\Downloads\\\\Agentic AI\\\\Assignment_4\\\\Data\\\\genetic_diseases.txt'}, page_content=\"conditions. Precision medicine, which tailors treatment based on an individual's genetic profile, is increasingly used in oncology and rare disease treatment.\"),\n",
       " Document(metadata={'source': 'C:\\\\Users\\\\aditi_zg48xl\\\\Downloads\\\\Agentic AI\\\\Assignment_4\\\\Data\\\\genetic_diseases.txt'}, page_content='Gene therapy has emerged as a promising strategy to treat genetic diseases at the molecular level. Approved therapies like Luxturna for retinal dystrophy and Zolgensma for spinal muscular atrophy'),\n",
       " Document(metadata={'source': 'C:\\\\Users\\\\aditi_zg48xl\\\\Downloads\\\\Agentic AI\\\\Assignment_4\\\\Data\\\\genetic_diseases.txt'}, page_content='and Zolgensma for spinal muscular atrophy demonstrate the potential of adeno-associated virus (AAV)-based delivery systems. Additionally, CRISPR-Cas9 genome editing offers the potential to correct'),\n",
       " Document(metadata={'source': 'C:\\\\Users\\\\aditi_zg48xl\\\\Downloads\\\\Agentic AI\\\\Assignment_4\\\\Data\\\\genetic_diseases.txt'}, page_content='genome editing offers the potential to correct mutations in vivo. However, concerns about off-target effects, immune responses, and germline editing have sparked ethical debates in the scientific'),\n",
       " Document(metadata={'source': 'C:\\\\Users\\\\aditi_zg48xl\\\\Downloads\\\\Agentic AI\\\\Assignment_4\\\\Data\\\\genetic_diseases.txt'}, page_content='have sparked ethical debates in the scientific community.'),\n",
       " Document(metadata={'source': 'C:\\\\Users\\\\aditi_zg48xl\\\\Downloads\\\\Agentic AI\\\\Assignment_4\\\\Data\\\\genetic_diseases.txt'}, page_content='Genetic counseling plays a crucial role in helping patients and families understand the implications of genetic testing. It enables informed decision-making and helps assess the risk of recurrence in'),\n",
       " Document(metadata={'source': 'C:\\\\Users\\\\aditi_zg48xl\\\\Downloads\\\\Agentic AI\\\\Assignment_4\\\\Data\\\\genetic_diseases.txt'}, page_content='and helps assess the risk of recurrence in future generations. The integration of clinical genetics into general medicine has made it possible to provide targeted interventions, prevent disease'),\n",
       " Document(metadata={'source': 'C:\\\\Users\\\\aditi_zg48xl\\\\Downloads\\\\Agentic AI\\\\Assignment_4\\\\Data\\\\genetic_diseases.txt'}, page_content='provide targeted interventions, prevent disease progression, and personalize patient care.'),\n",
       " Document(metadata={'source': 'C:\\\\Users\\\\aditi_zg48xl\\\\Downloads\\\\Agentic AI\\\\Assignment_4\\\\Data\\\\genetic_diseases.txt'}, page_content='As we move forward, the biggest challenges in tackling genetic diseases include equitable access to genetic technologies, regulation of gene editing, interpretation of variants of unknown'),\n",
       " Document(metadata={'source': 'C:\\\\Users\\\\aditi_zg48xl\\\\Downloads\\\\Agentic AI\\\\Assignment_4\\\\Data\\\\genetic_diseases.txt'}, page_content='editing, interpretation of variants of unknown significance (VUS), and protection of genomic privacy. Nevertheless, the potential to alleviate suffering and improve human health through genetics is'),\n",
       " Document(metadata={'source': 'C:\\\\Users\\\\aditi_zg48xl\\\\Downloads\\\\Agentic AI\\\\Assignment_4\\\\Data\\\\genetic_diseases.txt'}, page_content='and improve human health through genetics is unprecedented, and continued interdisciplinary research will be essential to unlock it fully.')]"
      ]
     },
     "execution_count": 15,
     "metadata": {},
     "output_type": "execute_result"
    }
   ],
   "source": [
    "new_docs"
   ]
  },
  {
   "cell_type": "markdown",
   "id": "cc350e4b",
   "metadata": {},
   "source": [
    "#### Step 7.2 Using FAISS VectorDB"
   ]
  },
  {
   "cell_type": "code",
   "execution_count": 16,
   "id": "abed98a9",
   "metadata": {},
   "outputs": [],
   "source": [
    "from langchain_community.vectorstores import FAISS\n",
    "\n",
    "vector_db = FAISS.from_documents(new_docs, embeddings)\n"
   ]
  },
  {
   "cell_type": "code",
   "execution_count": 17,
   "id": "8a419302",
   "metadata": {},
   "outputs": [],
   "source": [
    "retriever = vector_db.as_retriever(search_kwargs={\"k\" : 5})"
   ]
  },
  {
   "cell_type": "code",
   "execution_count": 18,
   "id": "75448e34",
   "metadata": {},
   "outputs": [
    {
     "data": {
      "text/plain": [
       "[Document(id='dfd2db0b-f852-4b9e-a59d-2c5a532aa2d9', metadata={'source': 'C:\\\\Users\\\\aditi_zg48xl\\\\Downloads\\\\Agentic AI\\\\Assignment_4\\\\Data\\\\genetic_diseases.txt'}, page_content='Single-gene disorders, or monogenic diseases, result from mutations in a single gene. These include well-known conditions such as cystic fibrosis (CF), sickle cell anemia, Tay-Sachs disease, and'),\n",
       " Document(id='6046c8d8-b10c-43b4-8148-75296300e58b', metadata={'source': 'C:\\\\Users\\\\aditi_zg48xl\\\\Downloads\\\\Agentic AI\\\\Assignment_4\\\\Data\\\\genetic_diseases.txt'}, page_content='challenge in predicting and managing these disorders.'),\n",
       " Document(id='a01afaca-f679-432e-91be-87a847d728aa', metadata={'source': 'C:\\\\Users\\\\aditi_zg48xl\\\\Downloads\\\\Agentic AI\\\\Assignment_4\\\\Data\\\\genetic_diseases.txt'}, page_content=\"Genetic diseases are medical conditions caused by anomalies in the genome, either inherited from one's parents or acquired through spontaneous mutations. These diseases can be categorized based on the\"),\n",
       " Document(id='db7d6ad5-8739-410a-9250-58afe136730f', metadata={'source': 'C:\\\\Users\\\\aditi_zg48xl\\\\Downloads\\\\Agentic AI\\\\Assignment_4\\\\Data\\\\genetic_diseases.txt'}, page_content='These diseases can be categorized based on the type and location of the genetic defect: single-gene disorders, multifactorial disorders, chromosomal abnormalities, and mitochondrial genetic diseases.'),\n",
       " Document(id='dc93a7e8-ef5d-44d0-bc4b-2e92b729ee40', metadata={'source': 'C:\\\\Users\\\\aditi_zg48xl\\\\Downloads\\\\Agentic AI\\\\Assignment_4\\\\Data\\\\genetic_diseases.txt'}, page_content='Multifactorial or polygenic disorders are caused by interactions between multiple genes and environmental factors. Conditions such as diabetes mellitus, heart disease, and certain cancers fall into')]"
      ]
     },
     "execution_count": 18,
     "metadata": {},
     "output_type": "execute_result"
    }
   ],
   "source": [
    "retriever.invoke(\"What are simple-gene disorders\")"
   ]
  },
  {
   "cell_type": "code",
   "execution_count": 19,
   "id": "ae1d85b2",
   "metadata": {},
   "outputs": [],
   "source": [
    "from pydantic import BaseModel, Field"
   ]
  },
  {
   "cell_type": "code",
   "execution_count": 20,
   "id": "f5cb4dcd",
   "metadata": {},
   "outputs": [],
   "source": [
    "from pydantic import BaseModel, Field\n",
    "\n",
    "class RoutingOutput(BaseModel):\n",
    "    Topic: str = Field(description=\"Must be one of 'VectorDB', 'LLM', or 'WebSearch'\")"
   ]
  },
  {
   "cell_type": "code",
   "execution_count": 21,
   "id": "b8022a93",
   "metadata": {},
   "outputs": [],
   "source": [
    "from langchain.output_parsers import PydanticOutputParser"
   ]
  },
  {
   "cell_type": "code",
   "execution_count": 22,
   "id": "d2688540",
   "metadata": {},
   "outputs": [],
   "source": [
    "parser = PydanticOutputParser(pydantic_object=RoutingOutput)"
   ]
  },
  {
   "cell_type": "code",
   "execution_count": 23,
   "id": "93893fc4",
   "metadata": {},
   "outputs": [
    {
     "data": {
      "text/plain": [
       "<bound method PydanticOutputParser.get_format_instructions of PydanticOutputParser(pydantic_object=<class '__main__.RoutingOutput'>)>"
      ]
     },
     "execution_count": 23,
     "metadata": {},
     "output_type": "execute_result"
    }
   ],
   "source": [
    "parser.get_format_instructions"
   ]
  },
  {
   "cell_type": "code",
   "execution_count": 24,
   "id": "e1c05f78",
   "metadata": {},
   "outputs": [],
   "source": [
    "class AgentState(TypedDict):\n",
    "    message: Annotated[Sequence[BaseModel],operator.add]"
   ]
  },
  {
   "cell_type": "code",
   "execution_count": 25,
   "id": "cf4fbb69",
   "metadata": {},
   "outputs": [],
   "source": [
    "AgentState = {}"
   ]
  },
  {
   "cell_type": "code",
   "execution_count": 26,
   "id": "3b7d4e33",
   "metadata": {},
   "outputs": [],
   "source": [
    "AgentState[\"messages\"]=[]"
   ]
  },
  {
   "cell_type": "code",
   "execution_count": 27,
   "id": "3e278e12",
   "metadata": {},
   "outputs": [
    {
     "data": {
      "text/plain": [
       "{'messages': []}"
      ]
     },
     "execution_count": 27,
     "metadata": {},
     "output_type": "execute_result"
    }
   ],
   "source": [
    "AgentState"
   ]
  },
  {
   "cell_type": "code",
   "execution_count": 28,
   "id": "a6ea21ce",
   "metadata": {},
   "outputs": [],
   "source": [
    "AgentState[\"messages\"].append(\"Hi, how are you?\")"
   ]
  },
  {
   "cell_type": "code",
   "execution_count": 29,
   "id": "54f505d6",
   "metadata": {},
   "outputs": [],
   "source": [
    "AgentState[\"messages\"].append(\"Supp\")"
   ]
  },
  {
   "cell_type": "code",
   "execution_count": 30,
   "id": "d840a450",
   "metadata": {},
   "outputs": [],
   "source": [
    "AgentState[\"messages\"].append(\"Reply to me\")"
   ]
  },
  {
   "cell_type": "code",
   "execution_count": 31,
   "id": "5e58476e",
   "metadata": {},
   "outputs": [],
   "source": [
    "class AgentState(TypedDict):\n",
    "    messages: Annotated[Sequence[BaseMessage], operator.add]"
   ]
  },
  {
   "cell_type": "code",
   "execution_count": 32,
   "id": "54519009",
   "metadata": {},
   "outputs": [],
   "source": [
    "def function_1(state: AgentState):\n",
    "    question = state[\"messages\"][-1]\n",
    "    print(\"Question:\", question)\n",
    "\n",
    "    template = \"\"\"\n",
    "    Your task is to classify the user query into one of the following categories:\n",
    "    [RAG, LLM, WebSearch].\n",
    "\n",
    "    Only respond with the category name and nothing else.\n",
    "\n",
    "    User query: {question}\n",
    "    {format_instructions}\n",
    "    \"\"\"\n",
    "\n",
    "    prompt = PromptTemplate(\n",
    "        template=template,\n",
    "        input_variables=[\"question\"],\n",
    "        partial_variables={\"format_instructions\": parser.get_format_instructions()}\n",
    "    )\n",
    "\n",
    "    chain = prompt | model | parser\n",
    "\n",
    "    response = chain.invoke({\"question\": question})\n",
    "    print(\"Parsed response:\", response)\n",
    "\n",
    "    return {\"messages\": [response.Topic]}\n"
   ]
  },
  {
   "cell_type": "code",
   "execution_count": 33,
   "id": "c6bebb33",
   "metadata": {},
   "outputs": [],
   "source": [
    "state={\"messages\":[\"What are simple-gene disorders\"]}"
   ]
  },
  {
   "cell_type": "code",
   "execution_count": 34,
   "id": "b9b8a215",
   "metadata": {},
   "outputs": [
    {
     "name": "stdout",
     "output_type": "stream",
     "text": [
      "Question: What are simple-gene disorders\n",
      "Parsed response: Topic='WebSearch'\n"
     ]
    },
    {
     "data": {
      "text/plain": [
       "{'messages': ['WebSearch']}"
      ]
     },
     "execution_count": 34,
     "metadata": {},
     "output_type": "execute_result"
    }
   ],
   "source": [
    "function_1(state)"
   ]
  },
  {
   "cell_type": "code",
   "execution_count": 35,
   "id": "72bf4fab",
   "metadata": {},
   "outputs": [],
   "source": [
    "# def router(state: AgentState):\n",
    "#     print(\"->-> Router ->->\")\n",
    "    \n",
    "#     topic = state[\"messages\"][-1].strip().lower()\n",
    "#     print(\"Routing topic:\", topic)\n",
    "\n",
    "#     if topic == \"vectordb\":\n",
    "#         return \"RAG\"\n",
    "#     elif topic == \"llm\":\n",
    "#         return \"LLM Call\"\n",
    "#     elif topic == \"websearch\":\n",
    "#         return \"Web Crawler\"\n",
    "#     else:\n",
    "#         print(\"Unknown topic, defaulting to LLM Call\")\n",
    "#         return \"LLM Call\"\n",
    "\n",
    "def router(state: AgentState):\n",
    "    print(\"->-> Router ->->\")\n",
    "    \n",
    "    topic = state[\"messages\"][-1].strip().lower()\n",
    "    print(\"Routing topic:\", topic)\n",
    "\n",
    "    if topic == \"vectordb\":\n",
    "        return {\"next\": \"RAG\"}\n",
    "    elif topic == \"llm\":\n",
    "        return {\"next\": \"LLM Call\"}\n",
    "    elif topic == \"websearch\":\n",
    "        return {\"next\": \"Web Crawler\"}\n",
    "    else:\n",
    "        print(\"Unknown topic, defaulting to LLM Call\")\n",
    "        return {\"next\": \"LLM Call\"}\n",
    "\n"
   ]
  },
  {
   "cell_type": "code",
   "execution_count": 36,
   "id": "f23f0045",
   "metadata": {},
   "outputs": [],
   "source": [
    "def format_docs(docs):\n",
    "    return \"\\n\\n\".join(doc.page_content for doc in docs)"
   ]
  },
  {
   "cell_type": "code",
   "execution_count": 37,
   "id": "2f8cfee8",
   "metadata": {},
   "outputs": [],
   "source": [
    "# # RAG Function\n",
    "# def function_2(state:AgentState):\n",
    "#     print(\"-> RAG Call ->\")\n",
    "    \n",
    "#     question = state[\"messages\"][0]\n",
    "    \n",
    "#     prompt=PromptTemplate(\n",
    "#         template=\"\"\"You are an assistant for question-answering tasks. Use the following pieces of retrieved context to answer the question. If you don't know the answer, just say that you don't know. Use three sentences maximum and keep the answer concise.\\nQuestion: {question} \\nContext: {context} \\nAnswer:\"\"\",\n",
    "        \n",
    "#         input_variables=['context', 'question']\n",
    "#     )\n",
    "    \n",
    "#     rag_chain = (\n",
    "#         {\"context\": retriever | format_docs, \"question\": RunnablePassthrough()}\n",
    "#         | prompt\n",
    "#         | model\n",
    "#         | StrOutputParser()\n",
    "#     )\n",
    "#     result = rag_chain.invoke({\"question\": {\"question\": question}})\n",
    "#     return  {\"messages\": [result]}\n",
    "\n",
    "def function_2(state: AgentState):\n",
    "    print(\"-> RAG Call ->\")\n",
    "\n",
    "    question = state[\"messages\"][0]\n",
    "\n",
    "    prompt = PromptTemplate(\n",
    "        template=(\n",
    "            \"You are an assistant for question-answering tasks. Use the following pieces of retrieved context \"\n",
    "            \"to answer the question. If you don't know the answer, just say that you don't know. \"\n",
    "            \"Use three sentences maximum and keep the answer concise.\\n\"\n",
    "            \"Question: {question}\\nContext: {context}\\nAnswer:\"\n",
    "        ),\n",
    "        input_variables=[\"context\", \"question\"]\n",
    "    )\n",
    "\n",
    "    rag_chain = (\n",
    "        {\"context\": retriever | format_docs, \"question\": RunnablePassthrough()}\n",
    "        | prompt\n",
    "        | model\n",
    "        | StrOutputParser()\n",
    "    )\n",
    "\n",
    "    # Only pass the question as a string, not as {\"question\": question}\n",
    "    result = rag_chain.invoke(question)\n",
    "\n",
    "    return {\"messages\": [result]}\n"
   ]
  },
  {
   "cell_type": "code",
   "execution_count": 38,
   "id": "973070d4",
   "metadata": {},
   "outputs": [],
   "source": [
    "def function_3(state: AgentState):\n",
    "    print(\"->-> LLM Call ->->\")\n",
    "\n",
    "    question = state[\"messages\"][0]\n",
    "\n",
    "    complete_query = (\n",
    "        \"Answer the following question with your real-world knowledge. \"\n",
    "        f\"User question: {question}\"\n",
    "    )\n",
    "\n",
    "    response = model.invoke(complete_query)\n",
    "    print(\"LLM Raw Response:\", response)\n",
    "\n",
    "    # Extract answer content safely\n",
    "    if hasattr(response, 'content') and response.content is not None:\n",
    "        answer = response.content\n",
    "    elif hasattr(response, 'text'):\n",
    "        answer = response.text\n",
    "    else:\n",
    "        answer = str(response)\n",
    "\n",
    "    return {\"messages\": [answer]}\n"
   ]
  },
  {
   "cell_type": "code",
   "execution_count": 39,
   "id": "f465a0f6",
   "metadata": {},
   "outputs": [],
   "source": [
    "from langchain_community.tools import DuckDuckGoSearchRun"
   ]
  },
  {
   "cell_type": "code",
   "execution_count": 40,
   "id": "199cbdc4",
   "metadata": {},
   "outputs": [],
   "source": [
    "search = DuckDuckGoSearchRun()"
   ]
  },
  {
   "cell_type": "code",
   "execution_count": 41,
   "id": "f5af71fe",
   "metadata": {},
   "outputs": [],
   "source": [
    "def function_4(state: AgentState):\n",
    "    print(\"->-> Web Search Call ->->\")\n",
    "\n",
    "    question = state[\"messages\"][0]\n",
    "\n",
    "    # Run the web search\n",
    "    results = search.run(question)\n",
    "    \n",
    "    print(\"Search Result:\", results)\n",
    "    \n",
    "    return {\"messages\": [results]}"
   ]
  },
  {
   "cell_type": "code",
   "execution_count": 42,
   "id": "ffdbe4e2",
   "metadata": {},
   "outputs": [],
   "source": [
    "from langgraph.graph import StateGraph, END"
   ]
  },
  {
   "cell_type": "code",
   "execution_count": 43,
   "id": "2a7d76bb",
   "metadata": {},
   "outputs": [
    {
     "name": "stderr",
     "output_type": "stream",
     "text": [
      "C:\\Users\\aditi_zg48xl\\AppData\\Local\\Temp\\ipykernel_11636\\895920501.py:7: PydanticDeprecatedSince20: Pydantic V1 style `@validator` validators are deprecated. You should migrate to Pydantic V2 style `@field_validator` validators, see the migration guide for more details. Deprecated in Pydantic V2.0 to be removed in V3.0. See Pydantic V2 Migration Guide at https://errors.pydantic.dev/2.11/migration/\n",
      "  @validator(\"response\")\n"
     ]
    }
   ],
   "source": [
    "from pydantic import BaseModel, ValidationError, validator\n",
    "\n",
    "# Define a model for validating the response\n",
    "class OutputModel(BaseModel):\n",
    "    response: str\n",
    "\n",
    "    @validator(\"response\")\n",
    "    def check_min_length_and_topic(cls, value):\n",
    "        if not value or len(value.strip()) < 1:\n",
    "            raise ValueError(\"Output too short.\")\n",
    "        if \"genetic\" not in value.lower() and \"disease\" not in value.lower():\n",
    "            raise ValueError(\"Output does not relate to genetic diseases.\")\n",
    "        return value\n",
    "\n",
    "# Agentic validation function\n",
    "def function_5(state):\n",
    "    topic = state.get(\"topic\", \"\").lower()\n",
    "    response = state.get(\"response\", \"\")\n",
    "\n",
    "    # If topic is \"llm\", bypass strict validation\n",
    "    if topic == \"llm\":\n",
    "        if response.strip():\n",
    "            state[\"validated\"] = True\n",
    "        else:\n",
    "            state[\"validated\"] = False\n",
    "            state[\"validation_error\"] = \"Empty response for LLM\"\n",
    "        return state\n",
    "\n",
    "    # For other topics, do stricter checks\n",
    "    try:\n",
    "        if not response.strip():\n",
    "            raise ValueError(\"Missing or empty response.\")\n",
    "        if topic == \"genetic diseases\" and \"genetic\" not in response.lower() and \"disease\" not in response.lower():\n",
    "            raise ValueError(\"Output does not relate to genetic diseases.\")\n",
    "        state[\"validated\"] = True\n",
    "    except Exception as e:\n",
    "        state[\"validated\"] = False\n",
    "        state[\"validation_error\"] = str(e)\n",
    "\n",
    "    return state\n",
    "\n"
   ]
  },
  {
   "cell_type": "code",
   "execution_count": 44,
   "id": "8a5007bb",
   "metadata": {},
   "outputs": [],
   "source": [
    "def post_validation_router(state):\n",
    "    if state.get(\"validated\"):\n",
    "        return \"Final Output\"\n",
    "    else:\n",
    "        return \"Supervisor\"\n",
    "\n"
   ]
  },
  {
   "cell_type": "code",
   "execution_count": 45,
   "id": "5cdaa297",
   "metadata": {},
   "outputs": [],
   "source": [
    "def final_output(state: AgentState):\n",
    "    print(\"✅ Final Output Node\")\n",
    "    \n",
    "    # The actual answer is second last because the last message is \"VALIDATED\"\n",
    "    answer = state[\"messages\"][-2] if state[\"messages\"][-1] == \"VALIDATED\" else state[\"messages\"][-1]\n",
    "    \n",
    "    return {\"messages\": [f\"Final Answer: {answer}\"]}\n"
   ]
  },
  {
   "cell_type": "code",
   "execution_count": 49,
   "id": "12c7f6e3",
   "metadata": {},
   "outputs": [],
   "source": [
    "\n",
    "workflow = StateGraph(AgentState)"
   ]
  },
  {
   "cell_type": "code",
   "execution_count": 55,
   "id": "85f431db",
   "metadata": {},
   "outputs": [
    {
     "ename": "ValueError",
     "evalue": "Node `Validation` already present.",
     "output_type": "error",
     "traceback": [
      "\u001b[31m---------------------------------------------------------------------------\u001b[39m",
      "\u001b[31mValueError\u001b[39m                                Traceback (most recent call last)",
      "\u001b[36mCell\u001b[39m\u001b[36m \u001b[39m\u001b[32mIn[55]\u001b[39m\u001b[32m, line 16\u001b[39m\n\u001b[32m     13\u001b[39m         \u001b[38;5;28;01mreturn\u001b[39;00m {\u001b[33m\"\u001b[39m\u001b[33mvalidated\u001b[39m\u001b[33m\"\u001b[39m: \u001b[38;5;28;01mFalse\u001b[39;00m, \u001b[33m\"\u001b[39m\u001b[33mresponse\u001b[39m\u001b[33m\"\u001b[39m: response}\n\u001b[32m     15\u001b[39m \u001b[38;5;66;03m# Add this node to the workflow\u001b[39;00m\n\u001b[32m---> \u001b[39m\u001b[32m16\u001b[39m \u001b[43mworkflow\u001b[49m\u001b[43m.\u001b[49m\u001b[43madd_node\u001b[49m\u001b[43m(\u001b[49m\u001b[33;43m\"\u001b[39;49m\u001b[33;43mValidation\u001b[39;49m\u001b[33;43m\"\u001b[39;49m\u001b[43m,\u001b[49m\u001b[43m \u001b[49m\u001b[43mvalidation_node\u001b[49m\u001b[43m)\u001b[49m\n\u001b[32m     18\u001b[39m \u001b[38;5;66;03m# Conditional routing after validation\u001b[39;00m\n\u001b[32m     19\u001b[39m \u001b[38;5;28;01mfrom\u001b[39;00m\u001b[38;5;250m \u001b[39m\u001b[34;01mlanggraph\u001b[39;00m\u001b[34;01m.\u001b[39;00m\u001b[34;01mgraph\u001b[39;00m\u001b[38;5;250m \u001b[39m\u001b[38;5;28;01mimport\u001b[39;00m Send\n",
      "\u001b[36mFile \u001b[39m\u001b[32mc:\\Users\\aditi_zg48xl\\Downloads\\Agentic AI\\venv\\Lib\\site-packages\\langgraph\\graph\\state.py:375\u001b[39m, in \u001b[36mStateGraph.add_node\u001b[39m\u001b[34m(self, node, action, defer, metadata, input, retry, cache_policy, destinations)\u001b[39m\n\u001b[32m    373\u001b[39m     \u001b[38;5;28;01mraise\u001b[39;00m \u001b[38;5;167;01mRuntimeError\u001b[39;00m\n\u001b[32m    374\u001b[39m \u001b[38;5;28;01mif\u001b[39;00m node \u001b[38;5;129;01min\u001b[39;00m \u001b[38;5;28mself\u001b[39m.nodes:\n\u001b[32m--> \u001b[39m\u001b[32m375\u001b[39m     \u001b[38;5;28;01mraise\u001b[39;00m \u001b[38;5;167;01mValueError\u001b[39;00m(\u001b[33mf\u001b[39m\u001b[33m\"\u001b[39m\u001b[33mNode `\u001b[39m\u001b[38;5;132;01m{\u001b[39;00mnode\u001b[38;5;132;01m}\u001b[39;00m\u001b[33m` already present.\u001b[39m\u001b[33m\"\u001b[39m)\n\u001b[32m    376\u001b[39m \u001b[38;5;28;01mif\u001b[39;00m node == END \u001b[38;5;129;01mor\u001b[39;00m node == START:\n\u001b[32m    377\u001b[39m     \u001b[38;5;28;01mraise\u001b[39;00m \u001b[38;5;167;01mValueError\u001b[39;00m(\u001b[33mf\u001b[39m\u001b[33m\"\u001b[39m\u001b[33mNode `\u001b[39m\u001b[38;5;132;01m{\u001b[39;00mnode\u001b[38;5;132;01m}\u001b[39;00m\u001b[33m` is reserved.\u001b[39m\u001b[33m\"\u001b[39m)\n",
      "\u001b[31mValueError\u001b[39m: Node `Validation` already present."
     ]
    }
   ],
   "source": [
    "# Define validation node (updated)\n",
    "def validation_node(state):\n",
    "    response = state.get(\"response\", \"\")\n",
    "    if not response:\n",
    "        print(\"❌ Empty response - Sending back to Supervisor\")\n",
    "        return {\"validated\": False, \"response\": response}\n",
    "    try:\n",
    "        parsed = OutputModel.model_validate({\"response\": response})\n",
    "        print(\"✅ Validation Passed\")\n",
    "        return {\"validated\": True, \"response\": response}\n",
    "    except ValidationError as e:\n",
    "        print(f\"❌ Validation Failed: {e}\")\n",
    "        return {\"validated\": False, \"response\": response}\n",
    "\n",
    "# Add this node to the workflow\n",
    "workflow.add_node(\"Validation\", validation_node)\n",
    "\n",
    "# Conditional routing after validation\n",
    "from langgraph.graph import Send\n",
    "\n",
    "def validation_router(state):\n",
    "    if not state.get(\"validated\"):\n",
    "        return Send(\"Supervisor\")\n",
    "    else:\n",
    "        return Send(\"Final Output\")\n",
    "\n",
    "\n",
    "workflow.add_node(\"Validation Router\", validation_router)\n",
    "\n",
    "# Now wire the edges\n",
    "workflow.add_edge(\"LLM Call\", \"Validation\")\n",
    "workflow.add_edge(\"RAG\", \"Validation\")\n",
    "workflow.add_edge(\"Web Crawler\", \"Validation\")\n",
    "workflow.add_edge(\"Validation\", \"Validation Router\")\n",
    "workflow.add_edge(\"Validation Router\", \"Final Output\")\n",
    "workflow.add_edge(\"Validation Router\", \"Supervisor\")  # fallback\n"
   ]
  },
  {
   "cell_type": "code",
   "execution_count": 56,
   "id": "1d414061",
   "metadata": {},
   "outputs": [
    {
     "ename": "ValueError",
     "evalue": "Found edge starting at unknown node 'LLM Call'",
     "output_type": "error",
     "traceback": [
      "\u001b[31m---------------------------------------------------------------------------\u001b[39m",
      "\u001b[31mValueError\u001b[39m                                Traceback (most recent call last)",
      "\u001b[36mCell\u001b[39m\u001b[36m \u001b[39m\u001b[32mIn[56]\u001b[39m\u001b[32m, line 1\u001b[39m\n\u001b[32m----> \u001b[39m\u001b[32m1\u001b[39m app = \u001b[43mworkflow\u001b[49m\u001b[43m.\u001b[49m\u001b[43mcompile\u001b[49m\u001b[43m(\u001b[49m\u001b[43m)\u001b[49m\n",
      "\u001b[36mFile \u001b[39m\u001b[32mc:\\Users\\aditi_zg48xl\\Downloads\\Agentic AI\\venv\\Lib\\site-packages\\langgraph\\graph\\state.py:612\u001b[39m, in \u001b[36mStateGraph.compile\u001b[39m\u001b[34m(self, checkpointer, cache, store, interrupt_before, interrupt_after, debug, name)\u001b[39m\n\u001b[32m    609\u001b[39m interrupt_after = interrupt_after \u001b[38;5;129;01mor\u001b[39;00m []\n\u001b[32m    611\u001b[39m \u001b[38;5;66;03m# validate the graph\u001b[39;00m\n\u001b[32m--> \u001b[39m\u001b[32m612\u001b[39m \u001b[38;5;28;43mself\u001b[39;49m\u001b[43m.\u001b[49m\u001b[43mvalidate\u001b[49m\u001b[43m(\u001b[49m\n\u001b[32m    613\u001b[39m \u001b[43m    \u001b[49m\u001b[43minterrupt\u001b[49m\u001b[43m=\u001b[49m\u001b[43m(\u001b[49m\n\u001b[32m    614\u001b[39m \u001b[43m        \u001b[49m\u001b[43m(\u001b[49m\u001b[43minterrupt_before\u001b[49m\u001b[43m \u001b[49m\u001b[38;5;28;43;01mif\u001b[39;49;00m\u001b[43m \u001b[49m\u001b[43minterrupt_before\u001b[49m\u001b[43m \u001b[49m\u001b[43m!=\u001b[49m\u001b[43m \u001b[49m\u001b[33;43m\"\u001b[39;49m\u001b[33;43m*\u001b[39;49m\u001b[33;43m\"\u001b[39;49m\u001b[43m \u001b[49m\u001b[38;5;28;43;01melse\u001b[39;49;00m\u001b[43m \u001b[49m\u001b[43m[\u001b[49m\u001b[43m]\u001b[49m\u001b[43m)\u001b[49m\u001b[43m \u001b[49m\u001b[43m+\u001b[49m\u001b[43m \u001b[49m\u001b[43minterrupt_after\u001b[49m\n\u001b[32m    615\u001b[39m \u001b[43m        \u001b[49m\u001b[38;5;28;43;01mif\u001b[39;49;00m\u001b[43m \u001b[49m\u001b[43minterrupt_after\u001b[49m\u001b[43m \u001b[49m\u001b[43m!=\u001b[49m\u001b[43m \u001b[49m\u001b[33;43m\"\u001b[39;49m\u001b[33;43m*\u001b[39;49m\u001b[33;43m\"\u001b[39;49m\n\u001b[32m    616\u001b[39m \u001b[43m        \u001b[49m\u001b[38;5;28;43;01melse\u001b[39;49;00m\u001b[43m \u001b[49m\u001b[43m[\u001b[49m\u001b[43m]\u001b[49m\n\u001b[32m    617\u001b[39m \u001b[43m    \u001b[49m\u001b[43m)\u001b[49m\n\u001b[32m    618\u001b[39m \u001b[43m\u001b[49m\u001b[43m)\u001b[49m\n\u001b[32m    620\u001b[39m \u001b[38;5;66;03m# prepare output channels\u001b[39;00m\n\u001b[32m    621\u001b[39m output_channels = (\n\u001b[32m    622\u001b[39m     \u001b[33m\"\u001b[39m\u001b[33m__root__\u001b[39m\u001b[33m\"\u001b[39m\n\u001b[32m    623\u001b[39m     \u001b[38;5;28;01mif\u001b[39;00m \u001b[38;5;28mlen\u001b[39m(\u001b[38;5;28mself\u001b[39m.schemas[\u001b[38;5;28mself\u001b[39m.output]) == \u001b[32m1\u001b[39m\n\u001b[32m   (...)\u001b[39m\u001b[32m    629\u001b[39m     ]\n\u001b[32m    630\u001b[39m )\n",
      "\u001b[36mFile \u001b[39m\u001b[32mc:\\Users\\aditi_zg48xl\\Downloads\\Agentic AI\\venv\\Lib\\site-packages\\langgraph\\graph\\graph.py:274\u001b[39m, in \u001b[36mGraph.validate\u001b[39m\u001b[34m(self, interrupt)\u001b[39m\n\u001b[32m    272\u001b[39m \u001b[38;5;28;01mfor\u001b[39;00m source \u001b[38;5;129;01min\u001b[39;00m all_sources:\n\u001b[32m    273\u001b[39m     \u001b[38;5;28;01mif\u001b[39;00m source \u001b[38;5;129;01mnot\u001b[39;00m \u001b[38;5;129;01min\u001b[39;00m \u001b[38;5;28mself\u001b[39m.nodes \u001b[38;5;129;01mand\u001b[39;00m source != START:\n\u001b[32m--> \u001b[39m\u001b[32m274\u001b[39m         \u001b[38;5;28;01mraise\u001b[39;00m \u001b[38;5;167;01mValueError\u001b[39;00m(\u001b[33mf\u001b[39m\u001b[33m\"\u001b[39m\u001b[33mFound edge starting at unknown node \u001b[39m\u001b[33m'\u001b[39m\u001b[38;5;132;01m{\u001b[39;00msource\u001b[38;5;132;01m}\u001b[39;00m\u001b[33m'\u001b[39m\u001b[33m\"\u001b[39m)\n\u001b[32m    276\u001b[39m \u001b[38;5;28;01mif\u001b[39;00m START \u001b[38;5;129;01mnot\u001b[39;00m \u001b[38;5;129;01min\u001b[39;00m all_sources:\n\u001b[32m    277\u001b[39m     \u001b[38;5;28;01mraise\u001b[39;00m \u001b[38;5;167;01mValueError\u001b[39;00m(\n\u001b[32m    278\u001b[39m         \u001b[33m\"\u001b[39m\u001b[33mGraph must have an entrypoint: add at least one edge from START to another node\u001b[39m\u001b[33m\"\u001b[39m\n\u001b[32m    279\u001b[39m     )\n",
      "\u001b[31mValueError\u001b[39m: Found edge starting at unknown node 'LLM Call'"
     ]
    }
   ],
   "source": [
    "app = workflow.compile()"
   ]
  },
  {
   "cell_type": "code",
   "execution_count": 52,
   "id": "6c5dd345",
   "metadata": {},
   "outputs": [],
   "source": [
    "from IPython.display import Image,display"
   ]
  },
  {
   "cell_type": "code",
   "execution_count": 57,
   "id": "346e1f94",
   "metadata": {},
   "outputs": [
    {
     "ename": "NameError",
     "evalue": "name 'app' is not defined",
     "output_type": "error",
     "traceback": [
      "\u001b[31m---------------------------------------------------------------------------\u001b[39m",
      "\u001b[31mNameError\u001b[39m                                 Traceback (most recent call last)",
      "\u001b[36mCell\u001b[39m\u001b[36m \u001b[39m\u001b[32mIn[57]\u001b[39m\u001b[32m, line 1\u001b[39m\n\u001b[32m----> \u001b[39m\u001b[32m1\u001b[39m display(Image(\u001b[43mapp\u001b[49m.get_graph().draw_mermaid_png()))\n",
      "\u001b[31mNameError\u001b[39m: name 'app' is not defined"
     ]
    }
   ],
   "source": [
    "display(Image(app.get_graph().draw_mermaid_png()))"
   ]
  },
  {
   "cell_type": "markdown",
   "id": "95bf7131",
   "metadata": {},
   "source": [
    "#### Testing"
   ]
  },
  {
   "cell_type": "code",
   "execution_count": 137,
   "id": "58ad9f42",
   "metadata": {},
   "outputs": [],
   "source": [
    "state={\"messages\":[\"Hi\"]}"
   ]
  },
  {
   "cell_type": "code",
   "execution_count": 138,
   "id": "00957c0d",
   "metadata": {},
   "outputs": [
    {
     "name": "stdout",
     "output_type": "stream",
     "text": [
      "Question: Hi\n",
      "Parsed response: Topic='LLM'\n",
      "->-> Router ->->\n",
      "Routing topic: llm\n",
      "->-> LLM Call ->->\n",
      "-> RAG Call ->\n",
      "->-> Web Search Call ->->\n",
      "Search Result: The leading online auction platform. Sell, search, bid, and win on Antiques, Collectibles, Coins, Estate & Personal Property, Cars & Trucks, Toys and more. Learn how to greet people in different situations with various expressions, from formal to funny. Discover the origin, meaning and usage of the word \"hi\" and its alternatives in English. Hawaii (/ h ə ˈ w aɪ. i / ⓘ hə-WY-ee; [11] Hawaiian: Hawaiʻi [həˈvɐjʔi, həˈwɐjʔi]) is an island state of the United States, in the Pacific Ocean about 2,000 miles (3,200 km) southwest of the U.S. mainland. One of the two non-contiguous U.S. states (along with Alaska), it is the only state not on the North American mainland, the only state that is an archipelago, and the only ... The best way to meet is to start with a greeting. And the most accurate way is by saying a simple 'Hi!\". However, it might get a bit boring to start a conversation with a hi. So, to make you sound more interesting, I have written other ways to say hi to anyone. Enjoy reading through them! 1. Hello . 2. How are things? 3. How's your day ... Cute Ways To Say Hi (Text or In Person) Sometimes, you want to be a little sweet with your \"hi\"—perfect for a crush or a close friend: \"Hey cutie, did it hurt when you fell from the vending machine? 'Cause you're a snack!\" \"Hi-hi! Hope your day's as cute as your smile!\" \"Hey you! Just popped in to remind you how awesome ...\n",
      "LLM Raw Response: content='Hello! How can I help you today?' additional_kwargs={'refusal': None} response_metadata={'token_usage': {'completion_tokens': 148, 'prompt_tokens': 22, 'total_tokens': 170, 'completion_tokens_details': {'accepted_prediction_tokens': 0, 'audio_tokens': 0, 'reasoning_tokens': 128, 'rejected_prediction_tokens': 0}, 'prompt_tokens_details': {'audio_tokens': 0, 'cached_tokens': 0}}, 'model_name': 'o1-mini-2024-09-12', 'system_fingerprint': 'fp_3da8b0b088', 'id': 'chatcmpl-BhIvbzs5ciJWL3JPG3RmeHjzUuvIo', 'service_tier': 'default', 'finish_reason': 'stop', 'logprobs': None} id='run--47912a4e-6814-425c-93ac-262cf89a50df-0' usage_metadata={'input_tokens': 22, 'output_tokens': 148, 'total_tokens': 170, 'input_token_details': {'audio': 0, 'cache_read': 0}, 'output_token_details': {'audio': 0, 'reasoning': 128}}\n"
     ]
    },
    {
     "ename": "InvalidUpdateError",
     "evalue": "Expected dict, got Supervisor\nFor troubleshooting, visit: https://python.langchain.com/docs/troubleshooting/errors/INVALID_GRAPH_NODE_RETURN_VALUE",
     "output_type": "error",
     "traceback": [
      "\u001b[31m---------------------------------------------------------------------------\u001b[39m",
      "\u001b[31mInvalidUpdateError\u001b[39m                        Traceback (most recent call last)",
      "\u001b[36mCell\u001b[39m\u001b[36m \u001b[39m\u001b[32mIn[138]\u001b[39m\u001b[32m, line 1\u001b[39m\n\u001b[32m----> \u001b[39m\u001b[32m1\u001b[39m \u001b[43mworkflow\u001b[49m\u001b[43m.\u001b[49m\u001b[43mcompile\u001b[49m\u001b[43m(\u001b[49m\u001b[43m)\u001b[49m\u001b[43m.\u001b[49m\u001b[43minvoke\u001b[49m\u001b[43m(\u001b[49m\u001b[43mstate\u001b[49m\u001b[43m)\u001b[49m\n",
      "\u001b[36mFile \u001b[39m\u001b[32mc:\\Users\\aditi_zg48xl\\Downloads\\Agentic AI\\venv\\Lib\\site-packages\\langgraph\\pregel\\__init__.py:2719\u001b[39m, in \u001b[36mPregel.invoke\u001b[39m\u001b[34m(self, input, config, stream_mode, output_keys, interrupt_before, interrupt_after, checkpoint_during, debug, **kwargs)\u001b[39m\n\u001b[32m   2716\u001b[39m chunks: \u001b[38;5;28mlist\u001b[39m[Union[\u001b[38;5;28mdict\u001b[39m[\u001b[38;5;28mstr\u001b[39m, Any], Any]] = []\n\u001b[32m   2717\u001b[39m interrupts: \u001b[38;5;28mlist\u001b[39m[Interrupt] = []\n\u001b[32m-> \u001b[39m\u001b[32m2719\u001b[39m \u001b[43m\u001b[49m\u001b[38;5;28;43;01mfor\u001b[39;49;00m\u001b[43m \u001b[49m\u001b[43mchunk\u001b[49m\u001b[43m \u001b[49m\u001b[38;5;129;43;01min\u001b[39;49;00m\u001b[43m \u001b[49m\u001b[38;5;28;43mself\u001b[39;49m\u001b[43m.\u001b[49m\u001b[43mstream\u001b[49m\u001b[43m(\u001b[49m\n\u001b[32m   2720\u001b[39m \u001b[43m    \u001b[49m\u001b[38;5;28;43minput\u001b[39;49m\u001b[43m,\u001b[49m\n\u001b[32m   2721\u001b[39m \u001b[43m    \u001b[49m\u001b[43mconfig\u001b[49m\u001b[43m,\u001b[49m\n\u001b[32m   2722\u001b[39m \u001b[43m    \u001b[49m\u001b[43mstream_mode\u001b[49m\u001b[43m=\u001b[49m\u001b[43mstream_mode\u001b[49m\u001b[43m,\u001b[49m\n\u001b[32m   2723\u001b[39m \u001b[43m    \u001b[49m\u001b[43moutput_keys\u001b[49m\u001b[43m=\u001b[49m\u001b[43moutput_keys\u001b[49m\u001b[43m,\u001b[49m\n\u001b[32m   2724\u001b[39m \u001b[43m    \u001b[49m\u001b[43minterrupt_before\u001b[49m\u001b[43m=\u001b[49m\u001b[43minterrupt_before\u001b[49m\u001b[43m,\u001b[49m\n\u001b[32m   2725\u001b[39m \u001b[43m    \u001b[49m\u001b[43minterrupt_after\u001b[49m\u001b[43m=\u001b[49m\u001b[43minterrupt_after\u001b[49m\u001b[43m,\u001b[49m\n\u001b[32m   2726\u001b[39m \u001b[43m    \u001b[49m\u001b[43mcheckpoint_during\u001b[49m\u001b[43m=\u001b[49m\u001b[43mcheckpoint_during\u001b[49m\u001b[43m,\u001b[49m\n\u001b[32m   2727\u001b[39m \u001b[43m    \u001b[49m\u001b[43mdebug\u001b[49m\u001b[43m=\u001b[49m\u001b[43mdebug\u001b[49m\u001b[43m,\u001b[49m\n\u001b[32m   2728\u001b[39m \u001b[43m    \u001b[49m\u001b[43m*\u001b[49m\u001b[43m*\u001b[49m\u001b[43mkwargs\u001b[49m\u001b[43m,\u001b[49m\n\u001b[32m   2729\u001b[39m \u001b[43m\u001b[49m\u001b[43m)\u001b[49m\u001b[43m:\u001b[49m\n\u001b[32m   2730\u001b[39m \u001b[43m    \u001b[49m\u001b[38;5;28;43;01mif\u001b[39;49;00m\u001b[43m \u001b[49m\u001b[43mstream_mode\u001b[49m\u001b[43m \u001b[49m\u001b[43m==\u001b[49m\u001b[43m \u001b[49m\u001b[33;43m\"\u001b[39;49m\u001b[33;43mvalues\u001b[39;49m\u001b[33;43m\"\u001b[39;49m\u001b[43m:\u001b[49m\n\u001b[32m   2731\u001b[39m \u001b[43m        \u001b[49m\u001b[38;5;28;43;01mif\u001b[39;49;00m\u001b[43m \u001b[49m\u001b[43m(\u001b[49m\n\u001b[32m   2732\u001b[39m \u001b[43m            \u001b[49m\u001b[38;5;28;43misinstance\u001b[39;49m\u001b[43m(\u001b[49m\u001b[43mchunk\u001b[49m\u001b[43m,\u001b[49m\u001b[43m \u001b[49m\u001b[38;5;28;43mdict\u001b[39;49m\u001b[43m)\u001b[49m\n\u001b[32m   2733\u001b[39m \u001b[43m            \u001b[49m\u001b[38;5;129;43;01mand\u001b[39;49;00m\u001b[43m \u001b[49m\u001b[43m(\u001b[49m\u001b[43mints\u001b[49m\u001b[43m \u001b[49m\u001b[43m:=\u001b[49m\u001b[43m \u001b[49m\u001b[43mchunk\u001b[49m\u001b[43m.\u001b[49m\u001b[43mget\u001b[49m\u001b[43m(\u001b[49m\u001b[43mINTERRUPT\u001b[49m\u001b[43m)\u001b[49m\u001b[43m)\u001b[49m\u001b[43m \u001b[49m\u001b[38;5;129;43;01mis\u001b[39;49;00m\u001b[43m \u001b[49m\u001b[38;5;129;43;01mnot\u001b[39;49;00m\u001b[43m \u001b[49m\u001b[38;5;28;43;01mNone\u001b[39;49;00m\n\u001b[32m   2734\u001b[39m \u001b[43m        \u001b[49m\u001b[43m)\u001b[49m\u001b[43m:\u001b[49m\n",
      "\u001b[36mFile \u001b[39m\u001b[32mc:\\Users\\aditi_zg48xl\\Downloads\\Agentic AI\\venv\\Lib\\site-packages\\langgraph\\pregel\\__init__.py:2436\u001b[39m, in \u001b[36mPregel.stream\u001b[39m\u001b[34m(self, input, config, stream_mode, output_keys, interrupt_before, interrupt_after, checkpoint_during, debug, subgraphs)\u001b[39m\n\u001b[32m   2434\u001b[39m         \u001b[38;5;28;01mfor\u001b[39;00m task \u001b[38;5;129;01min\u001b[39;00m loop.match_cached_writes():\n\u001b[32m   2435\u001b[39m             loop.output_writes(task.id, task.writes, cached=\u001b[38;5;28;01mTrue\u001b[39;00m)\n\u001b[32m-> \u001b[39m\u001b[32m2436\u001b[39m \u001b[43m        \u001b[49m\u001b[38;5;28;43;01mfor\u001b[39;49;00m\u001b[43m \u001b[49m\u001b[43m_\u001b[49m\u001b[43m \u001b[49m\u001b[38;5;129;43;01min\u001b[39;49;00m\u001b[43m \u001b[49m\u001b[43mrunner\u001b[49m\u001b[43m.\u001b[49m\u001b[43mtick\u001b[49m\u001b[43m(\u001b[49m\n\u001b[32m   2437\u001b[39m \u001b[43m            \u001b[49m\u001b[43m[\u001b[49m\u001b[43mt\u001b[49m\u001b[43m \u001b[49m\u001b[38;5;28;43;01mfor\u001b[39;49;00m\u001b[43m \u001b[49m\u001b[43mt\u001b[49m\u001b[43m \u001b[49m\u001b[38;5;129;43;01min\u001b[39;49;00m\u001b[43m \u001b[49m\u001b[43mloop\u001b[49m\u001b[43m.\u001b[49m\u001b[43mtasks\u001b[49m\u001b[43m.\u001b[49m\u001b[43mvalues\u001b[49m\u001b[43m(\u001b[49m\u001b[43m)\u001b[49m\u001b[43m \u001b[49m\u001b[38;5;28;43;01mif\u001b[39;49;00m\u001b[43m \u001b[49m\u001b[38;5;129;43;01mnot\u001b[39;49;00m\u001b[43m \u001b[49m\u001b[43mt\u001b[49m\u001b[43m.\u001b[49m\u001b[43mwrites\u001b[49m\u001b[43m]\u001b[49m\u001b[43m,\u001b[49m\n\u001b[32m   2438\u001b[39m \u001b[43m            \u001b[49m\u001b[43mtimeout\u001b[49m\u001b[43m=\u001b[49m\u001b[38;5;28;43mself\u001b[39;49m\u001b[43m.\u001b[49m\u001b[43mstep_timeout\u001b[49m\u001b[43m,\u001b[49m\n\u001b[32m   2439\u001b[39m \u001b[43m            \u001b[49m\u001b[43mget_waiter\u001b[49m\u001b[43m=\u001b[49m\u001b[43mget_waiter\u001b[49m\u001b[43m,\u001b[49m\n\u001b[32m   2440\u001b[39m \u001b[43m            \u001b[49m\u001b[43mschedule_task\u001b[49m\u001b[43m=\u001b[49m\u001b[43mloop\u001b[49m\u001b[43m.\u001b[49m\u001b[43maccept_push\u001b[49m\u001b[43m,\u001b[49m\n\u001b[32m   2441\u001b[39m \u001b[43m        \u001b[49m\u001b[43m)\u001b[49m\u001b[43m:\u001b[49m\n\u001b[32m   2442\u001b[39m \u001b[43m            \u001b[49m\u001b[38;5;66;43;03m# emit output\u001b[39;49;00m\n\u001b[32m   2443\u001b[39m \u001b[43m            \u001b[49m\u001b[38;5;28;43;01myield from\u001b[39;49;00m\u001b[43m \u001b[49m\u001b[43moutput\u001b[49m\u001b[43m(\u001b[49m\u001b[43m)\u001b[49m\n\u001b[32m   2444\u001b[39m \u001b[38;5;66;03m# emit output\u001b[39;00m\n",
      "\u001b[36mFile \u001b[39m\u001b[32mc:\\Users\\aditi_zg48xl\\Downloads\\Agentic AI\\venv\\Lib\\site-packages\\langgraph\\pregel\\runner.py:161\u001b[39m, in \u001b[36mPregelRunner.tick\u001b[39m\u001b[34m(self, tasks, reraise, timeout, retry_policy, get_waiter, schedule_task)\u001b[39m\n\u001b[32m    159\u001b[39m t = tasks[\u001b[32m0\u001b[39m]\n\u001b[32m    160\u001b[39m \u001b[38;5;28;01mtry\u001b[39;00m:\n\u001b[32m--> \u001b[39m\u001b[32m161\u001b[39m     \u001b[43mrun_with_retry\u001b[49m\u001b[43m(\u001b[49m\n\u001b[32m    162\u001b[39m \u001b[43m        \u001b[49m\u001b[43mt\u001b[49m\u001b[43m,\u001b[49m\n\u001b[32m    163\u001b[39m \u001b[43m        \u001b[49m\u001b[43mretry_policy\u001b[49m\u001b[43m,\u001b[49m\n\u001b[32m    164\u001b[39m \u001b[43m        \u001b[49m\u001b[43mconfigurable\u001b[49m\u001b[43m=\u001b[49m\u001b[43m{\u001b[49m\n\u001b[32m    165\u001b[39m \u001b[43m            \u001b[49m\u001b[43mCONFIG_KEY_CALL\u001b[49m\u001b[43m:\u001b[49m\u001b[43m \u001b[49m\u001b[43mpartial\u001b[49m\u001b[43m(\u001b[49m\n\u001b[32m    166\u001b[39m \u001b[43m                \u001b[49m\u001b[43m_call\u001b[49m\u001b[43m,\u001b[49m\n\u001b[32m    167\u001b[39m \u001b[43m                \u001b[49m\u001b[43mweakref\u001b[49m\u001b[43m.\u001b[49m\u001b[43mref\u001b[49m\u001b[43m(\u001b[49m\u001b[43mt\u001b[49m\u001b[43m)\u001b[49m\u001b[43m,\u001b[49m\n\u001b[32m    168\u001b[39m \u001b[43m                \u001b[49m\u001b[43mretry\u001b[49m\u001b[43m=\u001b[49m\u001b[43mretry_policy\u001b[49m\u001b[43m,\u001b[49m\n\u001b[32m    169\u001b[39m \u001b[43m                \u001b[49m\u001b[43mfutures\u001b[49m\u001b[43m=\u001b[49m\u001b[43mweakref\u001b[49m\u001b[43m.\u001b[49m\u001b[43mref\u001b[49m\u001b[43m(\u001b[49m\u001b[43mfutures\u001b[49m\u001b[43m)\u001b[49m\u001b[43m,\u001b[49m\n\u001b[32m    170\u001b[39m \u001b[43m                \u001b[49m\u001b[43mschedule_task\u001b[49m\u001b[43m=\u001b[49m\u001b[43mschedule_task\u001b[49m\u001b[43m,\u001b[49m\n\u001b[32m    171\u001b[39m \u001b[43m                \u001b[49m\u001b[43msubmit\u001b[49m\u001b[43m=\u001b[49m\u001b[38;5;28;43mself\u001b[39;49m\u001b[43m.\u001b[49m\u001b[43msubmit\u001b[49m\u001b[43m,\u001b[49m\n\u001b[32m    172\u001b[39m \u001b[43m            \u001b[49m\u001b[43m)\u001b[49m\u001b[43m,\u001b[49m\n\u001b[32m    173\u001b[39m \u001b[43m        \u001b[49m\u001b[43m}\u001b[49m\u001b[43m,\u001b[49m\n\u001b[32m    174\u001b[39m \u001b[43m    \u001b[49m\u001b[43m)\u001b[49m\n\u001b[32m    175\u001b[39m     \u001b[38;5;28mself\u001b[39m.commit(t, \u001b[38;5;28;01mNone\u001b[39;00m)\n\u001b[32m    176\u001b[39m \u001b[38;5;28;01mexcept\u001b[39;00m \u001b[38;5;167;01mException\u001b[39;00m \u001b[38;5;28;01mas\u001b[39;00m exc:\n",
      "\u001b[36mFile \u001b[39m\u001b[32mc:\\Users\\aditi_zg48xl\\Downloads\\Agentic AI\\venv\\Lib\\site-packages\\langgraph\\pregel\\retry.py:40\u001b[39m, in \u001b[36mrun_with_retry\u001b[39m\u001b[34m(task, retry_policy, configurable)\u001b[39m\n\u001b[32m     38\u001b[39m     task.writes.clear()\n\u001b[32m     39\u001b[39m     \u001b[38;5;66;03m# run the task\u001b[39;00m\n\u001b[32m---> \u001b[39m\u001b[32m40\u001b[39m     \u001b[38;5;28;01mreturn\u001b[39;00m \u001b[43mtask\u001b[49m\u001b[43m.\u001b[49m\u001b[43mproc\u001b[49m\u001b[43m.\u001b[49m\u001b[43minvoke\u001b[49m\u001b[43m(\u001b[49m\u001b[43mtask\u001b[49m\u001b[43m.\u001b[49m\u001b[43minput\u001b[49m\u001b[43m,\u001b[49m\u001b[43m \u001b[49m\u001b[43mconfig\u001b[49m\u001b[43m)\u001b[49m\n\u001b[32m     41\u001b[39m \u001b[38;5;28;01mexcept\u001b[39;00m ParentCommand \u001b[38;5;28;01mas\u001b[39;00m exc:\n\u001b[32m     42\u001b[39m     ns: \u001b[38;5;28mstr\u001b[39m = config[CONF][CONFIG_KEY_CHECKPOINT_NS]\n",
      "\u001b[36mFile \u001b[39m\u001b[32mc:\\Users\\aditi_zg48xl\\Downloads\\Agentic AI\\venv\\Lib\\site-packages\\langgraph\\utils\\runnable.py:625\u001b[39m, in \u001b[36mRunnableSeq.invoke\u001b[39m\u001b[34m(self, input, config, **kwargs)\u001b[39m\n\u001b[32m    623\u001b[39m                 \u001b[38;5;28minput\u001b[39m = context.run(step.invoke, \u001b[38;5;28minput\u001b[39m, config, **kwargs)\n\u001b[32m    624\u001b[39m         \u001b[38;5;28;01melse\u001b[39;00m:\n\u001b[32m--> \u001b[39m\u001b[32m625\u001b[39m             \u001b[38;5;28minput\u001b[39m = \u001b[43mstep\u001b[49m\u001b[43m.\u001b[49m\u001b[43minvoke\u001b[49m\u001b[43m(\u001b[49m\u001b[38;5;28;43minput\u001b[39;49m\u001b[43m,\u001b[49m\u001b[43m \u001b[49m\u001b[43mconfig\u001b[49m\u001b[43m)\u001b[49m\n\u001b[32m    626\u001b[39m \u001b[38;5;66;03m# finish the root run\u001b[39;00m\n\u001b[32m    627\u001b[39m \u001b[38;5;28;01mexcept\u001b[39;00m \u001b[38;5;167;01mBaseException\u001b[39;00m \u001b[38;5;28;01mas\u001b[39;00m e:\n",
      "\u001b[36mFile \u001b[39m\u001b[32mc:\\Users\\aditi_zg48xl\\Downloads\\Agentic AI\\venv\\Lib\\site-packages\\langgraph\\utils\\runnable.py:377\u001b[39m, in \u001b[36mRunnableCallable.invoke\u001b[39m\u001b[34m(self, input, config, **kwargs)\u001b[39m\n\u001b[32m    375\u001b[39m         run_manager.on_chain_end(ret)\n\u001b[32m    376\u001b[39m \u001b[38;5;28;01melse\u001b[39;00m:\n\u001b[32m--> \u001b[39m\u001b[32m377\u001b[39m     ret = \u001b[38;5;28;43mself\u001b[39;49m\u001b[43m.\u001b[49m\u001b[43mfunc\u001b[49m\u001b[43m(\u001b[49m\u001b[43m*\u001b[49m\u001b[43margs\u001b[49m\u001b[43m,\u001b[49m\u001b[43m \u001b[49m\u001b[43m*\u001b[49m\u001b[43m*\u001b[49m\u001b[43mkwargs\u001b[49m\u001b[43m)\u001b[49m\n\u001b[32m    378\u001b[39m \u001b[38;5;28;01mif\u001b[39;00m \u001b[38;5;28mself\u001b[39m.recurse \u001b[38;5;129;01mand\u001b[39;00m \u001b[38;5;28misinstance\u001b[39m(ret, Runnable):\n\u001b[32m    379\u001b[39m     \u001b[38;5;28;01mreturn\u001b[39;00m ret.invoke(\u001b[38;5;28minput\u001b[39m, config)\n",
      "\u001b[36mFile \u001b[39m\u001b[32mc:\\Users\\aditi_zg48xl\\Downloads\\Agentic AI\\venv\\Lib\\site-packages\\langgraph\\pregel\\write.py:99\u001b[39m, in \u001b[36mChannelWrite._write\u001b[39m\u001b[34m(self, input, config)\u001b[39m\n\u001b[32m     90\u001b[39m \u001b[38;5;28;01mdef\u001b[39;00m\u001b[38;5;250m \u001b[39m\u001b[34m_write\u001b[39m(\u001b[38;5;28mself\u001b[39m, \u001b[38;5;28minput\u001b[39m: Any, config: RunnableConfig) -> \u001b[38;5;28;01mNone\u001b[39;00m:\n\u001b[32m     91\u001b[39m     writes = [\n\u001b[32m     92\u001b[39m         ChannelWriteEntry(write.channel, \u001b[38;5;28minput\u001b[39m, write.skip_none, write.mapper)\n\u001b[32m     93\u001b[39m         \u001b[38;5;28;01mif\u001b[39;00m \u001b[38;5;28misinstance\u001b[39m(write, ChannelWriteEntry) \u001b[38;5;129;01mand\u001b[39;00m write.value \u001b[38;5;129;01mis\u001b[39;00m PASSTHROUGH\n\u001b[32m   (...)\u001b[39m\u001b[32m     97\u001b[39m         \u001b[38;5;28;01mfor\u001b[39;00m write \u001b[38;5;129;01min\u001b[39;00m \u001b[38;5;28mself\u001b[39m.writes\n\u001b[32m     98\u001b[39m     ]\n\u001b[32m---> \u001b[39m\u001b[32m99\u001b[39m     \u001b[38;5;28;43mself\u001b[39;49m\u001b[43m.\u001b[49m\u001b[43mdo_write\u001b[49m\u001b[43m(\u001b[49m\n\u001b[32m    100\u001b[39m \u001b[43m        \u001b[49m\u001b[43mconfig\u001b[49m\u001b[43m,\u001b[49m\n\u001b[32m    101\u001b[39m \u001b[43m        \u001b[49m\u001b[43mwrites\u001b[49m\u001b[43m,\u001b[49m\n\u001b[32m    102\u001b[39m \u001b[43m    \u001b[49m\u001b[43m)\u001b[49m\n\u001b[32m    103\u001b[39m     \u001b[38;5;28;01mreturn\u001b[39;00m \u001b[38;5;28minput\u001b[39m\n",
      "\u001b[36mFile \u001b[39m\u001b[32mc:\\Users\\aditi_zg48xl\\Downloads\\Agentic AI\\venv\\Lib\\site-packages\\langgraph\\pregel\\write.py:142\u001b[39m, in \u001b[36mChannelWrite.do_write\u001b[39m\u001b[34m(config, writes, allow_passthrough, require_at_least_one_of)\u001b[39m\n\u001b[32m    139\u001b[39m \u001b[38;5;66;03m# if we want to persist writes found before hitting a ParentCommand\u001b[39;00m\n\u001b[32m    140\u001b[39m \u001b[38;5;66;03m# can move this to a finally block\u001b[39;00m\n\u001b[32m    141\u001b[39m write: TYPE_SEND = config[CONF][CONFIG_KEY_SEND]\n\u001b[32m--> \u001b[39m\u001b[32m142\u001b[39m write(\u001b[43m_assemble_writes\u001b[49m\u001b[43m(\u001b[49m\u001b[43mwrites\u001b[49m\u001b[43m)\u001b[49m)\n",
      "\u001b[36mFile \u001b[39m\u001b[32mc:\\Users\\aditi_zg48xl\\Downloads\\Agentic AI\\venv\\Lib\\site-packages\\langgraph\\pregel\\write.py:199\u001b[39m, in \u001b[36m_assemble_writes\u001b[39m\u001b[34m(writes)\u001b[39m\n\u001b[32m    197\u001b[39m     tuples.append((TASKS, w))\n\u001b[32m    198\u001b[39m \u001b[38;5;28;01melif\u001b[39;00m \u001b[38;5;28misinstance\u001b[39m(w, ChannelWriteTupleEntry):\n\u001b[32m--> \u001b[39m\u001b[32m199\u001b[39m     \u001b[38;5;28;01mif\u001b[39;00m ww := \u001b[43mw\u001b[49m\u001b[43m.\u001b[49m\u001b[43mmapper\u001b[49m\u001b[43m(\u001b[49m\u001b[43mw\u001b[49m\u001b[43m.\u001b[49m\u001b[43mvalue\u001b[49m\u001b[43m)\u001b[49m:\n\u001b[32m    200\u001b[39m         tuples.extend(ww)\n\u001b[32m    201\u001b[39m \u001b[38;5;28;01melif\u001b[39;00m \u001b[38;5;28misinstance\u001b[39m(w, ChannelWriteEntry):\n",
      "\u001b[36mFile \u001b[39m\u001b[32mc:\\Users\\aditi_zg48xl\\Downloads\\Agentic AI\\venv\\Lib\\site-packages\\langgraph\\graph\\state.py:770\u001b[39m, in \u001b[36mCompiledStateGraph.attach_node.<locals>._get_updates\u001b[39m\u001b[34m(input)\u001b[39m\n\u001b[32m    765\u001b[39m \u001b[38;5;28;01melse\u001b[39;00m:\n\u001b[32m    766\u001b[39m     msg = create_error_message(\n\u001b[32m    767\u001b[39m         message=\u001b[33mf\u001b[39m\u001b[33m\"\u001b[39m\u001b[33mExpected dict, got \u001b[39m\u001b[38;5;132;01m{\u001b[39;00m\u001b[38;5;28minput\u001b[39m\u001b[38;5;132;01m}\u001b[39;00m\u001b[33m\"\u001b[39m,\n\u001b[32m    768\u001b[39m         error_code=ErrorCode.INVALID_GRAPH_NODE_RETURN_VALUE,\n\u001b[32m    769\u001b[39m     )\n\u001b[32m--> \u001b[39m\u001b[32m770\u001b[39m     \u001b[38;5;28;01mraise\u001b[39;00m InvalidUpdateError(msg)\n",
      "\u001b[31mInvalidUpdateError\u001b[39m: Expected dict, got Supervisor\nFor troubleshooting, visit: https://python.langchain.com/docs/troubleshooting/errors/INVALID_GRAPH_NODE_RETURN_VALUE",
      "During task with name 'Post-Validation Router' and id '1770a22d-dd92-ff78-fb1d-a2075cfb6cb8'"
     ]
    }
   ],
   "source": [
    "workflow.compile().invoke(state)"
   ]
  },
  {
   "cell_type": "code",
   "execution_count": null,
   "id": "c2bb772a",
   "metadata": {},
   "outputs": [],
   "source": [
    "state={\"messages\":[\"What are genetic diseases\"]}"
   ]
  },
  {
   "cell_type": "code",
   "execution_count": null,
   "id": "9962d918",
   "metadata": {},
   "outputs": [],
   "source": []
  }
 ],
 "metadata": {
  "kernelspec": {
   "display_name": "venv",
   "language": "python",
   "name": "python3"
  },
  "language_info": {
   "codemirror_mode": {
    "name": "ipython",
    "version": 3
   },
   "file_extension": ".py",
   "mimetype": "text/x-python",
   "name": "python",
   "nbconvert_exporter": "python",
   "pygments_lexer": "ipython3",
   "version": "3.13.2"
  }
 },
 "nbformat": 4,
 "nbformat_minor": 5
}
