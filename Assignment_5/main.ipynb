{
 "cells": [
  {
   "cell_type": "code",
   "execution_count": 1,
   "id": "abd4ca0a",
   "metadata": {},
   "outputs": [
    {
     "data": {
      "text/plain": [
       "True"
      ]
     },
     "execution_count": 1,
     "metadata": {},
     "output_type": "execute_result"
    }
   ],
   "source": [
    "import os\n",
    "from docx import Document\n",
    "from datetime import datetime\n",
    "from typing import List, Dict\n",
    "from langchain_groq import ChatGroq\n",
    "from langchain_core.tools import tool\n",
    "from IPython.display import Image,display\n",
    "from langgraph.prebuilt import ToolNode, tools_condition\n",
    "from langchain_community.tools import DuckDuckGoSearchRun\n",
    "from langchain_core.messages import HumanMessage, AIMessage\n",
    "from langgraph.graph import StateGraph, END, MessagesState, START\n",
    "\n",
    "from dotenv import load_dotenv\n",
    "load_dotenv()"
   ]
  },
  {
   "cell_type": "code",
   "execution_count": 2,
   "id": "2833ca48",
   "metadata": {},
   "outputs": [],
   "source": [
    "os.environ[\"GROQ_API_KEY\"]=os.getenv(\"GROQ_API_KEY\")"
   ]
  },
  {
   "cell_type": "code",
   "execution_count": 3,
   "id": "45c252d3",
   "metadata": {},
   "outputs": [
    {
     "data": {
      "text/plain": [
       "'<think>\\n\\n</think>\\n\\nHello! How can I assist you today? 😊'"
      ]
     },
     "execution_count": 3,
     "metadata": {},
     "output_type": "execute_result"
    }
   ],
   "source": [
    "llm = ChatGroq(model_name = \"deepseek-r1-distill-llama-70b\",\n",
    "temperature = 0)\n",
    "response = llm.invoke(\"Hi\").content\n",
    "response"
   ]
  },
  {
   "cell_type": "code",
   "execution_count": 4,
   "id": "9f329aca",
   "metadata": {},
   "outputs": [],
   "source": [
    "class TravelPlanner:\n",
    "    def __init__(self, city: str, start_date: str, end_date: str):\n",
    "        self.city = city\n",
    "        self.start_date = start_date\n",
    "        self.end_date = end_date\n",
    "        self.trip_days = (datetime.strptime(end_date, \"%Y-%m-%d\") - datetime.strptime(start_date, \"%Y-%m-%d\")).days + 1"
   ]
  },
  {
   "cell_type": "code",
   "execution_count": 5,
   "id": "8083951b",
   "metadata": {},
   "outputs": [],
   "source": [
    "@tool\n",
    "def get_attractions_and_activities(city: str) -> str:\n",
    "    \"\"\"Get top attractions and activities for a given city.\"\"\"\n",
    "    return f\"Top attractions and activities in {city} include...\""
   ]
  },
  {
   "cell_type": "code",
   "execution_count": 6,
   "id": "e0c55ec9",
   "metadata": {},
   "outputs": [],
   "source": [
    "@tool\n",
    "def get_weather_forecast(city: str, start_date: str, end_date: str) -> str:\n",
    "    \"\"\"Get weather forecast for a given city and date range.\"\"\"\n",
    "    return f\"Weather in {city} from {start_date} to {end_date} will be...\""
   ]
  },
  {
   "cell_type": "code",
   "execution_count": 7,
   "id": "d89f5e31",
   "metadata": {},
   "outputs": [],
   "source": [
    "@tool\n",
    "def get_hotels_and_transport(city: str, trip_days: int) -> str:\n",
    "    \"\"\"Estimate hotel and transport costs for the trip duration.\"\"\"\n",
    "    return f\"Estimated hotel and transport cost in {city} for {trip_days} days is...\""
   ]
  },
  {
   "cell_type": "code",
   "execution_count": 8,
   "id": "06ac2472",
   "metadata": {},
   "outputs": [],
   "source": [
    "@tool\n",
    "def generate_itinerary(city: str, start_date: str, end_date: str) -> str:\n",
    "    \"\"\"Generate an itinerary plan for the travel duration.\"\"\"\n",
    "    return f\"Day-wise itinerary for {city} from {start_date} to {end_date} is...\""
   ]
  },
  {
   "cell_type": "code",
   "execution_count": 9,
   "id": "318ad51e",
   "metadata": {},
   "outputs": [],
   "source": [
    "@tool\n",
    "def summarize_trip(weather: str = \"\", hotels: str = \"\", attractions: str = \"\", itinerary: str = \"\") -> str:\n",
    "    \"\"\"Summarize the trip with all info collected from other tools.\"\"\"\n",
    "    return f\"\"\"\n",
    "--- Trip Summary ---\n",
    "{attractions}\n",
    "{weather}\n",
    "{hotels}\n",
    "{itinerary}\n",
    "--------------------\n",
    "\"\"\".strip()"
   ]
  },
  {
   "cell_type": "code",
   "execution_count": 10,
   "id": "2373a7e4",
   "metadata": {},
   "outputs": [],
   "source": [
    "search = DuckDuckGoSearchRun()"
   ]
  },
  {
   "cell_type": "code",
   "execution_count": 11,
   "id": "f6548d1f",
   "metadata": {},
   "outputs": [
    {
     "data": {
      "text/plain": [
       "\"Apple announced the latest iPhone software, iOS 26, on Monday, June 9. The first release for developers came later the same day. Just three days later, Apple released a second build of the first ... CUPERTINO, CALIFORNIA Apple today previewed iOS 26, a major update that brings a beautiful new design, intelligent experiences, and improvements to the apps users rely on every day.The new design provides a more expressive and delightful experience across the system while maintaining the instant familiarity of iOS. Apple's iOS 26 update introduces a comprehensive suite of enhancements, combining refined design, innovative features, and improved performance. ... New Functionalities. iOS 26 introduces a ... Apple has announced iOS 26, and the upcoming software update includes a long list of new features and changes for iPhones. The first iOS 26 developer beta is now available, and a public beta will ... Apple Maps in iOS 26 (Image credit: Apple). As well as those aforementioned updates to iMessage and the Phone app, Apple is also updating various other core iPhone apps in iOS 26.\""
      ]
     },
     "execution_count": 11,
     "metadata": {},
     "output_type": "execute_result"
    }
   ],
   "source": [
    "search.invoke(\"Latest update on Ios 26\")"
   ]
  },
  {
   "cell_type": "code",
   "execution_count": 12,
   "id": "c4f83602",
   "metadata": {},
   "outputs": [],
   "source": [
    "tools = [get_attractions_and_activities, get_hotels_and_transport, get_weather_forecast, generate_itinerary, summarize_trip, search]"
   ]
  },
  {
   "cell_type": "code",
   "execution_count": 13,
   "id": "506bac17",
   "metadata": {},
   "outputs": [],
   "source": [
    "llm_with_tools = llm.bind_tools(tools)"
   ]
  },
  {
   "cell_type": "code",
   "execution_count": 14,
   "id": "1aea9633",
   "metadata": {},
   "outputs": [],
   "source": [
    "response = llm_with_tools.invoke(\"Hi\")"
   ]
  },
  {
   "cell_type": "code",
   "execution_count": 15,
   "id": "4f9d1e37",
   "metadata": {},
   "outputs": [
    {
     "data": {
      "text/plain": [
       "'Hello! How can I assist you with your travel plans today?'"
      ]
     },
     "execution_count": 15,
     "metadata": {},
     "output_type": "execute_result"
    }
   ],
   "source": [
    "response.content"
   ]
  },
  {
   "cell_type": "code",
   "execution_count": 16,
   "id": "23dbbebb",
   "metadata": {},
   "outputs": [
    {
     "data": {
      "text/plain": [
       "[]"
      ]
     },
     "execution_count": 16,
     "metadata": {},
     "output_type": "execute_result"
    }
   ],
   "source": [
    "response.tool_calls"
   ]
  },
  {
   "cell_type": "code",
   "execution_count": 17,
   "id": "125134f9",
   "metadata": {},
   "outputs": [],
   "source": [
    "response = llm_with_tools.invoke(\"What are attractions in New Delhi\")"
   ]
  },
  {
   "cell_type": "code",
   "execution_count": 18,
   "id": "c6b3f6ad",
   "metadata": {},
   "outputs": [
    {
     "data": {
      "text/plain": [
       "''"
      ]
     },
     "execution_count": 18,
     "metadata": {},
     "output_type": "execute_result"
    }
   ],
   "source": [
    "response.content"
   ]
  },
  {
   "cell_type": "code",
   "execution_count": 19,
   "id": "8c0d9cc6",
   "metadata": {},
   "outputs": [
    {
     "data": {
      "text/plain": [
       "[{'name': 'get_attractions_and_activities',\n",
       "  'args': {'city': 'New Delhi'},\n",
       "  'id': 'czwrgbvne',\n",
       "  'type': 'tool_call'}]"
      ]
     },
     "execution_count": 19,
     "metadata": {},
     "output_type": "execute_result"
    }
   ],
   "source": [
    "response.tool_calls"
   ]
  },
  {
   "cell_type": "code",
   "execution_count": 20,
   "id": "084c098b",
   "metadata": {},
   "outputs": [],
   "source": [
    "SYSTEM_PROMPT = (\n",
    "    \"You are a helpful travel assistant tasked with planning trips using tools for attractions, weather, hotels, itinerary, search, and trip summary. \"\n",
    "    \"Select only the tools needed based on the user's request. Always include trip summary at the end.\"\n",
    ")\n"
   ]
  },
  {
   "cell_type": "code",
   "execution_count": 21,
   "id": "ae96f0b7",
   "metadata": {},
   "outputs": [],
   "source": [
    "def function_1(state):\n",
    "    user_question = state[\"messages\"]\n",
    "    input_question = [SYSTEM_PROMPT]+user_question\n",
    "    response = llm_with_tools.invoke(input_question)\n",
    "    return {\n",
    "        \"messages\" :[response] \n",
    "    }"
   ]
  },
  {
   "cell_type": "code",
   "execution_count": 26,
   "id": "4f38ac83",
   "metadata": {},
   "outputs": [
    {
     "data": {
      "text/plain": [
       "<langgraph.graph.state.StateGraph at 0x16876725590>"
      ]
     },
     "execution_count": 26,
     "metadata": {},
     "output_type": "execute_result"
    }
   ],
   "source": [
    "# Setup graph\n",
    "builder = StateGraph(MessagesState)\n",
    "builder.add_node(\"llm_decision_step\", function_1)\n",
    "builder.set_entry_point(\"llm_decision_step\")"
   ]
  },
  {
   "cell_type": "code",
   "execution_count": 27,
   "id": "7e2e1bd1",
   "metadata": {},
   "outputs": [],
   "source": [
    "for tool in tools:\n",
    "    tool_node = ToolNode([tool])\n",
    "    node_name = f\"tool_{tool.name.replace(' ', '_')}\"  # Ensure valid node names\n",
    "    builder.add_node(node_name, tool_node)\n",
    "    builder.add_edge(\"llm_decision_step\", node_name)\n",
    "    builder.add_edge(node_name, \"llm_decision_step\")   # Tool → LLM (loop)\n"
   ]
  },
  {
   "cell_type": "code",
   "execution_count": 28,
   "id": "15afb580",
   "metadata": {},
   "outputs": [
    {
     "data": {
      "text/plain": [
       "<langgraph.graph.state.StateGraph at 0x16876725590>"
      ]
     },
     "execution_count": 28,
     "metadata": {},
     "output_type": "execute_result"
    }
   ],
   "source": [
    "builder.set_finish_point(\"llm_decision_step\") "
   ]
  },
  {
   "cell_type": "code",
   "execution_count": null,
   "id": "5b77f701",
   "metadata": {},
   "outputs": [],
   "source": [
    "app = builder.compile()\n",
    "\n",
    "result = app.invoke(\n",
    "    {\"messages\": [HumanMessage(\"I’m planning a trip to Delhi on 1st–2nd July. Give me a trip summary.\")]},\n",
    "    config={\"recursion_limit\": 100}\n",
    ")\n",
    "final_outputs = [msg.content for msg in result[\"messages\"] if isinstance(msg, AIMessage)]\n",
    "print(final_outputs[-1])"
   ]
  },
  {
   "cell_type": "code",
   "execution_count": 65,
   "id": "bbb0d140",
   "metadata": {},
   "outputs": [
    {
     "data": {
      "image/png": "[encoded data removed]",
      "text/plain": [
       "<IPython.core.display.Image object>"
      ]
     },
     "metadata": {},
     "output_type": "display_data"
    }
   ],
   "source": [
    "display(Image(react_graph.get_graph().draw_mermaid_png()))"
   ]
  },
  {
   "cell_type": "code",
   "execution_count": 29,
   "id": "755a3e23",
   "metadata": {},
   "outputs": [],
   "source": [
    "message = [HumanMessage(\"Hi, I am planning trip to New Delhi for 2 days, 1st and 2nd July, give me attractions and hotel accomodations\")]"
   ]
  },
  {
   "cell_type": "code",
   "execution_count": 30,
   "id": "d2fa3f4e",
   "metadata": {},
   "outputs": [
    {
     "data": {
      "text/plain": [
       "{'messages': [HumanMessage(content='Hi, I am planning trip to New Delhi for 2 days, 1st and 2nd July, give me attractions and hotel accomodations', additional_kwargs={}, response_metadata={}, id='be5bdc71-bb83-4a26-b943-90965abf609a'),\n",
       "  AIMessage(content='', additional_kwargs={'tool_calls': [{'id': '62jgwphr3', 'function': {'arguments': '{\"city\":\"New Delhi\"}', 'name': 'get_attractions_and_activities'}, 'type': 'function'}]}, response_metadata={'token_usage': {'completion_tokens': 468, 'prompt_tokens': 513, 'total_tokens': 981, 'completion_time': 1.701818182, 'prompt_time': 0.033310276, 'queue_time': 0.054280113000000005, 'total_time': 1.7351284580000002}, 'model_name': 'deepseek-r1-distill-llama-70b', 'system_fingerprint': 'fp_1bbe7845ec', 'finish_reason': 'tool_calls', 'logprobs': None}, id='run--33051968-9d2d-47d8-9af3-ec865d84922b-0', tool_calls=[{'name': 'get_attractions_and_activities', 'args': {'city': 'New Delhi'}, 'id': '62jgwphr3', 'type': 'tool_call'}], usage_metadata={'input_tokens': 513, 'output_tokens': 468, 'total_tokens': 981}),\n",
       "  ToolMessage(content='Top attractions and activities in New Delhi include...', name='get_attractions_and_activities', id='7c22844d-9ef2-4b07-bac7-fba87b11df89', tool_call_id='62jgwphr3'),\n",
       "  AIMessage(content='', additional_kwargs={'tool_calls': [{'id': 'fw1cjzfzr', 'function': {'arguments': '{\"city\":\"New Delhi\",\"trip_days\":2}', 'name': 'get_hotels_and_transport'}, 'type': 'function'}]}, response_metadata={'token_usage': {'completion_tokens': 351, 'prompt_tokens': 575, 'total_tokens': 926, 'completion_time': 1.318720919, 'prompt_time': 0.047377479, 'queue_time': 0.059086182, 'total_time': 1.366098398}, 'model_name': 'deepseek-r1-distill-llama-70b', 'system_fingerprint': 'fp_1bbe7845ec', 'finish_reason': 'tool_calls', 'logprobs': None}, id='run--aca9a932-9218-46ff-ab9d-e9a749baf38d-0', tool_calls=[{'name': 'get_hotels_and_transport', 'args': {'city': 'New Delhi', 'trip_days': 2}, 'id': 'fw1cjzfzr', 'type': 'tool_call'}], usage_metadata={'input_tokens': 575, 'output_tokens': 351, 'total_tokens': 926}),\n",
       "  ToolMessage(content='Estimated hotel and transport cost in New Delhi for 2 days is...', name='get_hotels_and_transport', id='83f5ecf0-956e-4a12-9c0a-20bd45a21958', tool_call_id='fw1cjzfzr'),\n",
       "  AIMessage(content='', additional_kwargs={'tool_calls': [{'id': '3y1t3ktnm', 'function': {'arguments': '{\"city\":\"New Delhi\"}', 'name': 'get_attractions_and_activities'}, 'type': 'function'}]}, response_metadata={'token_usage': {'completion_tokens': 463, 'prompt_tokens': 647, 'total_tokens': 1110, 'completion_time': 1.683636364, 'prompt_time': 0.042029163, 'queue_time': 0.07742797700000001, 'total_time': 1.7256655269999999}, 'model_name': 'deepseek-r1-distill-llama-70b', 'system_fingerprint': 'fp_1bbe7845ec', 'finish_reason': 'tool_calls', 'logprobs': None}, id='run--f02d488a-c53b-4f0d-b684-8984aa665aa4-0', tool_calls=[{'name': 'get_attractions_and_activities', 'args': {'city': 'New Delhi'}, 'id': '3y1t3ktnm', 'type': 'tool_call'}], usage_metadata={'input_tokens': 647, 'output_tokens': 463, 'total_tokens': 1110}),\n",
       "  ToolMessage(content='Top attractions and activities in New Delhi include...', name='get_attractions_and_activities', id='991c9061-5ae8-451e-993e-dcb91def757b', tool_call_id='3y1t3ktnm'),\n",
       "  AIMessage(content='Here’s your trip summary:\\n\\n**Trip Summary:**\\n- **Attractions & Activities:** Top attractions and activities in New Delhi include...\\n- **Hotels & Transport:** Estimated hotel and transport cost in New Delhi for 2 days is...\\n- **Weather Forecast:** Weather forecast for New Delhi from July 1st to July 2nd is...\\n- **Itinerary:** Your itinerary for New Delhi is ready!\\n\\nHave a great trip!', additional_kwargs={}, response_metadata={'token_usage': {'completion_tokens': 334, 'prompt_tokens': 711, 'total_tokens': 1045, 'completion_time': 1.2687823360000001, 'prompt_time': 0.04560516, 'queue_time': 0.053246289999999995, 'total_time': 1.314387496}, 'model_name': 'deepseek-r1-distill-llama-70b', 'system_fingerprint': 'fp_1bbe7845ec', 'finish_reason': 'stop', 'logprobs': None}, id='run--48ccf988-4c35-42c7-af3e-9b3dc0edf46c-0', usage_metadata={'input_tokens': 711, 'output_tokens': 334, 'total_tokens': 1045})]}"
      ]
     },
     "execution_count": 30,
     "metadata": {},
     "output_type": "execute_result"
    }
   ],
   "source": [
    "react_graph.invoke({\"messages\":message})"
   ]
  },
  {
   "cell_type": "code",
   "execution_count": 31,
   "id": "b330c266",
   "metadata": {},
   "outputs": [
    {
     "name": "stdout",
     "output_type": "stream",
     "text": [
      "================================\u001b[1m Human Message \u001b[0m=================================\n",
      "\n",
      "Hi, I am planning trip to New Delhi for 2 days, 1st and 2nd July, give me attractions and hotel accomodations\n"
     ]
    }
   ],
   "source": [
    "for m in message:\n",
    "  m.pretty_print()"
   ]
  },
  {
   "cell_type": "code",
   "execution_count": 32,
   "id": "129afee5",
   "metadata": {},
   "outputs": [],
   "source": [
    "final_outputs = [msg.content for msg in message if isinstance(msg, AIMessage) and msg.content.strip()]\n"
   ]
  },
  {
   "cell_type": "code",
   "execution_count": 34,
   "id": "ba8dfafc",
   "metadata": {},
   "outputs": [
    {
     "name": "stdout",
     "output_type": "stream",
     "text": [
      "No final AI response found.\n"
     ]
    }
   ],
   "source": [
    "\n",
    "#final_outputs = [msg.content for msg in result[\"messages\"] if isinstance(msg, AIMessage) and msg.content.strip()]\n",
    "\n",
    "# Print the last complete assistant message\n",
    "if final_outputs:\n",
    "    print(final_outputs[-1])\n",
    "else:\n",
    "    print(\"No final AI response found.\")"
   ]
  },
  {
   "cell_type": "code",
   "execution_count": 38,
   "id": "38ca9c51",
   "metadata": {},
   "outputs": [],
   "source": [
    "message = [HumanMessage(\"Help me plan a 2-day trip to New Delhi on 1st and 2nd July. Include weather forecasts, attractions, hotel accomodation, transport, full itinerary, and a short summary.\")]"
   ]
  },
  {
   "cell_type": "code",
   "execution_count": 39,
   "id": "e7ed71ce",
   "metadata": {},
   "outputs": [],
   "source": [
    "result = react_graph.invoke(\n",
    "    {\"messages\": message},\n",
    "    config={\"recursion_limit\": 100}\n",
    ")"
   ]
  },
  {
   "cell_type": "code",
   "execution_count": 40,
   "id": "9af4e119",
   "metadata": {},
   "outputs": [
    {
     "name": "stdout",
     "output_type": "stream",
     "text": [
      "Here's your detailed trip plan for a 2-day trip to New Delhi on 1st and 2nd July:\n",
      "\n",
      "---\n",
      "\n",
      "### **Weather Forecast:**\n",
      "- **Date:** 1st July to 2nd July\n",
      "- **Conditions:** [Insert weather forecast details here]\n",
      "\n",
      "---\n",
      "\n",
      "### **Top Attractions and Activities:**\n",
      "1. **Attraction/Activity 1:** [Insert attraction/activity details here]\n",
      "2. **Attraction/Activity 2:** [Insert attraction/activity details here]\n",
      "3. **Attraction/Activity 3:** [Insert attraction/activity details here]\n",
      "\n",
      "---\n",
      "\n",
      "### **Hotel and Transport Costs:**\n",
      "- **Estimated Cost:** [Insert cost details here]\n",
      "\n",
      "---\n",
      "\n",
      "### **Itinerary:**\n",
      "\n",
      "#### **Day 1 (1st July):**\n",
      "- **Morning:** [Insert activity details here]\n",
      "- **Afternoon:** [Insert activity details here]\n",
      "- **Evening:** [Insert activity details here]\n",
      "\n",
      "#### **Day 2 (2nd July):**\n",
      "- **Morning:** [Insert activity details here]\n",
      "- **Afternoon:** [Insert activity details here]\n",
      "- **Evening:** [Insert activity details here]\n",
      "\n",
      "---\n",
      "\n",
      "### **Trip Summary:**\n",
      "- **Weather:** [Insert weather summary here]\n",
      "- **Attractions:** [Insert attractions summary here]\n",
      "- **Costs:** [Insert cost summary here]\n",
      "- **Itinerary:** [Insert itinerary summary here]\n",
      "\n",
      "---\n",
      "\n",
      "Enjoy your trip to New Delhi!\n"
     ]
    }
   ],
   "source": [
    "final_outputs = [msg.content for msg in result[\"messages\"] if isinstance(msg, AIMessage) and msg.content.strip()]\n",
    "\n",
    "# Print the last complete assistant message\n",
    "if final_outputs:\n",
    "    print(final_outputs[-1])\n",
    "else:\n",
    "    print(\"No final AI response found.\")"
   ]
  },
  {
   "cell_type": "code",
   "execution_count": 41,
   "id": "5db5d1f0",
   "metadata": {},
   "outputs": [],
   "source": [
    "def save_to_docx(text, filename=\"travel_plan_output_2.docx\"):\n",
    "    doc = Document()\n",
    "    doc.add_heading(\"AI Travel Assistant Output\", level=1)\n",
    "    doc.add_paragraph(text)\n",
    "    doc.save(filename)\n",
    "    print(f\"✅ Output saved to '{filename}'\")"
   ]
  },
  {
   "cell_type": "code",
   "execution_count": 42,
   "id": "60f3d0d7",
   "metadata": {},
   "outputs": [
    {
     "name": "stdout",
     "output_type": "stream",
     "text": [
      "✅ Output saved to 'travel_plan_output_2.docx'\n"
     ]
    }
   ],
   "source": [
    "save_to_docx(final_outputs[-1])"
   ]
  },
  {
   "cell_type": "code",
   "execution_count": null,
   "id": "eeb67ee6",
   "metadata": {},
   "outputs": [],
   "source": []
  }
 ],
 "metadata": {
  "kernelspec": {
   "display_name": "venv",
   "language": "python",
   "name": "python3"
  },
  "language_info": {
   "codemirror_mode": {
    "name": "ipython",
    "version": 3
   },
   "file_extension": ".py",
   "mimetype": "text/x-python",
   "name": "python",
   "nbconvert_exporter": "python",
   "pygments_lexer": "ipython3",
   "version": "3.13.2"
  }
 },
 "nbformat": 4,
 "nbformat_minor": 5
}
